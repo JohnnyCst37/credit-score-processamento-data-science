{
 "cells": [
  {
   "cell_type": "markdown",
   "metadata": {
    "id": "YSvaFqy0_3J-"
   },
   "source": [
    "# **MÓDULO 17 - Projeto de Credit Score - Parte 1 - Processamento dos dados**\n"
   ]
  },
  {
   "cell_type": "markdown",
   "metadata": {
    "id": "IDEjSN-aAoHC"
   },
   "source": [
    "Essa é a primeira etapa do processo de Credit Score que vocês desenvolverão durante nosso curso.\n",
    "Nessa primeira etapa vocês irão aplicar os passos aprendidos nos módulos de pré processamento para preparar a base de vocês para o desenvolvimento do modelo."
   ]
  },
  {
   "cell_type": "markdown",
   "metadata": {
    "id": "ZSQEobQYBE1h"
   },
   "source": [
    "O termo \"credit score\" se refere a uma pontuação numérica que representa a credibilidade de um indivíduo em termos de cumprimento de obrigações financeiras, como pagar contas de empréstimos, cartões de crédito, entre outros. Essa pontuação é calculada com base em diversas informações financeiras e de crédito do indivíduo, como histórico de pagamentos, níveis de endividamento, tempo de crédito, tipos de crédito utilizados, entre outros.\n",
    "\n",
    "O objetivo de um modelo de credit score é prever o risco de um indivíduo se tornar inadimplente com suas obrigações financeiras. Em outras palavras, o modelo avalia a probabilidade de um indivíduo não cumprir com os pagamentos de empréstimos ou outros compromissos financeiros. Essa previsão é fundamental para instituições financeiras, como bancos e credores, na tomada de decisão sobre a concessão de crédito. Um modelo de credit score eficaz pode ajudar essas instituições a avaliar o risco de emprestar dinheiro a um determinado indivíduo e, assim, tomar decisões mais informadas sobre a aprovação ou negação de crédito, bem como sobre os termos e condições desses empréstimos."
   ]
  },
  {
   "cell_type": "markdown",
   "metadata": {
    "id": "KkVLluwxBGLn"
   },
   "source": [
    "**Atenção:** Notem que esse projeto é diferente da base que tenho trabalhado com vocês em aula, apesar de se tratar de uma base bancária durante a aula falamos sobre a variável Churn a ser prevista, nesse caso a previsão seria do valor do Score de Crédito."
   ]
  },
  {
   "cell_type": "code",
   "execution_count": 95,
   "metadata": {
    "id": "NqAC2Vm-_TrA"
   },
   "outputs": [],
   "source": [
    "import os\n",
    "import seaborn as sns\n",
    "import pandas as pd\n",
    "import matplotlib.pyplot as plt\n",
    "import plotly.express as px\n",
    "from plotly.subplots import make_subplots\n",
    "import plotly.graph_objects as go\n",
    "\n",
    "from sklearn.model_selection import train_test_split\n",
    "from sklearn.preprocessing import MinMaxScaler\n",
    "from sklearn.preprocessing import LabelEncoder\n",
    "from imblearn.over_sampling import SMOTE\n",
    "from collections import Counter"
   ]
  },
  {
   "cell_type": "markdown",
   "metadata": {
    "id": "iT3r-w7CFnFz"
   },
   "source": [
    "Legenda dos dados:\n",
    "\n",
    "*   **Age** : Idade dos nossos clientes.\n",
    "\n",
    "*   **Income** : Salário Mensal.\n",
    "\n",
    "*   **Gender** : Gênero.\n",
    "\n",
    "*   **Education** : Nível de escolaridade dos clientes.\n",
    "\n",
    "*   **Marital** : Status Civilmente.\n",
    "\n",
    "*   **Number of Children** : Quantidade de filhos.\n",
    "\n",
    "*   **Home** : Tipo de residência, alugada ou própria.\n",
    "\n",
    "*   **Credit Score** : Nossa variável preditora, o score de crédito dos clientes.\n"
   ]
  },
  {
   "cell_type": "code",
   "execution_count": 96,
   "metadata": {
    "colab": {
     "base_uri": "https://localhost:8080/",
     "height": 363
    },
    "id": "rZIA-ZuQFI4N",
    "outputId": "ab96713f-aa54-42ac-df48-297488222c24"
   },
   "outputs": [
    {
     "data": {
      "text/html": [
       "<div>\n",
       "<style scoped>\n",
       "    .dataframe tbody tr th:only-of-type {\n",
       "        vertical-align: middle;\n",
       "    }\n",
       "\n",
       "    .dataframe tbody tr th {\n",
       "        vertical-align: top;\n",
       "    }\n",
       "\n",
       "    .dataframe thead th {\n",
       "        text-align: right;\n",
       "    }\n",
       "</style>\n",
       "<table border=\"1\" class=\"dataframe\">\n",
       "  <thead>\n",
       "    <tr style=\"text-align: right;\">\n",
       "      <th></th>\n",
       "      <th>Age</th>\n",
       "      <th>Gender</th>\n",
       "      <th>Income</th>\n",
       "      <th>Education</th>\n",
       "      <th>Marital Status</th>\n",
       "      <th>Number of Children</th>\n",
       "      <th>Home Ownership</th>\n",
       "      <th>Credit Score</th>\n",
       "    </tr>\n",
       "  </thead>\n",
       "  <tbody>\n",
       "    <tr>\n",
       "      <th>0</th>\n",
       "      <td>25.0</td>\n",
       "      <td>Female</td>\n",
       "      <td>50.000,00</td>\n",
       "      <td>Bachelor's Degree</td>\n",
       "      <td>Single</td>\n",
       "      <td>0</td>\n",
       "      <td>Rented</td>\n",
       "      <td>High</td>\n",
       "    </tr>\n",
       "    <tr>\n",
       "      <th>1</th>\n",
       "      <td>30.0</td>\n",
       "      <td>Male</td>\n",
       "      <td>100.000,00</td>\n",
       "      <td>Master's Degree</td>\n",
       "      <td>Married</td>\n",
       "      <td>2</td>\n",
       "      <td>Owned</td>\n",
       "      <td>High</td>\n",
       "    </tr>\n",
       "    <tr>\n",
       "      <th>2</th>\n",
       "      <td>35.0</td>\n",
       "      <td>Female</td>\n",
       "      <td>75.000,00</td>\n",
       "      <td>Doctorate</td>\n",
       "      <td>Married</td>\n",
       "      <td>1</td>\n",
       "      <td>Owned</td>\n",
       "      <td>High</td>\n",
       "    </tr>\n",
       "    <tr>\n",
       "      <th>3</th>\n",
       "      <td>40.0</td>\n",
       "      <td>Male</td>\n",
       "      <td>125.000,00</td>\n",
       "      <td>High School Diploma</td>\n",
       "      <td>Single</td>\n",
       "      <td>0</td>\n",
       "      <td>Owned</td>\n",
       "      <td>High</td>\n",
       "    </tr>\n",
       "    <tr>\n",
       "      <th>4</th>\n",
       "      <td>45.0</td>\n",
       "      <td>Female</td>\n",
       "      <td>100.000,00</td>\n",
       "      <td>Bachelor's Degree</td>\n",
       "      <td>Married</td>\n",
       "      <td>3</td>\n",
       "      <td>Owned</td>\n",
       "      <td>High</td>\n",
       "    </tr>\n",
       "  </tbody>\n",
       "</table>\n",
       "</div>"
      ],
      "text/plain": [
       "    Age  Gender      Income            Education Marital Status  \\\n",
       "0  25.0  Female   50.000,00    Bachelor's Degree         Single   \n",
       "1  30.0    Male  100.000,00      Master's Degree        Married   \n",
       "2  35.0  Female   75.000,00            Doctorate        Married   \n",
       "3  40.0    Male  125.000,00  High School Diploma         Single   \n",
       "4  45.0  Female  100.000,00    Bachelor's Degree        Married   \n",
       "\n",
       "   Number of Children Home Ownership Credit Score  \n",
       "0                   0         Rented         High  \n",
       "1                   2          Owned         High  \n",
       "2                   1          Owned         High  \n",
       "3                   0          Owned         High  \n",
       "4                   3          Owned         High  "
      ]
     },
     "execution_count": 96,
     "metadata": {},
     "output_type": "execute_result"
    }
   ],
   "source": [
    "#Lembrem-se sempre de alterar a importação dos dados de acordo com o diretório de vocês.\n",
    "df = pd.read_csv(r\"C:\\Users\\ferna\\Projeto_01-Credit_score\\data\\CREDIT_SCORE_PROJETO_PARTE1.csv\", delimiter=';')\n",
    "\n",
    "df.head(5)"
   ]
  },
  {
   "cell_type": "markdown",
   "metadata": {
    "id": "CLELyWezGqLj"
   },
   "source": [
    "# Etapa 1: Relize os passos que vimos no módulo 18, de pré processamento dos dados.\n",
    "\n",
    "**A) Verifique os tipos de dados, fazendo as transformações quando necessário.**\n"
   ]
  },
  {
   "cell_type": "markdown",
   "metadata": {
    "id": "AjwLsSKCKnVx"
   },
   "source": [
    "**B) Verifique se temos colunas com dados faltantes.\n",
    "Caso existam colunas com dados faltantes faça o tratamento desses dados, excluindo ou substituindo esses valores. Justifique sua escolha.**"
   ]
  },
  {
   "cell_type": "markdown",
   "metadata": {
    "id": "euKGU_e1MDC4"
   },
   "source": [
    "**C) Verifique se temos valores digitados de forma incorreta nas variáveis categóricas que necessitem de tratamento.**"
   ]
  },
  {
   "cell_type": "code",
   "execution_count": 97,
   "metadata": {},
   "outputs": [
    {
     "data": {
      "text/plain": [
       "Age                   float64\n",
       "Gender                 object\n",
       "Income                 object\n",
       "Education              object\n",
       "Marital Status         object\n",
       "Number of Children      int64\n",
       "Home Ownership         object\n",
       "Credit Score           object\n",
       "dtype: object"
      ]
     },
     "execution_count": 97,
     "metadata": {},
     "output_type": "execute_result"
    }
   ],
   "source": [
    "df.dtypes"
   ]
  },
  {
   "cell_type": "code",
   "execution_count": 98,
   "metadata": {
    "id": "Sz4VWdyEGkNw"
   },
   "outputs": [
    {
     "name": "stdout",
     "output_type": "stream",
     "text": [
      "Média de Idade Calculada para Cada Credit Score:\n",
      "Credit Score\n",
      "Average    29.258065\n",
      "High       41.590909\n",
      "Low        28.090909\n",
      "Name: Age, dtype: float64\n",
      "------------------------------------------------------------\n",
      "Imputação concluída. Nulos restantes em Age: 0\n",
      "Amostra dos Dados após Imputação:\n",
      "           Age Credit Score\n",
      "53   29.000000          Low\n",
      "123  30.000000         High\n",
      "23   53.000000         High\n",
      "61   25.000000      Average\n",
      "72   51.000000         High\n",
      "128  28.000000      Average\n",
      "112  33.000000      Average\n",
      "146  41.590909         High\n",
      "21   43.000000         High\n",
      "83   41.590909         High\n",
      "Verificação das colunas originais e normalizadas:\n",
      "    Age  Age_Normalized    Income  Income_Normalized\n",
      "0  25.0        0.000000   50000.0           0.181818\n",
      "1  30.0        0.178571  100000.0           0.545455\n",
      "2  35.0        0.357143   75000.0           0.363636\n",
      "3  40.0        0.535714  125000.0           0.727273\n",
      "4  45.0        0.714286  100000.0           0.545455\n",
      "Gender\n",
      "Female    52.439024\n",
      "Male      47.560976\n",
      "Name: count, dtype: float64\n",
      "Education\n",
      "Bachelors Degree       25.609756\n",
      "Masters Degree         21.951220\n",
      "Doctorate              18.902439\n",
      "High School Diploma    18.292683\n",
      "Associates Degree      15.243902\n",
      "Name: count, dtype: float64\n",
      "Marital Status\n",
      "Married    53.04878\n",
      "Single     46.95122\n",
      "Name: count, dtype: float64\n",
      "Home Ownership\n",
      "Owned     67.682927\n",
      "Rented    32.317073\n",
      "Name: count, dtype: float64\n",
      "Credit Score\n",
      "High       68.902439\n",
      "Average    21.951220\n",
      "Low         9.146341\n",
      "Name: count, dtype: float64\n"
     ]
    }
   ],
   "source": [
    "                                                        # LIMPEZA E CONVERSÃO \n",
    "                                    # ----------------------------------------------------------------------\n",
    "\n",
    "# Ajustando Coluna Salário maneira simples.\n",
    "# df['Income'] = df['Income'].str.replace(r'[.,]', '', regex=True)\n",
    "\n",
    "\n",
    "# AJUSTANTDO COLUNA EDUCATION\n",
    "df['Education'] = df['Education'].str.replace(\"'\", '', regex=True)\n",
    "\n",
    "\n",
    "# LIMPEZA E CONVERSÃO PARA INCOME\n",
    "\n",
    "# Definindo as colunas\n",
    "column_income = 'Income'\n",
    "column_credit_score = 'Credit Score'\n",
    "                    \n",
    "\n",
    "# Limpeza\n",
    "if df[column_income].dtype == 'object':\n",
    "    df[column_income] = (\n",
    "        df[column_income]\n",
    "        .astype(str)\n",
    "        .str.replace('R$', '', regex=False)    # Remove símbolo de moeda\n",
    "        .str.replace('$', '', regex=False)     # Remove símbolo de dólar\n",
    "        .str.replace('.', '', regex=False)     # Remove separador de milhar\n",
    "        .str.replace(',', '.', regex=False)    # Substitui vírgula por ponto decimal\n",
    "        .str.strip()\n",
    "    )\n",
    "\n",
    "# Conversão para número coluna salário\n",
    "df[column_income] = pd.to_numeric(df[column_income], errors='coerce')\n",
    "\n",
    "\n",
    "# Definindo as colunas\n",
    "column_age = 'Age'\n",
    "column_credit_score = 'Credit Score'\n",
    "                                 \n",
    "                                    # CÁLCULO DA MÉDIA DE IDADE POR GRUPO (Credit Score)\n",
    "                                 \n",
    "# Calcular a média de idade para cada tipo de Credit Score\n",
    "media_idade_por_score = df.groupby(column_credit_score)[column_age].mean()\n",
    "\n",
    "print(\"Média de Idade Calculada para Cada Credit Score:\")\n",
    "print(media_idade_por_score)\n",
    "print(\"-\" * 60)\n",
    "\n",
    "\n",
    "# IMPUTAÇÃO DOS VALORES NULOS (Usando .transform())\n",
    "\n",
    "# O método .transform('mean') calcula a média de 'Age' dentro de cada grupo\n",
    "# de 'Credit Score' e retorna um Series alinhado ao DataFrame original.\n",
    "# Isso garante que a média correta seja usada apenas para preencher os NaN\n",
    "# de cada respectivo grupo.\n",
    "\n",
    "df[column_age] = df[column_age].fillna(\n",
    "    df.groupby(column_credit_score)[column_age].transform('mean')\n",
    ")\n",
    "\n",
    "\n",
    "# VERIFICAÇÃO FINAL\n",
    "# Verificação da contagem de valores nulos\n",
    "nulos_restantes = df[column_age].isnull().sum()\n",
    "\n",
    "if nulos_restantes == 0:\n",
    "    print(f\"Imputação concluída. Nulos restantes em {column_age}: {nulos_restantes}\")\n",
    "else:\n",
    "    print(f\" Atenção: Nulos restantes em {column_age}: {nulos_restantes}\")\n",
    "    print(\"Isso pode ocorrer se existiam nulos em 'Age' E 'Credit Score' na mesma linha.\")\n",
    "   \n",
    "# Se sobrar nulo, a melhor opção é imputar com a média global da coluna:\n",
    "# df[column_age] = df[column_age].fillna(df[column_age].mean())\n",
    "\n",
    "# Exibindo o resultado da imputação para algumas linhas (opcional)\n",
    "print(\"Amostra dos Dados após Imputação:\")\n",
    "print(df[[column_age, column_credit_score]].sample(10))\n",
    "\n",
    "df.isnull().sum()/len(df)*100\n",
    "\n",
    "\n",
    "# NORMALIZAR AGE E INCOME\n",
    "\n",
    "#Inicializar o scaler\n",
    "scaler = MinMaxScaler()\n",
    "\n",
    "# Selecionar as colunas originais\n",
    "column_age = 'Age'\n",
    "column_income = 'Income'\n",
    "\n",
    "# Aplicar o fit_transform e criar as NOVAS COLUNAS\n",
    "# O MinMaxScaler precisa de um array 2D, por isso usamos [[coluna]]\n",
    "df[f'{column_age}_Normalized'] = scaler.fit_transform(df[[column_age]])\n",
    "df[f'{column_income}_Normalized'] = scaler.fit_transform(df[[column_income]])\n",
    "\n",
    "# Verificação (mostra a coluna original e a nova coluna normalizada)\n",
    "print(\"Verificação das colunas originais e normalizadas:\")\n",
    "print(df[[column_age, f'{column_age}_Normalized', column_income, f'{column_income}_Normalized']].head())\n",
    "\n",
    "\n",
    "                                    # ----------------------------------------------------------------------\n",
    "                                    # 1. VERIFICAÇÃO DE TERMOS E ERROS DE DIGITAÇÃO E PROPORÇÕES\n",
    "                                    # ----------------------------------------------------------------------\n",
    "\n",
    "frequencia_genero = (df['Gender'].value_counts()/len(df))*100\n",
    "print(frequencia_genero)\n",
    "\n",
    "frequencia_Education = (df['Education'].value_counts()/len(df))*100\n",
    "print(frequencia_Education)\n",
    "\n",
    "frequencia_Marital_Status = (df['Marital Status'].value_counts()/len(df))*100\n",
    "print(frequencia_Marital_Status)\n",
    " \n",
    "frequencia_Home_Ownership = (df['Home Ownership'].value_counts()/len(df))*100\n",
    "print(frequencia_Home_Ownership)\n",
    "\n",
    "frequencia_Credit_Score = (df['Credit Score'].value_counts()/len(df))*100\n",
    "print(frequencia_Credit_Score)\n",
    "\n",
    "\n"
   ]
  },
  {
   "cell_type": "markdown",
   "metadata": {
    "id": "bx-NFZUJMo7C"
   },
   "source": [
    "# Etapa 2: Relize os passos que vimos no módulo 15, de análise.\n",
    "\n",
    "**A) Realiza a análise univariada, aplique a função describe ao nosso dataframe para verificar os dados das variáveis numéricas, se encontrar a possível presença de outliers analise com gráficos a distribuição dos dados.Traga insights sobre os dados analisados.**"
   ]
  },
  {
   "cell_type": "markdown",
   "metadata": {
    "id": "2aYVu9voNM1t"
   },
   "source": [
    "**B) Agora realize a análise univariada para as variaveis categóricas, plote gráficos para entender a distribuição das categorias e tente retirar insights de cada gráfico.**\n",
    "**C) Você encontrou alguma coluna com outliers?\n",
    "Se sim realize o tratamento desses casos.**"
   ]
  },
  {
   "cell_type": "code",
   "execution_count": 99,
   "metadata": {
    "id": "H_aBPqQmNZ2r"
   },
   "outputs": [
    {
     "data": {
      "text/html": [
       "<div>\n",
       "<style scoped>\n",
       "    .dataframe tbody tr th:only-of-type {\n",
       "        vertical-align: middle;\n",
       "    }\n",
       "\n",
       "    .dataframe tbody tr th {\n",
       "        vertical-align: top;\n",
       "    }\n",
       "\n",
       "    .dataframe thead th {\n",
       "        text-align: right;\n",
       "    }\n",
       "</style>\n",
       "<table border=\"1\" class=\"dataframe\">\n",
       "  <thead>\n",
       "    <tr style=\"text-align: right;\">\n",
       "      <th></th>\n",
       "      <th>Age</th>\n",
       "      <th>Income</th>\n",
       "      <th>Number of Children</th>\n",
       "      <th>Age_Normalized</th>\n",
       "      <th>Income_Normalized</th>\n",
       "    </tr>\n",
       "  </thead>\n",
       "  <tbody>\n",
       "    <tr>\n",
       "      <th>count</th>\n",
       "      <td>164.000000</td>\n",
       "      <td>164.000000</td>\n",
       "      <td>164.000000</td>\n",
       "      <td>164.000000</td>\n",
       "      <td>164.000000</td>\n",
       "    </tr>\n",
       "    <tr>\n",
       "      <th>mean</th>\n",
       "      <td>37.648943</td>\n",
       "      <td>83765.243902</td>\n",
       "      <td>0.652439</td>\n",
       "      <td>0.451748</td>\n",
       "      <td>0.427384</td>\n",
       "    </tr>\n",
       "    <tr>\n",
       "      <th>std</th>\n",
       "      <td>7.998858</td>\n",
       "      <td>32457.306728</td>\n",
       "      <td>0.883346</td>\n",
       "      <td>0.285673</td>\n",
       "      <td>0.236053</td>\n",
       "    </tr>\n",
       "    <tr>\n",
       "      <th>min</th>\n",
       "      <td>25.000000</td>\n",
       "      <td>25000.000000</td>\n",
       "      <td>0.000000</td>\n",
       "      <td>0.000000</td>\n",
       "      <td>0.000000</td>\n",
       "    </tr>\n",
       "    <tr>\n",
       "      <th>25%</th>\n",
       "      <td>30.000000</td>\n",
       "      <td>57500.000000</td>\n",
       "      <td>0.000000</td>\n",
       "      <td>0.178571</td>\n",
       "      <td>0.236364</td>\n",
       "    </tr>\n",
       "    <tr>\n",
       "      <th>50%</th>\n",
       "      <td>38.500000</td>\n",
       "      <td>83750.000000</td>\n",
       "      <td>0.000000</td>\n",
       "      <td>0.482143</td>\n",
       "      <td>0.427273</td>\n",
       "    </tr>\n",
       "    <tr>\n",
       "      <th>75%</th>\n",
       "      <td>43.000000</td>\n",
       "      <td>105000.000000</td>\n",
       "      <td>1.000000</td>\n",
       "      <td>0.642857</td>\n",
       "      <td>0.581818</td>\n",
       "    </tr>\n",
       "    <tr>\n",
       "      <th>max</th>\n",
       "      <td>53.000000</td>\n",
       "      <td>162500.000000</td>\n",
       "      <td>3.000000</td>\n",
       "      <td>1.000000</td>\n",
       "      <td>1.000000</td>\n",
       "    </tr>\n",
       "  </tbody>\n",
       "</table>\n",
       "</div>"
      ],
      "text/plain": [
       "              Age         Income  Number of Children  Age_Normalized  \\\n",
       "count  164.000000     164.000000          164.000000      164.000000   \n",
       "mean    37.648943   83765.243902            0.652439        0.451748   \n",
       "std      7.998858   32457.306728            0.883346        0.285673   \n",
       "min     25.000000   25000.000000            0.000000        0.000000   \n",
       "25%     30.000000   57500.000000            0.000000        0.178571   \n",
       "50%     38.500000   83750.000000            0.000000        0.482143   \n",
       "75%     43.000000  105000.000000            1.000000        0.642857   \n",
       "max     53.000000  162500.000000            3.000000        1.000000   \n",
       "\n",
       "       Income_Normalized  \n",
       "count         164.000000  \n",
       "mean            0.427384  \n",
       "std             0.236053  \n",
       "min             0.000000  \n",
       "25%             0.236364  \n",
       "50%             0.427273  \n",
       "75%             0.581818  \n",
       "max             1.000000  "
      ]
     },
     "execution_count": 99,
     "metadata": {},
     "output_type": "execute_result"
    }
   ],
   "source": [
    "df.describe()"
   ]
  },
  {
   "cell_type": "markdown",
   "metadata": {},
   "source": [
    "## Análise Univariada\n",
    "\n",
    "1. Credit Score (Pontuação de Crédito):\n",
    "Insight: A base de clientes é majoritariamente de baixo risco, com a maior parte dos registros concentrada no score \"High\". Os scores \"Average\" e \"Low\" representam uma fatia menor, indicando que o foco da análise deve ser na diferenciação dos scores \"High\" e \"Average\".\n",
    "\n",
    "3. Age (Idade)\n",
    "Insight: A idade tem uma distribuição simétrica e relativamente concentrada (sem outliers visíveis, conforme a caixa), com a maioria dos clientes entre 28 e 45 anos (aproximadamente Q1 e Q3). A mediana está em torno de 36 anos.\n",
    "\n",
    "4. Home Ownership (Situação da Moradia)\n",
    "Insight: A maioria dos clientes tem casa própria (\"Owned\"), superando significativamente aqueles que alugam (\"Rented\"). Esta é uma característica de estabilidade na base, que se alinha à alta frequência de score \"High\".\n",
    "\n",
    "4. Income (Renda/Salário)\n",
    "Gráfico: Histograma de Densidade com Box Plot.\n",
    "Insight Curto: A distribuição da Renda é enviesada positivamente (skewed right). A maioria dos clientes tem renda concentrada entre 40k e 100k, mas há uma longa cauda de alta renda se estendendo além de 160k, o que está visível tanto no histograma quanto na extensão do Box Plot superior. Recomendação: O enviesamento e os outliers na cauda superior justificam a normalização da renda para uso em modelos de Machine Learning (o que você já fez com o MinMaxScaler).\n",
    "\n",
    "\n",
    "Não foram encontrados outiliers."
   ]
  },
  {
   "cell_type": "code",
   "execution_count": 100,
   "metadata": {
    "id": "Yup7zkKKNvfx"
   },
   "outputs": [
    {
     "data": {
      "application/vnd.plotly.v1+json": {
       "config": {
        "plotlyServerURL": "https://plot.ly"
       },
       "data": [
        {
         "domain": {
          "x": [
           0,
           1
          ],
          "y": [
           0,
           1
          ]
         },
         "hovertemplate": "Home Ownership=%{label}<extra></extra>",
         "labels": [
          "Rented",
          "Owned",
          "Owned",
          "Owned",
          "Owned",
          "Owned",
          "Rented",
          "Rented",
          "Owned",
          "Owned",
          "Owned",
          "Owned",
          "Rented",
          "Rented",
          "Owned",
          "Owned",
          "Owned",
          "Owned",
          "Rented",
          "Rented",
          "Owned",
          "Owned",
          "Owned",
          "Owned",
          "Rented",
          "Rented",
          "Owned",
          "Owned",
          "Owned",
          "Rented",
          "Owned",
          "Owned",
          "Owned",
          "Owned",
          "Owned",
          "Rented",
          "Rented",
          "Owned",
          "Owned",
          "Owned",
          "Owned",
          "Rented",
          "Rented",
          "Owned",
          "Owned",
          "Owned",
          "Owned",
          "Rented",
          "Rented",
          "Owned",
          "Owned",
          "Owned",
          "Owned",
          "Rented",
          "Rented",
          "Owned",
          "Owned",
          "Owned",
          "Rented",
          "Owned",
          "Owned",
          "Rented",
          "Owned",
          "Owned",
          "Owned",
          "Owned",
          "Owned",
          "Rented",
          "Rented",
          "Owned",
          "Owned",
          "Owned",
          "Owned",
          "Rented",
          "Rented",
          "Owned",
          "Owned",
          "Owned",
          "Owned",
          "Rented",
          "Rented",
          "Owned",
          "Owned",
          "Owned",
          "Owned",
          "Rented",
          "Rented",
          "Owned",
          "Owned",
          "Owned",
          "Rented",
          "Owned",
          "Owned",
          "Rented",
          "Owned",
          "Owned",
          "Owned",
          "Owned",
          "Owned",
          "Rented",
          "Rented",
          "Owned",
          "Owned",
          "Owned",
          "Owned",
          "Rented",
          "Rented",
          "Owned",
          "Owned",
          "Owned",
          "Owned",
          "Rented",
          "Rented",
          "Owned",
          "Owned",
          "Owned",
          "Owned",
          "Rented",
          "Rented",
          "Owned",
          "Owned",
          "Owned",
          "Rented",
          "Owned",
          "Owned",
          "Rented",
          "Owned",
          "Owned",
          "Rented",
          "Owned",
          "Rented",
          "Owned",
          "Rented",
          "Owned",
          "Rented",
          "Rented",
          "Owned",
          "Owned",
          "Owned",
          "Owned",
          "Owned",
          "Rented",
          "Rented",
          "Owned",
          "Owned",
          "Owned",
          "Owned",
          "Rented",
          "Rented",
          "Owned",
          "Owned",
          "Owned",
          "Owned",
          "Rented",
          "Rented",
          "Owned",
          "Owned",
          "Owned",
          "Owned",
          "Rented",
          "Rented",
          "Owned",
          "Owned",
          "Owned"
         ],
         "legendgroup": "",
         "name": "",
         "showlegend": true,
         "textinfo": "percent+label",
         "textposition": "inside",
         "type": "pie"
        }
       ],
       "layout": {
        "height": 400,
        "legend": {
         "tracegroupgap": 0
        },
        "piecolorway": [
         "rgb(127, 60, 141)",
         "rgb(17, 165, 121)",
         "rgb(57, 105, 172)",
         "rgb(242, 183, 1)",
         "rgb(231, 63, 116)",
         "rgb(128, 186, 90)",
         "rgb(230, 131, 16)",
         "rgb(0, 134, 149)",
         "rgb(207, 28, 144)",
         "rgb(249, 123, 114)",
         "rgb(165, 170, 153)"
        ],
        "template": {
         "data": {
          "bar": [
           {
            "error_x": {
             "color": "#2a3f5f"
            },
            "error_y": {
             "color": "#2a3f5f"
            },
            "marker": {
             "line": {
              "color": "#E5ECF6",
              "width": 0.5
             },
             "pattern": {
              "fillmode": "overlay",
              "size": 10,
              "solidity": 0.2
             }
            },
            "type": "bar"
           }
          ],
          "barpolar": [
           {
            "marker": {
             "line": {
              "color": "#E5ECF6",
              "width": 0.5
             },
             "pattern": {
              "fillmode": "overlay",
              "size": 10,
              "solidity": 0.2
             }
            },
            "type": "barpolar"
           }
          ],
          "carpet": [
           {
            "aaxis": {
             "endlinecolor": "#2a3f5f",
             "gridcolor": "white",
             "linecolor": "white",
             "minorgridcolor": "white",
             "startlinecolor": "#2a3f5f"
            },
            "baxis": {
             "endlinecolor": "#2a3f5f",
             "gridcolor": "white",
             "linecolor": "white",
             "minorgridcolor": "white",
             "startlinecolor": "#2a3f5f"
            },
            "type": "carpet"
           }
          ],
          "choropleth": [
           {
            "colorbar": {
             "outlinewidth": 0,
             "ticks": ""
            },
            "type": "choropleth"
           }
          ],
          "contour": [
           {
            "colorbar": {
             "outlinewidth": 0,
             "ticks": ""
            },
            "colorscale": [
             [
              0,
              "#0d0887"
             ],
             [
              0.1111111111111111,
              "#46039f"
             ],
             [
              0.2222222222222222,
              "#7201a8"
             ],
             [
              0.3333333333333333,
              "#9c179e"
             ],
             [
              0.4444444444444444,
              "#bd3786"
             ],
             [
              0.5555555555555556,
              "#d8576b"
             ],
             [
              0.6666666666666666,
              "#ed7953"
             ],
             [
              0.7777777777777778,
              "#fb9f3a"
             ],
             [
              0.8888888888888888,
              "#fdca26"
             ],
             [
              1,
              "#f0f921"
             ]
            ],
            "type": "contour"
           }
          ],
          "contourcarpet": [
           {
            "colorbar": {
             "outlinewidth": 0,
             "ticks": ""
            },
            "type": "contourcarpet"
           }
          ],
          "heatmap": [
           {
            "colorbar": {
             "outlinewidth": 0,
             "ticks": ""
            },
            "colorscale": [
             [
              0,
              "#0d0887"
             ],
             [
              0.1111111111111111,
              "#46039f"
             ],
             [
              0.2222222222222222,
              "#7201a8"
             ],
             [
              0.3333333333333333,
              "#9c179e"
             ],
             [
              0.4444444444444444,
              "#bd3786"
             ],
             [
              0.5555555555555556,
              "#d8576b"
             ],
             [
              0.6666666666666666,
              "#ed7953"
             ],
             [
              0.7777777777777778,
              "#fb9f3a"
             ],
             [
              0.8888888888888888,
              "#fdca26"
             ],
             [
              1,
              "#f0f921"
             ]
            ],
            "type": "heatmap"
           }
          ],
          "histogram": [
           {
            "marker": {
             "pattern": {
              "fillmode": "overlay",
              "size": 10,
              "solidity": 0.2
             }
            },
            "type": "histogram"
           }
          ],
          "histogram2d": [
           {
            "colorbar": {
             "outlinewidth": 0,
             "ticks": ""
            },
            "colorscale": [
             [
              0,
              "#0d0887"
             ],
             [
              0.1111111111111111,
              "#46039f"
             ],
             [
              0.2222222222222222,
              "#7201a8"
             ],
             [
              0.3333333333333333,
              "#9c179e"
             ],
             [
              0.4444444444444444,
              "#bd3786"
             ],
             [
              0.5555555555555556,
              "#d8576b"
             ],
             [
              0.6666666666666666,
              "#ed7953"
             ],
             [
              0.7777777777777778,
              "#fb9f3a"
             ],
             [
              0.8888888888888888,
              "#fdca26"
             ],
             [
              1,
              "#f0f921"
             ]
            ],
            "type": "histogram2d"
           }
          ],
          "histogram2dcontour": [
           {
            "colorbar": {
             "outlinewidth": 0,
             "ticks": ""
            },
            "colorscale": [
             [
              0,
              "#0d0887"
             ],
             [
              0.1111111111111111,
              "#46039f"
             ],
             [
              0.2222222222222222,
              "#7201a8"
             ],
             [
              0.3333333333333333,
              "#9c179e"
             ],
             [
              0.4444444444444444,
              "#bd3786"
             ],
             [
              0.5555555555555556,
              "#d8576b"
             ],
             [
              0.6666666666666666,
              "#ed7953"
             ],
             [
              0.7777777777777778,
              "#fb9f3a"
             ],
             [
              0.8888888888888888,
              "#fdca26"
             ],
             [
              1,
              "#f0f921"
             ]
            ],
            "type": "histogram2dcontour"
           }
          ],
          "mesh3d": [
           {
            "colorbar": {
             "outlinewidth": 0,
             "ticks": ""
            },
            "type": "mesh3d"
           }
          ],
          "parcoords": [
           {
            "line": {
             "colorbar": {
              "outlinewidth": 0,
              "ticks": ""
             }
            },
            "type": "parcoords"
           }
          ],
          "pie": [
           {
            "automargin": true,
            "type": "pie"
           }
          ],
          "scatter": [
           {
            "fillpattern": {
             "fillmode": "overlay",
             "size": 10,
             "solidity": 0.2
            },
            "type": "scatter"
           }
          ],
          "scatter3d": [
           {
            "line": {
             "colorbar": {
              "outlinewidth": 0,
              "ticks": ""
             }
            },
            "marker": {
             "colorbar": {
              "outlinewidth": 0,
              "ticks": ""
             }
            },
            "type": "scatter3d"
           }
          ],
          "scattercarpet": [
           {
            "marker": {
             "colorbar": {
              "outlinewidth": 0,
              "ticks": ""
             }
            },
            "type": "scattercarpet"
           }
          ],
          "scattergeo": [
           {
            "marker": {
             "colorbar": {
              "outlinewidth": 0,
              "ticks": ""
             }
            },
            "type": "scattergeo"
           }
          ],
          "scattergl": [
           {
            "marker": {
             "colorbar": {
              "outlinewidth": 0,
              "ticks": ""
             }
            },
            "type": "scattergl"
           }
          ],
          "scattermap": [
           {
            "marker": {
             "colorbar": {
              "outlinewidth": 0,
              "ticks": ""
             }
            },
            "type": "scattermap"
           }
          ],
          "scattermapbox": [
           {
            "marker": {
             "colorbar": {
              "outlinewidth": 0,
              "ticks": ""
             }
            },
            "type": "scattermapbox"
           }
          ],
          "scatterpolar": [
           {
            "marker": {
             "colorbar": {
              "outlinewidth": 0,
              "ticks": ""
             }
            },
            "type": "scatterpolar"
           }
          ],
          "scatterpolargl": [
           {
            "marker": {
             "colorbar": {
              "outlinewidth": 0,
              "ticks": ""
             }
            },
            "type": "scatterpolargl"
           }
          ],
          "scatterternary": [
           {
            "marker": {
             "colorbar": {
              "outlinewidth": 0,
              "ticks": ""
             }
            },
            "type": "scatterternary"
           }
          ],
          "surface": [
           {
            "colorbar": {
             "outlinewidth": 0,
             "ticks": ""
            },
            "colorscale": [
             [
              0,
              "#0d0887"
             ],
             [
              0.1111111111111111,
              "#46039f"
             ],
             [
              0.2222222222222222,
              "#7201a8"
             ],
             [
              0.3333333333333333,
              "#9c179e"
             ],
             [
              0.4444444444444444,
              "#bd3786"
             ],
             [
              0.5555555555555556,
              "#d8576b"
             ],
             [
              0.6666666666666666,
              "#ed7953"
             ],
             [
              0.7777777777777778,
              "#fb9f3a"
             ],
             [
              0.8888888888888888,
              "#fdca26"
             ],
             [
              1,
              "#f0f921"
             ]
            ],
            "type": "surface"
           }
          ],
          "table": [
           {
            "cells": {
             "fill": {
              "color": "#EBF0F8"
             },
             "line": {
              "color": "white"
             }
            },
            "header": {
             "fill": {
              "color": "#C8D4E3"
             },
             "line": {
              "color": "white"
             }
            },
            "type": "table"
           }
          ]
         },
         "layout": {
          "annotationdefaults": {
           "arrowcolor": "#2a3f5f",
           "arrowhead": 0,
           "arrowwidth": 1
          },
          "autotypenumbers": "strict",
          "coloraxis": {
           "colorbar": {
            "outlinewidth": 0,
            "ticks": ""
           }
          },
          "colorscale": {
           "diverging": [
            [
             0,
             "#8e0152"
            ],
            [
             0.1,
             "#c51b7d"
            ],
            [
             0.2,
             "#de77ae"
            ],
            [
             0.3,
             "#f1b6da"
            ],
            [
             0.4,
             "#fde0ef"
            ],
            [
             0.5,
             "#f7f7f7"
            ],
            [
             0.6,
             "#e6f5d0"
            ],
            [
             0.7,
             "#b8e186"
            ],
            [
             0.8,
             "#7fbc41"
            ],
            [
             0.9,
             "#4d9221"
            ],
            [
             1,
             "#276419"
            ]
           ],
           "sequential": [
            [
             0,
             "#0d0887"
            ],
            [
             0.1111111111111111,
             "#46039f"
            ],
            [
             0.2222222222222222,
             "#7201a8"
            ],
            [
             0.3333333333333333,
             "#9c179e"
            ],
            [
             0.4444444444444444,
             "#bd3786"
            ],
            [
             0.5555555555555556,
             "#d8576b"
            ],
            [
             0.6666666666666666,
             "#ed7953"
            ],
            [
             0.7777777777777778,
             "#fb9f3a"
            ],
            [
             0.8888888888888888,
             "#fdca26"
            ],
            [
             1,
             "#f0f921"
            ]
           ],
           "sequentialminus": [
            [
             0,
             "#0d0887"
            ],
            [
             0.1111111111111111,
             "#46039f"
            ],
            [
             0.2222222222222222,
             "#7201a8"
            ],
            [
             0.3333333333333333,
             "#9c179e"
            ],
            [
             0.4444444444444444,
             "#bd3786"
            ],
            [
             0.5555555555555556,
             "#d8576b"
            ],
            [
             0.6666666666666666,
             "#ed7953"
            ],
            [
             0.7777777777777778,
             "#fb9f3a"
            ],
            [
             0.8888888888888888,
             "#fdca26"
            ],
            [
             1,
             "#f0f921"
            ]
           ]
          },
          "colorway": [
           "#636efa",
           "#EF553B",
           "#00cc96",
           "#ab63fa",
           "#FFA15A",
           "#19d3f3",
           "#FF6692",
           "#B6E880",
           "#FF97FF",
           "#FECB52"
          ],
          "font": {
           "color": "#2a3f5f"
          },
          "geo": {
           "bgcolor": "white",
           "lakecolor": "white",
           "landcolor": "#E5ECF6",
           "showlakes": true,
           "showland": true,
           "subunitcolor": "white"
          },
          "hoverlabel": {
           "align": "left"
          },
          "hovermode": "closest",
          "mapbox": {
           "style": "light"
          },
          "paper_bgcolor": "white",
          "plot_bgcolor": "#E5ECF6",
          "polar": {
           "angularaxis": {
            "gridcolor": "white",
            "linecolor": "white",
            "ticks": ""
           },
           "bgcolor": "#E5ECF6",
           "radialaxis": {
            "gridcolor": "white",
            "linecolor": "white",
            "ticks": ""
           }
          },
          "scene": {
           "xaxis": {
            "backgroundcolor": "#E5ECF6",
            "gridcolor": "white",
            "gridwidth": 2,
            "linecolor": "white",
            "showbackground": true,
            "ticks": "",
            "zerolinecolor": "white"
           },
           "yaxis": {
            "backgroundcolor": "#E5ECF6",
            "gridcolor": "white",
            "gridwidth": 2,
            "linecolor": "white",
            "showbackground": true,
            "ticks": "",
            "zerolinecolor": "white"
           },
           "zaxis": {
            "backgroundcolor": "#E5ECF6",
            "gridcolor": "white",
            "gridwidth": 2,
            "linecolor": "white",
            "showbackground": true,
            "ticks": "",
            "zerolinecolor": "white"
           }
          },
          "shapedefaults": {
           "line": {
            "color": "#2a3f5f"
           }
          },
          "ternary": {
           "aaxis": {
            "gridcolor": "white",
            "linecolor": "white",
            "ticks": ""
           },
           "baxis": {
            "gridcolor": "white",
            "linecolor": "white",
            "ticks": ""
           },
           "bgcolor": "#E5ECF6",
           "caxis": {
            "gridcolor": "white",
            "linecolor": "white",
            "ticks": ""
           }
          },
          "title": {
           "x": 0.05
          },
          "xaxis": {
           "automargin": true,
           "gridcolor": "white",
           "linecolor": "white",
           "ticks": "",
           "title": {
            "standoff": 15
           },
           "zerolinecolor": "white",
           "zerolinewidth": 2
          },
          "yaxis": {
           "automargin": true,
           "gridcolor": "white",
           "linecolor": "white",
           "ticks": "",
           "title": {
            "standoff": 15
           },
           "zerolinecolor": "white",
           "zerolinewidth": 2
          }
         }
        },
        "title": {
         "text": "Proporção dos Tipos de Moradia"
        }
       }
      },
      "image/png": "[encoded data removed]"
     },
     "metadata": {},
     "output_type": "display_data"
    },
    {
     "data": {
      "application/vnd.plotly.v1+json": {
       "config": {
        "plotlyServerURL": "https://plot.ly"
       },
       "data": [
        {
         "hovertemplate": "Credit Score=%{x}<br>Frequência de Clientes=%{y}<extra></extra>",
         "legendgroup": "Low",
         "marker": {
          "color": "#d62728",
          "pattern": {
           "shape": ""
          }
         },
         "name": "Low",
         "orientation": "v",
         "showlegend": true,
         "textposition": "auto",
         "type": "bar",
         "x": [
          "Low"
         ],
         "xaxis": "x",
         "y": {
          "bdata": "Dw==",
          "dtype": "i1"
         },
         "yaxis": "y"
        },
        {
         "hovertemplate": "Credit Score=%{x}<br>Frequência de Clientes=%{y}<extra></extra>",
         "legendgroup": "Average",
         "marker": {
          "color": "#ff7f0e",
          "pattern": {
           "shape": ""
          }
         },
         "name": "Average",
         "orientation": "v",
         "showlegend": true,
         "textposition": "auto",
         "type": "bar",
         "x": [
          "Average"
         ],
         "xaxis": "x",
         "y": {
          "bdata": "JA==",
          "dtype": "i1"
         },
         "yaxis": "y"
        },
        {
         "hovertemplate": "Credit Score=%{x}<br>Frequência de Clientes=%{y}<extra></extra>",
         "legendgroup": "High",
         "marker": {
          "color": "#1f77b4",
          "pattern": {
           "shape": ""
          }
         },
         "name": "High",
         "orientation": "v",
         "showlegend": true,
         "textposition": "auto",
         "type": "bar",
         "x": [
          "High"
         ],
         "xaxis": "x",
         "y": {
          "bdata": "cQ==",
          "dtype": "i1"
         },
         "yaxis": "y"
        }
       ],
       "layout": {
        "barmode": "relative",
        "height": 400,
        "legend": {
         "title": {
          "text": "Credit Score"
         },
         "tracegroupgap": 0
        },
        "template": {
         "data": {
          "bar": [
           {
            "error_x": {
             "color": "#2a3f5f"
            },
            "error_y": {
             "color": "#2a3f5f"
            },
            "marker": {
             "line": {
              "color": "#E5ECF6",
              "width": 0.5
             },
             "pattern": {
              "fillmode": "overlay",
              "size": 10,
              "solidity": 0.2
             }
            },
            "type": "bar"
           }
          ],
          "barpolar": [
           {
            "marker": {
             "line": {
              "color": "#E5ECF6",
              "width": 0.5
             },
             "pattern": {
              "fillmode": "overlay",
              "size": 10,
              "solidity": 0.2
             }
            },
            "type": "barpolar"
           }
          ],
          "carpet": [
           {
            "aaxis": {
             "endlinecolor": "#2a3f5f",
             "gridcolor": "white",
             "linecolor": "white",
             "minorgridcolor": "white",
             "startlinecolor": "#2a3f5f"
            },
            "baxis": {
             "endlinecolor": "#2a3f5f",
             "gridcolor": "white",
             "linecolor": "white",
             "minorgridcolor": "white",
             "startlinecolor": "#2a3f5f"
            },
            "type": "carpet"
           }
          ],
          "choropleth": [
           {
            "colorbar": {
             "outlinewidth": 0,
             "ticks": ""
            },
            "type": "choropleth"
           }
          ],
          "contour": [
           {
            "colorbar": {
             "outlinewidth": 0,
             "ticks": ""
            },
            "colorscale": [
             [
              0,
              "#0d0887"
             ],
             [
              0.1111111111111111,
              "#46039f"
             ],
             [
              0.2222222222222222,
              "#7201a8"
             ],
             [
              0.3333333333333333,
              "#9c179e"
             ],
             [
              0.4444444444444444,
              "#bd3786"
             ],
             [
              0.5555555555555556,
              "#d8576b"
             ],
             [
              0.6666666666666666,
              "#ed7953"
             ],
             [
              0.7777777777777778,
              "#fb9f3a"
             ],
             [
              0.8888888888888888,
              "#fdca26"
             ],
             [
              1,
              "#f0f921"
             ]
            ],
            "type": "contour"
           }
          ],
          "contourcarpet": [
           {
            "colorbar": {
             "outlinewidth": 0,
             "ticks": ""
            },
            "type": "contourcarpet"
           }
          ],
          "heatmap": [
           {
            "colorbar": {
             "outlinewidth": 0,
             "ticks": ""
            },
            "colorscale": [
             [
              0,
              "#0d0887"
             ],
             [
              0.1111111111111111,
              "#46039f"
             ],
             [
              0.2222222222222222,
              "#7201a8"
             ],
             [
              0.3333333333333333,
              "#9c179e"
             ],
             [
              0.4444444444444444,
              "#bd3786"
             ],
             [
              0.5555555555555556,
              "#d8576b"
             ],
             [
              0.6666666666666666,
              "#ed7953"
             ],
             [
              0.7777777777777778,
              "#fb9f3a"
             ],
             [
              0.8888888888888888,
              "#fdca26"
             ],
             [
              1,
              "#f0f921"
             ]
            ],
            "type": "heatmap"
           }
          ],
          "histogram": [
           {
            "marker": {
             "pattern": {
              "fillmode": "overlay",
              "size": 10,
              "solidity": 0.2
             }
            },
            "type": "histogram"
           }
          ],
          "histogram2d": [
           {
            "colorbar": {
             "outlinewidth": 0,
             "ticks": ""
            },
            "colorscale": [
             [
              0,
              "#0d0887"
             ],
             [
              0.1111111111111111,
              "#46039f"
             ],
             [
              0.2222222222222222,
              "#7201a8"
             ],
             [
              0.3333333333333333,
              "#9c179e"
             ],
             [
              0.4444444444444444,
              "#bd3786"
             ],
             [
              0.5555555555555556,
              "#d8576b"
             ],
             [
              0.6666666666666666,
              "#ed7953"
             ],
             [
              0.7777777777777778,
              "#fb9f3a"
             ],
             [
              0.8888888888888888,
              "#fdca26"
             ],
             [
              1,
              "#f0f921"
             ]
            ],
            "type": "histogram2d"
           }
          ],
          "histogram2dcontour": [
           {
            "colorbar": {
             "outlinewidth": 0,
             "ticks": ""
            },
            "colorscale": [
             [
              0,
              "#0d0887"
             ],
             [
              0.1111111111111111,
              "#46039f"
             ],
             [
              0.2222222222222222,
              "#7201a8"
             ],
             [
              0.3333333333333333,
              "#9c179e"
             ],
             [
              0.4444444444444444,
              "#bd3786"
             ],
             [
              0.5555555555555556,
              "#d8576b"
             ],
             [
              0.6666666666666666,
              "#ed7953"
             ],
             [
              0.7777777777777778,
              "#fb9f3a"
             ],
             [
              0.8888888888888888,
              "#fdca26"
             ],
             [
              1,
              "#f0f921"
             ]
            ],
            "type": "histogram2dcontour"
           }
          ],
          "mesh3d": [
           {
            "colorbar": {
             "outlinewidth": 0,
             "ticks": ""
            },
            "type": "mesh3d"
           }
          ],
          "parcoords": [
           {
            "line": {
             "colorbar": {
              "outlinewidth": 0,
              "ticks": ""
             }
            },
            "type": "parcoords"
           }
          ],
          "pie": [
           {
            "automargin": true,
            "type": "pie"
           }
          ],
          "scatter": [
           {
            "fillpattern": {
             "fillmode": "overlay",
             "size": 10,
             "solidity": 0.2
            },
            "type": "scatter"
           }
          ],
          "scatter3d": [
           {
            "line": {
             "colorbar": {
              "outlinewidth": 0,
              "ticks": ""
             }
            },
            "marker": {
             "colorbar": {
              "outlinewidth": 0,
              "ticks": ""
             }
            },
            "type": "scatter3d"
           }
          ],
          "scattercarpet": [
           {
            "marker": {
             "colorbar": {
              "outlinewidth": 0,
              "ticks": ""
             }
            },
            "type": "scattercarpet"
           }
          ],
          "scattergeo": [
           {
            "marker": {
             "colorbar": {
              "outlinewidth": 0,
              "ticks": ""
             }
            },
            "type": "scattergeo"
           }
          ],
          "scattergl": [
           {
            "marker": {
             "colorbar": {
              "outlinewidth": 0,
              "ticks": ""
             }
            },
            "type": "scattergl"
           }
          ],
          "scattermap": [
           {
            "marker": {
             "colorbar": {
              "outlinewidth": 0,
              "ticks": ""
             }
            },
            "type": "scattermap"
           }
          ],
          "scattermapbox": [
           {
            "marker": {
             "colorbar": {
              "outlinewidth": 0,
              "ticks": ""
             }
            },
            "type": "scattermapbox"
           }
          ],
          "scatterpolar": [
           {
            "marker": {
             "colorbar": {
              "outlinewidth": 0,
              "ticks": ""
             }
            },
            "type": "scatterpolar"
           }
          ],
          "scatterpolargl": [
           {
            "marker": {
             "colorbar": {
              "outlinewidth": 0,
              "ticks": ""
             }
            },
            "type": "scatterpolargl"
           }
          ],
          "scatterternary": [
           {
            "marker": {
             "colorbar": {
              "outlinewidth": 0,
              "ticks": ""
             }
            },
            "type": "scatterternary"
           }
          ],
          "surface": [
           {
            "colorbar": {
             "outlinewidth": 0,
             "ticks": ""
            },
            "colorscale": [
             [
              0,
              "#0d0887"
             ],
             [
              0.1111111111111111,
              "#46039f"
             ],
             [
              0.2222222222222222,
              "#7201a8"
             ],
             [
              0.3333333333333333,
              "#9c179e"
             ],
             [
              0.4444444444444444,
              "#bd3786"
             ],
             [
              0.5555555555555556,
              "#d8576b"
             ],
             [
              0.6666666666666666,
              "#ed7953"
             ],
             [
              0.7777777777777778,
              "#fb9f3a"
             ],
             [
              0.8888888888888888,
              "#fdca26"
             ],
             [
              1,
              "#f0f921"
             ]
            ],
            "type": "surface"
           }
          ],
          "table": [
           {
            "cells": {
             "fill": {
              "color": "#EBF0F8"
             },
             "line": {
              "color": "white"
             }
            },
            "header": {
             "fill": {
              "color": "#C8D4E3"
             },
             "line": {
              "color": "white"
             }
            },
            "type": "table"
           }
          ]
         },
         "layout": {
          "annotationdefaults": {
           "arrowcolor": "#2a3f5f",
           "arrowhead": 0,
           "arrowwidth": 1
          },
          "autotypenumbers": "strict",
          "coloraxis": {
           "colorbar": {
            "outlinewidth": 0,
            "ticks": ""
           }
          },
          "colorscale": {
           "diverging": [
            [
             0,
             "#8e0152"
            ],
            [
             0.1,
             "#c51b7d"
            ],
            [
             0.2,
             "#de77ae"
            ],
            [
             0.3,
             "#f1b6da"
            ],
            [
             0.4,
             "#fde0ef"
            ],
            [
             0.5,
             "#f7f7f7"
            ],
            [
             0.6,
             "#e6f5d0"
            ],
            [
             0.7,
             "#b8e186"
            ],
            [
             0.8,
             "#7fbc41"
            ],
            [
             0.9,
             "#4d9221"
            ],
            [
             1,
             "#276419"
            ]
           ],
           "sequential": [
            [
             0,
             "#0d0887"
            ],
            [
             0.1111111111111111,
             "#46039f"
            ],
            [
             0.2222222222222222,
             "#7201a8"
            ],
            [
             0.3333333333333333,
             "#9c179e"
            ],
            [
             0.4444444444444444,
             "#bd3786"
            ],
            [
             0.5555555555555556,
             "#d8576b"
            ],
            [
             0.6666666666666666,
             "#ed7953"
            ],
            [
             0.7777777777777778,
             "#fb9f3a"
            ],
            [
             0.8888888888888888,
             "#fdca26"
            ],
            [
             1,
             "#f0f921"
            ]
           ],
           "sequentialminus": [
            [
             0,
             "#0d0887"
            ],
            [
             0.1111111111111111,
             "#46039f"
            ],
            [
             0.2222222222222222,
             "#7201a8"
            ],
            [
             0.3333333333333333,
             "#9c179e"
            ],
            [
             0.4444444444444444,
             "#bd3786"
            ],
            [
             0.5555555555555556,
             "#d8576b"
            ],
            [
             0.6666666666666666,
             "#ed7953"
            ],
            [
             0.7777777777777778,
             "#fb9f3a"
            ],
            [
             0.8888888888888888,
             "#fdca26"
            ],
            [
             1,
             "#f0f921"
            ]
           ]
          },
          "colorway": [
           "#636efa",
           "#EF553B",
           "#00cc96",
           "#ab63fa",
           "#FFA15A",
           "#19d3f3",
           "#FF6692",
           "#B6E880",
           "#FF97FF",
           "#FECB52"
          ],
          "font": {
           "color": "#2a3f5f"
          },
          "geo": {
           "bgcolor": "white",
           "lakecolor": "white",
           "landcolor": "#E5ECF6",
           "showlakes": true,
           "showland": true,
           "subunitcolor": "white"
          },
          "hoverlabel": {
           "align": "left"
          },
          "hovermode": "closest",
          "mapbox": {
           "style": "light"
          },
          "paper_bgcolor": "white",
          "plot_bgcolor": "#E5ECF6",
          "polar": {
           "angularaxis": {
            "gridcolor": "white",
            "linecolor": "white",
            "ticks": ""
           },
           "bgcolor": "#E5ECF6",
           "radialaxis": {
            "gridcolor": "white",
            "linecolor": "white",
            "ticks": ""
           }
          },
          "scene": {
           "xaxis": {
            "backgroundcolor": "#E5ECF6",
            "gridcolor": "white",
            "gridwidth": 2,
            "linecolor": "white",
            "showbackground": true,
            "ticks": "",
            "zerolinecolor": "white"
           },
           "yaxis": {
            "backgroundcolor": "#E5ECF6",
            "gridcolor": "white",
            "gridwidth": 2,
            "linecolor": "white",
            "showbackground": true,
            "ticks": "",
            "zerolinecolor": "white"
           },
           "zaxis": {
            "backgroundcolor": "#E5ECF6",
            "gridcolor": "white",
            "gridwidth": 2,
            "linecolor": "white",
            "showbackground": true,
            "ticks": "",
            "zerolinecolor": "white"
           }
          },
          "shapedefaults": {
           "line": {
            "color": "#2a3f5f"
           }
          },
          "ternary": {
           "aaxis": {
            "gridcolor": "white",
            "linecolor": "white",
            "ticks": ""
           },
           "baxis": {
            "gridcolor": "white",
            "linecolor": "white",
            "ticks": ""
           },
           "bgcolor": "#E5ECF6",
           "caxis": {
            "gridcolor": "white",
            "linecolor": "white",
            "ticks": ""
           }
          },
          "title": {
           "x": 0.05
          },
          "xaxis": {
           "automargin": true,
           "gridcolor": "white",
           "linecolor": "white",
           "ticks": "",
           "title": {
            "standoff": 15
           },
           "zerolinecolor": "white",
           "zerolinewidth": 2
          },
          "yaxis": {
           "automargin": true,
           "gridcolor": "white",
           "linecolor": "white",
           "ticks": "",
           "title": {
            "standoff": 15
           },
           "zerolinecolor": "white",
           "zerolinewidth": 2
          }
         }
        },
        "title": {
         "text": "Distribuição de Frequência do Credit Score"
        },
        "xaxis": {
         "anchor": "y",
         "categoryarray": [
          "Low",
          "Average",
          "High"
         ],
         "categoryorder": "array",
         "domain": [
          0,
          1
         ],
         "title": {
          "text": "Credit Score"
         }
        },
        "yaxis": {
         "anchor": "x",
         "domain": [
          0,
          1
         ],
         "title": {}
        }
       }
      },
      "image/png": "[encoded data removed]"
     },
     "metadata": {},
     "output_type": "display_data"
    },
    {
     "data": {
      "application/vnd.plotly.v1+json": {
       "config": {
        "plotlyServerURL": "https://plot.ly"
       },
       "data": [
        {
         "bingroup": "x",
         "hovertemplate": "Age=%{x}<br>count=%{y}<extra></extra>",
         "legendgroup": "",
         "marker": {
          "color": "rgb(204, 102, 119)",
          "pattern": {
           "shape": ""
          }
         },
         "name": "",
         "nbinsx": 30,
         "orientation": "v",
         "showlegend": false,
         "type": "histogram",
         "x": {
          "bdata": "AAAAAAAAOUAAAAAAAAA+QAAAAAAAgEFAAAAAAAAAREAAAAAAAIBGQAAAAAAAAElAAAAAAAAAOkAAAAAAAAA/QIwuuuiiy0RAjC666KLLRECMLrroostEQIwuuuiiy0RAF1100UUXPEBCCCGEEEI9QIwuuuiiy0RAjC666KLLRECMLrroostEQIwuuuiiy0RAF1100UUXPEBCCCGEEEI9QIwuuuiiy0RAAAAAAACARUAAAAAAAABIQAAAAAAAgEpAAAAAAAAAPUAAAAAAAABBQAAAAAAAgENAAAAAAAAARkAAAAAAAIBIQAAAAAAAADlAAAAAAAAAPkAAAAAAAIBBQAAAAAAAAERAAAAAAACARkAAAAAAAABJQAAAAAAAADpAAAAAAAAAP0AAAAAAAABCQAAAAAAAgERAAAAAAAAAR0AAAAAAAIBJQAAAAAAAADtAAAAAAAAAQEAAAAAAAIBCQAAAAAAAAEVAAAAAAACAR0AAAAAAAABKQAAAAAAAADxAAAAAAACAQEAAAAAAAABDQAAAAAAAgEVAAAAAAAAASEAAAAAAAIBKQAAAAAAAAD1AAAAAAAAAQUAAAAAAAIBDQAAAAAAAAEZAAAAAAACASEAAAAAAAAA5QAAAAAAAAD5AAAAAAACAQUAAAAAAAAA5QAAAAAAAAD5AAAAAAACAQUAAAAAAAABEQAAAAAAAgEZAAAAAAAAASUAAAAAAAAA6QAAAAAAAAD9AAAAAAAAAQkAAAAAAAIBEQAAAAAAAAEdAAAAAAACASUAAAAAAAAA7QAAAAAAAAEBAAAAAAACAQkAAAAAAAABFQAAAAAAAgEdAAAAAAAAASkAAAAAAAAA8QAAAAAAAgEBAjC666KLLRECMLrroostEQIwuuuiiy0RAjC666KLLREAXXXTRRRc8QEIIIYQQQj1AjC666KLLRECMLrroostEQIwuuuiiy0RAQgghhBBCPUCMLrroostEQIwuuuiiy0RAAAAAAAAAOUAAAAAAAAA+QAAAAAAAgEFAAAAAAAAAREAAAAAAAIBGQAAAAAAAAElAAAAAAAAAOkAAAAAAAAA/QAAAAAAAAEJAAAAAAACAREAAAAAAAABHQAAAAAAAgElAAAAAAAAAO0AAAAAAAABAQAAAAAAAgEJAAAAAAAAARUAAAAAAAIBHQAAAAAAAAEpAAAAAAAAAPEAAAAAAAIBAQAAAAAAAAENAAAAAAACARUAAAAAAAABIQAAAAAAAgEpAAAAAAAAAPUAAAAAAAABBQAAAAAAAgENAAAAAAAAARkAAAAAAAIBIQAAAAAAAADlAAAAAAAAAPkAAAAAAAIBBQAAAAAAAADlAAAAAAAAAPkAAAAAAAIBBQAAAAAAAADxAAAAAAACAQEAAAAAAAAA/QAAAAAAAADpAAAAAAAAAQEAAAAAAAAA9QAAAAAAAAEFAAAAAAAAAOUAAAAAAAAA+QAAAAAAAgEFAAAAAAAAAREAAAAAAAIBGQAAAAAAAAElAAAAAAAAAOkAAAAAAAAA/QAAAAAAAAEJAjC666KLLRECMLrroostEQIwuuuiiy0RAF1100UUXPEBCCCGEEEI9QIwuuuiiy0RAjC666KLLRECMLrroostEQIwuuuiiy0RAAAAAAAAAPEAAAAAAAIBAQAAAAAAAAENAAAAAAACARUAAAAAAAABIQAAAAAAAgEpAAAAAAAAAPUAAAAAAAABBQAAAAAAAgENAAAAAAAAARkAAAAAAAIBIQA==",
          "dtype": "f8"
         },
         "xaxis": "x",
         "yaxis": "y"
        },
        {
         "hovertemplate": "Age=%{x}<extra></extra>",
         "legendgroup": "",
         "marker": {
          "color": "rgb(204, 102, 119)"
         },
         "name": "",
         "notched": true,
         "showlegend": false,
         "type": "box",
         "x": {
          "bdata": "AAAAAAAAOUAAAAAAAAA+QAAAAAAAgEFAAAAAAAAAREAAAAAAAIBGQAAAAAAAAElAAAAAAAAAOkAAAAAAAAA/QIwuuuiiy0RAjC666KLLRECMLrroostEQIwuuuiiy0RAF1100UUXPEBCCCGEEEI9QIwuuuiiy0RAjC666KLLRECMLrroostEQIwuuuiiy0RAF1100UUXPEBCCCGEEEI9QIwuuuiiy0RAAAAAAACARUAAAAAAAABIQAAAAAAAgEpAAAAAAAAAPUAAAAAAAABBQAAAAAAAgENAAAAAAAAARkAAAAAAAIBIQAAAAAAAADlAAAAAAAAAPkAAAAAAAIBBQAAAAAAAAERAAAAAAACARkAAAAAAAABJQAAAAAAAADpAAAAAAAAAP0AAAAAAAABCQAAAAAAAgERAAAAAAAAAR0AAAAAAAIBJQAAAAAAAADtAAAAAAAAAQEAAAAAAAIBCQAAAAAAAAEVAAAAAAACAR0AAAAAAAABKQAAAAAAAADxAAAAAAACAQEAAAAAAAABDQAAAAAAAgEVAAAAAAAAASEAAAAAAAIBKQAAAAAAAAD1AAAAAAAAAQUAAAAAAAIBDQAAAAAAAAEZAAAAAAACASEAAAAAAAAA5QAAAAAAAAD5AAAAAAACAQUAAAAAAAAA5QAAAAAAAAD5AAAAAAACAQUAAAAAAAABEQAAAAAAAgEZAAAAAAAAASUAAAAAAAAA6QAAAAAAAAD9AAAAAAAAAQkAAAAAAAIBEQAAAAAAAAEdAAAAAAACASUAAAAAAAAA7QAAAAAAAAEBAAAAAAACAQkAAAAAAAABFQAAAAAAAgEdAAAAAAAAASkAAAAAAAAA8QAAAAAAAgEBAjC666KLLRECMLrroostEQIwuuuiiy0RAjC666KLLREAXXXTRRRc8QEIIIYQQQj1AjC666KLLRECMLrroostEQIwuuuiiy0RAQgghhBBCPUCMLrroostEQIwuuuiiy0RAAAAAAAAAOUAAAAAAAAA+QAAAAAAAgEFAAAAAAAAAREAAAAAAAIBGQAAAAAAAAElAAAAAAAAAOkAAAAAAAAA/QAAAAAAAAEJAAAAAAACAREAAAAAAAABHQAAAAAAAgElAAAAAAAAAO0AAAAAAAABAQAAAAAAAgEJAAAAAAAAARUAAAAAAAIBHQAAAAAAAAEpAAAAAAAAAPEAAAAAAAIBAQAAAAAAAAENAAAAAAACARUAAAAAAAABIQAAAAAAAgEpAAAAAAAAAPUAAAAAAAABBQAAAAAAAgENAAAAAAAAARkAAAAAAAIBIQAAAAAAAADlAAAAAAAAAPkAAAAAAAIBBQAAAAAAAADlAAAAAAAAAPkAAAAAAAIBBQAAAAAAAADxAAAAAAACAQEAAAAAAAAA/QAAAAAAAADpAAAAAAAAAQEAAAAAAAAA9QAAAAAAAAEFAAAAAAAAAOUAAAAAAAAA+QAAAAAAAgEFAAAAAAAAAREAAAAAAAIBGQAAAAAAAAElAAAAAAAAAOkAAAAAAAAA/QAAAAAAAAEJAjC666KLLRECMLrroostEQIwuuuiiy0RAF1100UUXPEBCCCGEEEI9QIwuuuiiy0RAjC666KLLRECMLrroostEQIwuuuiiy0RAAAAAAAAAPEAAAAAAAIBAQAAAAAAAAENAAAAAAACARUAAAAAAAABIQAAAAAAAgEpAAAAAAAAAPUAAAAAAAABBQAAAAAAAgENAAAAAAAAARkAAAAAAAIBIQA==",
          "dtype": "f8"
         },
         "xaxis": "x2",
         "yaxis": "y2"
        }
       ],
       "layout": {
        "barmode": "relative",
        "height": 400,
        "legend": {
         "tracegroupgap": 0
        },
        "template": {
         "data": {
          "bar": [
           {
            "error_x": {
             "color": "#2a3f5f"
            },
            "error_y": {
             "color": "#2a3f5f"
            },
            "marker": {
             "line": {
              "color": "#E5ECF6",
              "width": 0.5
             },
             "pattern": {
              "fillmode": "overlay",
              "size": 10,
              "solidity": 0.2
             }
            },
            "type": "bar"
           }
          ],
          "barpolar": [
           {
            "marker": {
             "line": {
              "color": "#E5ECF6",
              "width": 0.5
             },
             "pattern": {
              "fillmode": "overlay",
              "size": 10,
              "solidity": 0.2
             }
            },
            "type": "barpolar"
           }
          ],
          "carpet": [
           {
            "aaxis": {
             "endlinecolor": "#2a3f5f",
             "gridcolor": "white",
             "linecolor": "white",
             "minorgridcolor": "white",
             "startlinecolor": "#2a3f5f"
            },
            "baxis": {
             "endlinecolor": "#2a3f5f",
             "gridcolor": "white",
             "linecolor": "white",
             "minorgridcolor": "white",
             "startlinecolor": "#2a3f5f"
            },
            "type": "carpet"
           }
          ],
          "choropleth": [
           {
            "colorbar": {
             "outlinewidth": 0,
             "ticks": ""
            },
            "type": "choropleth"
           }
          ],
          "contour": [
           {
            "colorbar": {
             "outlinewidth": 0,
             "ticks": ""
            },
            "colorscale": [
             [
              0,
              "#0d0887"
             ],
             [
              0.1111111111111111,
              "#46039f"
             ],
             [
              0.2222222222222222,
              "#7201a8"
             ],
             [
              0.3333333333333333,
              "#9c179e"
             ],
             [
              0.4444444444444444,
              "#bd3786"
             ],
             [
              0.5555555555555556,
              "#d8576b"
             ],
             [
              0.6666666666666666,
              "#ed7953"
             ],
             [
              0.7777777777777778,
              "#fb9f3a"
             ],
             [
              0.8888888888888888,
              "#fdca26"
             ],
             [
              1,
              "#f0f921"
             ]
            ],
            "type": "contour"
           }
          ],
          "contourcarpet": [
           {
            "colorbar": {
             "outlinewidth": 0,
             "ticks": ""
            },
            "type": "contourcarpet"
           }
          ],
          "heatmap": [
           {
            "colorbar": {
             "outlinewidth": 0,
             "ticks": ""
            },
            "colorscale": [
             [
              0,
              "#0d0887"
             ],
             [
              0.1111111111111111,
              "#46039f"
             ],
             [
              0.2222222222222222,
              "#7201a8"
             ],
             [
              0.3333333333333333,
              "#9c179e"
             ],
             [
              0.4444444444444444,
              "#bd3786"
             ],
             [
              0.5555555555555556,
              "#d8576b"
             ],
             [
              0.6666666666666666,
              "#ed7953"
             ],
             [
              0.7777777777777778,
              "#fb9f3a"
             ],
             [
              0.8888888888888888,
              "#fdca26"
             ],
             [
              1,
              "#f0f921"
             ]
            ],
            "type": "heatmap"
           }
          ],
          "histogram": [
           {
            "marker": {
             "pattern": {
              "fillmode": "overlay",
              "size": 10,
              "solidity": 0.2
             }
            },
            "type": "histogram"
           }
          ],
          "histogram2d": [
           {
            "colorbar": {
             "outlinewidth": 0,
             "ticks": ""
            },
            "colorscale": [
             [
              0,
              "#0d0887"
             ],
             [
              0.1111111111111111,
              "#46039f"
             ],
             [
              0.2222222222222222,
              "#7201a8"
             ],
             [
              0.3333333333333333,
              "#9c179e"
             ],
             [
              0.4444444444444444,
              "#bd3786"
             ],
             [
              0.5555555555555556,
              "#d8576b"
             ],
             [
              0.6666666666666666,
              "#ed7953"
             ],
             [
              0.7777777777777778,
              "#fb9f3a"
             ],
             [
              0.8888888888888888,
              "#fdca26"
             ],
             [
              1,
              "#f0f921"
             ]
            ],
            "type": "histogram2d"
           }
          ],
          "histogram2dcontour": [
           {
            "colorbar": {
             "outlinewidth": 0,
             "ticks": ""
            },
            "colorscale": [
             [
              0,
              "#0d0887"
             ],
             [
              0.1111111111111111,
              "#46039f"
             ],
             [
              0.2222222222222222,
              "#7201a8"
             ],
             [
              0.3333333333333333,
              "#9c179e"
             ],
             [
              0.4444444444444444,
              "#bd3786"
             ],
             [
              0.5555555555555556,
              "#d8576b"
             ],
             [
              0.6666666666666666,
              "#ed7953"
             ],
             [
              0.7777777777777778,
              "#fb9f3a"
             ],
             [
              0.8888888888888888,
              "#fdca26"
             ],
             [
              1,
              "#f0f921"
             ]
            ],
            "type": "histogram2dcontour"
           }
          ],
          "mesh3d": [
           {
            "colorbar": {
             "outlinewidth": 0,
             "ticks": ""
            },
            "type": "mesh3d"
           }
          ],
          "parcoords": [
           {
            "line": {
             "colorbar": {
              "outlinewidth": 0,
              "ticks": ""
             }
            },
            "type": "parcoords"
           }
          ],
          "pie": [
           {
            "automargin": true,
            "type": "pie"
           }
          ],
          "scatter": [
           {
            "fillpattern": {
             "fillmode": "overlay",
             "size": 10,
             "solidity": 0.2
            },
            "type": "scatter"
           }
          ],
          "scatter3d": [
           {
            "line": {
             "colorbar": {
              "outlinewidth": 0,
              "ticks": ""
             }
            },
            "marker": {
             "colorbar": {
              "outlinewidth": 0,
              "ticks": ""
             }
            },
            "type": "scatter3d"
           }
          ],
          "scattercarpet": [
           {
            "marker": {
             "colorbar": {
              "outlinewidth": 0,
              "ticks": ""
             }
            },
            "type": "scattercarpet"
           }
          ],
          "scattergeo": [
           {
            "marker": {
             "colorbar": {
              "outlinewidth": 0,
              "ticks": ""
             }
            },
            "type": "scattergeo"
           }
          ],
          "scattergl": [
           {
            "marker": {
             "colorbar": {
              "outlinewidth": 0,
              "ticks": ""
             }
            },
            "type": "scattergl"
           }
          ],
          "scattermap": [
           {
            "marker": {
             "colorbar": {
              "outlinewidth": 0,
              "ticks": ""
             }
            },
            "type": "scattermap"
           }
          ],
          "scattermapbox": [
           {
            "marker": {
             "colorbar": {
              "outlinewidth": 0,
              "ticks": ""
             }
            },
            "type": "scattermapbox"
           }
          ],
          "scatterpolar": [
           {
            "marker": {
             "colorbar": {
              "outlinewidth": 0,
              "ticks": ""
             }
            },
            "type": "scatterpolar"
           }
          ],
          "scatterpolargl": [
           {
            "marker": {
             "colorbar": {
              "outlinewidth": 0,
              "ticks": ""
             }
            },
            "type": "scatterpolargl"
           }
          ],
          "scatterternary": [
           {
            "marker": {
             "colorbar": {
              "outlinewidth": 0,
              "ticks": ""
             }
            },
            "type": "scatterternary"
           }
          ],
          "surface": [
           {
            "colorbar": {
             "outlinewidth": 0,
             "ticks": ""
            },
            "colorscale": [
             [
              0,
              "#0d0887"
             ],
             [
              0.1111111111111111,
              "#46039f"
             ],
             [
              0.2222222222222222,
              "#7201a8"
             ],
             [
              0.3333333333333333,
              "#9c179e"
             ],
             [
              0.4444444444444444,
              "#bd3786"
             ],
             [
              0.5555555555555556,
              "#d8576b"
             ],
             [
              0.6666666666666666,
              "#ed7953"
             ],
             [
              0.7777777777777778,
              "#fb9f3a"
             ],
             [
              0.8888888888888888,
              "#fdca26"
             ],
             [
              1,
              "#f0f921"
             ]
            ],
            "type": "surface"
           }
          ],
          "table": [
           {
            "cells": {
             "fill": {
              "color": "#EBF0F8"
             },
             "line": {
              "color": "white"
             }
            },
            "header": {
             "fill": {
              "color": "#C8D4E3"
             },
             "line": {
              "color": "white"
             }
            },
            "type": "table"
           }
          ]
         },
         "layout": {
          "annotationdefaults": {
           "arrowcolor": "#2a3f5f",
           "arrowhead": 0,
           "arrowwidth": 1
          },
          "autotypenumbers": "strict",
          "coloraxis": {
           "colorbar": {
            "outlinewidth": 0,
            "ticks": ""
           }
          },
          "colorscale": {
           "diverging": [
            [
             0,
             "#8e0152"
            ],
            [
             0.1,
             "#c51b7d"
            ],
            [
             0.2,
             "#de77ae"
            ],
            [
             0.3,
             "#f1b6da"
            ],
            [
             0.4,
             "#fde0ef"
            ],
            [
             0.5,
             "#f7f7f7"
            ],
            [
             0.6,
             "#e6f5d0"
            ],
            [
             0.7,
             "#b8e186"
            ],
            [
             0.8,
             "#7fbc41"
            ],
            [
             0.9,
             "#4d9221"
            ],
            [
             1,
             "#276419"
            ]
           ],
           "sequential": [
            [
             0,
             "#0d0887"
            ],
            [
             0.1111111111111111,
             "#46039f"
            ],
            [
             0.2222222222222222,
             "#7201a8"
            ],
            [
             0.3333333333333333,
             "#9c179e"
            ],
            [
             0.4444444444444444,
             "#bd3786"
            ],
            [
             0.5555555555555556,
             "#d8576b"
            ],
            [
             0.6666666666666666,
             "#ed7953"
            ],
            [
             0.7777777777777778,
             "#fb9f3a"
            ],
            [
             0.8888888888888888,
             "#fdca26"
            ],
            [
             1,
             "#f0f921"
            ]
           ],
           "sequentialminus": [
            [
             0,
             "#0d0887"
            ],
            [
             0.1111111111111111,
             "#46039f"
            ],
            [
             0.2222222222222222,
             "#7201a8"
            ],
            [
             0.3333333333333333,
             "#9c179e"
            ],
            [
             0.4444444444444444,
             "#bd3786"
            ],
            [
             0.5555555555555556,
             "#d8576b"
            ],
            [
             0.6666666666666666,
             "#ed7953"
            ],
            [
             0.7777777777777778,
             "#fb9f3a"
            ],
            [
             0.8888888888888888,
             "#fdca26"
            ],
            [
             1,
             "#f0f921"
            ]
           ]
          },
          "colorway": [
           "#636efa",
           "#EF553B",
           "#00cc96",
           "#ab63fa",
           "#FFA15A",
           "#19d3f3",
           "#FF6692",
           "#B6E880",
           "#FF97FF",
           "#FECB52"
          ],
          "font": {
           "color": "#2a3f5f"
          },
          "geo": {
           "bgcolor": "white",
           "lakecolor": "white",
           "landcolor": "#E5ECF6",
           "showlakes": true,
           "showland": true,
           "subunitcolor": "white"
          },
          "hoverlabel": {
           "align": "left"
          },
          "hovermode": "closest",
          "mapbox": {
           "style": "light"
          },
          "paper_bgcolor": "white",
          "plot_bgcolor": "#E5ECF6",
          "polar": {
           "angularaxis": {
            "gridcolor": "white",
            "linecolor": "white",
            "ticks": ""
           },
           "bgcolor": "#E5ECF6",
           "radialaxis": {
            "gridcolor": "white",
            "linecolor": "white",
            "ticks": ""
           }
          },
          "scene": {
           "xaxis": {
            "backgroundcolor": "#E5ECF6",
            "gridcolor": "white",
            "gridwidth": 2,
            "linecolor": "white",
            "showbackground": true,
            "ticks": "",
            "zerolinecolor": "white"
           },
           "yaxis": {
            "backgroundcolor": "#E5ECF6",
            "gridcolor": "white",
            "gridwidth": 2,
            "linecolor": "white",
            "showbackground": true,
            "ticks": "",
            "zerolinecolor": "white"
           },
           "zaxis": {
            "backgroundcolor": "#E5ECF6",
            "gridcolor": "white",
            "gridwidth": 2,
            "linecolor": "white",
            "showbackground": true,
            "ticks": "",
            "zerolinecolor": "white"
           }
          },
          "shapedefaults": {
           "line": {
            "color": "#2a3f5f"
           }
          },
          "ternary": {
           "aaxis": {
            "gridcolor": "white",
            "linecolor": "white",
            "ticks": ""
           },
           "baxis": {
            "gridcolor": "white",
            "linecolor": "white",
            "ticks": ""
           },
           "bgcolor": "#E5ECF6",
           "caxis": {
            "gridcolor": "white",
            "linecolor": "white",
            "ticks": ""
           }
          },
          "title": {
           "x": 0.05
          },
          "xaxis": {
           "automargin": true,
           "gridcolor": "white",
           "linecolor": "white",
           "ticks": "",
           "title": {
            "standoff": 15
           },
           "zerolinecolor": "white",
           "zerolinewidth": 2
          },
          "yaxis": {
           "automargin": true,
           "gridcolor": "white",
           "linecolor": "white",
           "ticks": "",
           "title": {
            "standoff": 15
           },
           "zerolinecolor": "white",
           "zerolinewidth": 2
          }
         }
        },
        "title": {
         "text": "Distribuição de Densidade da Idade"
        },
        "xaxis": {
         "anchor": "y",
         "domain": [
          0,
          1
         ],
         "title": {
          "text": "Age"
         }
        },
        "xaxis2": {
         "anchor": "y2",
         "domain": [
          0,
          1
         ],
         "matches": "x",
         "showgrid": true,
         "showticklabels": false
        },
        "yaxis": {
         "anchor": "x",
         "domain": [
          0,
          0.8316
         ],
         "title": {}
        },
        "yaxis2": {
         "anchor": "x2",
         "domain": [
          0.8416,
          1
         ],
         "matches": "y2",
         "showgrid": false,
         "showline": false,
         "showticklabels": false,
         "ticks": ""
        }
       }
      },
      "image/png": "[encoded data removed]"
     },
     "metadata": {},
     "output_type": "display_data"
    },
    {
     "data": {
      "application/vnd.plotly.v1+json": {
       "config": {
        "plotlyServerURL": "https://plot.ly"
       },
       "data": [
        {
         "bingroup": "x",
         "histnorm": "density",
         "hovertemplate": "Renda (Income)=%{x}<br>density=%{y}<extra></extra>",
         "legendgroup": "",
         "marker": {
          "color": "#1f77b4",
          "pattern": {
           "shape": ""
          }
         },
         "name": "",
         "nbinsx": 50,
         "orientation": "v",
         "showlegend": false,
         "type": "histogram",
         "x": {
          "bdata": "AAAAAABq6EAAAAAAAGr4QAAAAACAT/JAAAAAAICE/kAAAAAAAGr4QAAAAACATwJBAAAAAACI40AAAAAAAEztQAAAAAAAiPNAAAAAAICi+UAAAAAAAPn1QAAAAADAegBBAAAAAAAX4UAAAAAAANvqQAAAAAAAF/FAAAAAAIAx90AAAAAAgMD0QAAAAACAhP5AAAAAAABM3UAAAAAAAGroQAAAAAAAve9AAAAAAACI80AAAAAAABfxQAAAAACAE/xAAAAAAABq2EAAAAAAAPnlQAAAAAAATO1AAAAAAIBP8kAAAAAAAL3vQAAAAAAA2+pAAAAAAICi+UAAAAAAAIjzQAAAAAAAvf9AAAAAAICi+UAAAAAAwOsCQQAAAAAA+eVAAAAAAAC970AAAAAAgMD0QAAAAAAA2/pAAAAAAIAx90AAAAAAABcBQQAAAACAT+JAAAAAAIAT7EAAAAAAQLPxQAAAAAAAavhAAAAAAAD59UAAAAAAAL3/QAAAAAAAvd9AAAAAAICi6UAAAAAAwHrwQAAAAABAlfZAAAAAAEAk9EAAAAAAQOj9QAAAAAAA29pAAAAAAIAx50AAAAAAgITuQAAAAADAXPVAAAAAAMDr8kAAAAAAgBPsQAAAAABAd/tAAAAAAIDA9EAAAAAAAEztQAAAAADAr/xAAAAAAAD59UAAAAAAIGUBQQAAAAAA2/pAAAAAAACIA0EAAAAAgDHnQAAAAADAevBAAAAAAAD59UAAAAAAgBP8QAAAAADAzfdAAAAAAECzAUEAAAAAgE/iQAAAAACAE+xAAAAAAIBP8kAAAAAAgKL5QAAAAACAMfdAAAAAAMB6AEEAAAAAAL3fQAAAAACAoulAAAAAAMB68EAAAAAAQJX2QAAAAACAwPRAAAAAAICE/kAAAAAAANvaQAAAAACAMedAAAAAAICE7kAAAAAAwFz1QAAAAADA6/JAAAAAAIAT7EAAAAAAQHf7QAAAAACAwPRAAAAAAICE7kAAAAAAwK/8QAAAAAAA+fVAAAAAACBlAUEAAAAAgBP8QAAAAAAg1gNBAAAAAABq6EAAAAAAABfxQAAAAACAMfdAAAAAAABM/UAAAAAAQAb5QAAAAACATwJBAAAAAIBP4kAAAAAAgBPsQAAAAADA6/JAAAAAAADb+kAAAAAAwM33QAAAAADgyABBAAAAAAC930AAAAAAgKLpQAAAAADAevBAAAAAAIAx90AAAAAAwFz1QAAAAADAIP9AAAAAAADb2kAAAAAAgDHnQAAAAACAhO5AAAAAAMBc9UAAAAAAwOvyQAAAAACAE+xAAAAAAEB3+0AAAAAAgMD0QAAAAAAATO1AAAAAAMCv/EAAAAAAAPn1QAAAAACAT/JAAAAAAAAF9EAAAAAAgDH3QAAAAAAA2+pAAAAAAIDA9EAAAAAAAJrwQAAAAACAovlAAAAAAADb6kAAAAAAgKL5QAAAAAAAiPNAAAAAAAC9/0AAAAAAgKL5QAAAAADA6wJBAAAAAAD55UAAAAAAAL3vQAAAAACAwPRAAAAAAADb+kAAAAAAgDH3QAAAAAAAFwFBAAAAAIBP4kAAAAAAgBPsQAAAAABAs/FAAAAAAABq+EAAAAAAAPn1QAAAAAAAvf9AAAAAAAC930AAAAAAgKLpQAAAAADAevBAAAAAAECV9kAAAAAAQCT0QAAAAABA6P1AAAAAAADb2kAAAAAAgDHnQAAAAACAhO5AAAAAAMBc9UAAAAAAwOvyQA==",
          "dtype": "f8"
         },
         "xaxis": "x",
         "yaxis": "y"
        },
        {
         "hovertemplate": "Renda (Income)=%{x}<extra></extra>",
         "legendgroup": "",
         "marker": {
          "color": "#1f77b4"
         },
         "name": "",
         "notched": true,
         "showlegend": false,
         "type": "box",
         "x": {
          "bdata": "AAAAAABq6EAAAAAAAGr4QAAAAACAT/JAAAAAAICE/kAAAAAAAGr4QAAAAACATwJBAAAAAACI40AAAAAAAEztQAAAAAAAiPNAAAAAAICi+UAAAAAAAPn1QAAAAADAegBBAAAAAAAX4UAAAAAAANvqQAAAAAAAF/FAAAAAAIAx90AAAAAAgMD0QAAAAACAhP5AAAAAAABM3UAAAAAAAGroQAAAAAAAve9AAAAAAACI80AAAAAAABfxQAAAAACAE/xAAAAAAABq2EAAAAAAAPnlQAAAAAAATO1AAAAAAIBP8kAAAAAAAL3vQAAAAAAA2+pAAAAAAICi+UAAAAAAAIjzQAAAAAAAvf9AAAAAAICi+UAAAAAAwOsCQQAAAAAA+eVAAAAAAAC970AAAAAAgMD0QAAAAAAA2/pAAAAAAIAx90AAAAAAABcBQQAAAACAT+JAAAAAAIAT7EAAAAAAQLPxQAAAAAAAavhAAAAAAAD59UAAAAAAAL3/QAAAAAAAvd9AAAAAAICi6UAAAAAAwHrwQAAAAABAlfZAAAAAAEAk9EAAAAAAQOj9QAAAAAAA29pAAAAAAIAx50AAAAAAgITuQAAAAADAXPVAAAAAAMDr8kAAAAAAgBPsQAAAAABAd/tAAAAAAIDA9EAAAAAAAEztQAAAAADAr/xAAAAAAAD59UAAAAAAIGUBQQAAAAAA2/pAAAAAAACIA0EAAAAAgDHnQAAAAADAevBAAAAAAAD59UAAAAAAgBP8QAAAAADAzfdAAAAAAECzAUEAAAAAgE/iQAAAAACAE+xAAAAAAIBP8kAAAAAAgKL5QAAAAACAMfdAAAAAAMB6AEEAAAAAAL3fQAAAAACAoulAAAAAAMB68EAAAAAAQJX2QAAAAACAwPRAAAAAAICE/kAAAAAAANvaQAAAAACAMedAAAAAAICE7kAAAAAAwFz1QAAAAADA6/JAAAAAAIAT7EAAAAAAQHf7QAAAAACAwPRAAAAAAICE7kAAAAAAwK/8QAAAAAAA+fVAAAAAACBlAUEAAAAAgBP8QAAAAAAg1gNBAAAAAABq6EAAAAAAABfxQAAAAACAMfdAAAAAAABM/UAAAAAAQAb5QAAAAACATwJBAAAAAIBP4kAAAAAAgBPsQAAAAADA6/JAAAAAAADb+kAAAAAAwM33QAAAAADgyABBAAAAAAC930AAAAAAgKLpQAAAAADAevBAAAAAAIAx90AAAAAAwFz1QAAAAADAIP9AAAAAAADb2kAAAAAAgDHnQAAAAACAhO5AAAAAAMBc9UAAAAAAwOvyQAAAAACAE+xAAAAAAEB3+0AAAAAAgMD0QAAAAAAATO1AAAAAAMCv/EAAAAAAAPn1QAAAAACAT/JAAAAAAAAF9EAAAAAAgDH3QAAAAAAA2+pAAAAAAIDA9EAAAAAAAJrwQAAAAACAovlAAAAAAADb6kAAAAAAgKL5QAAAAAAAiPNAAAAAAAC9/0AAAAAAgKL5QAAAAADA6wJBAAAAAAD55UAAAAAAAL3vQAAAAACAwPRAAAAAAADb+kAAAAAAgDH3QAAAAAAAFwFBAAAAAIBP4kAAAAAAgBPsQAAAAABAs/FAAAAAAABq+EAAAAAAAPn1QAAAAAAAvf9AAAAAAAC930AAAAAAgKLpQAAAAADAevBAAAAAAECV9kAAAAAAQCT0QAAAAABA6P1AAAAAAADb2kAAAAAAgDHnQAAAAACAhO5AAAAAAMBc9UAAAAAAwOvyQA==",
          "dtype": "f8"
         },
         "xaxis": "x2",
         "yaxis": "y2"
        }
       ],
       "layout": {
        "barmode": "relative",
        "height": 500,
        "legend": {
         "tracegroupgap": 0
        },
        "template": {
         "data": {
          "bar": [
           {
            "error_x": {
             "color": "#2a3f5f"
            },
            "error_y": {
             "color": "#2a3f5f"
            },
            "marker": {
             "line": {
              "color": "#E5ECF6",
              "width": 0.5
             },
             "pattern": {
              "fillmode": "overlay",
              "size": 10,
              "solidity": 0.2
             }
            },
            "type": "bar"
           }
          ],
          "barpolar": [
           {
            "marker": {
             "line": {
              "color": "#E5ECF6",
              "width": 0.5
             },
             "pattern": {
              "fillmode": "overlay",
              "size": 10,
              "solidity": 0.2
             }
            },
            "type": "barpolar"
           }
          ],
          "carpet": [
           {
            "aaxis": {
             "endlinecolor": "#2a3f5f",
             "gridcolor": "white",
             "linecolor": "white",
             "minorgridcolor": "white",
             "startlinecolor": "#2a3f5f"
            },
            "baxis": {
             "endlinecolor": "#2a3f5f",
             "gridcolor": "white",
             "linecolor": "white",
             "minorgridcolor": "white",
             "startlinecolor": "#2a3f5f"
            },
            "type": "carpet"
           }
          ],
          "choropleth": [
           {
            "colorbar": {
             "outlinewidth": 0,
             "ticks": ""
            },
            "type": "choropleth"
           }
          ],
          "contour": [
           {
            "colorbar": {
             "outlinewidth": 0,
             "ticks": ""
            },
            "colorscale": [
             [
              0,
              "#0d0887"
             ],
             [
              0.1111111111111111,
              "#46039f"
             ],
             [
              0.2222222222222222,
              "#7201a8"
             ],
             [
              0.3333333333333333,
              "#9c179e"
             ],
             [
              0.4444444444444444,
              "#bd3786"
             ],
             [
              0.5555555555555556,
              "#d8576b"
             ],
             [
              0.6666666666666666,
              "#ed7953"
             ],
             [
              0.7777777777777778,
              "#fb9f3a"
             ],
             [
              0.8888888888888888,
              "#fdca26"
             ],
             [
              1,
              "#f0f921"
             ]
            ],
            "type": "contour"
           }
          ],
          "contourcarpet": [
           {
            "colorbar": {
             "outlinewidth": 0,
             "ticks": ""
            },
            "type": "contourcarpet"
           }
          ],
          "heatmap": [
           {
            "colorbar": {
             "outlinewidth": 0,
             "ticks": ""
            },
            "colorscale": [
             [
              0,
              "#0d0887"
             ],
             [
              0.1111111111111111,
              "#46039f"
             ],
             [
              0.2222222222222222,
              "#7201a8"
             ],
             [
              0.3333333333333333,
              "#9c179e"
             ],
             [
              0.4444444444444444,
              "#bd3786"
             ],
             [
              0.5555555555555556,
              "#d8576b"
             ],
             [
              0.6666666666666666,
              "#ed7953"
             ],
             [
              0.7777777777777778,
              "#fb9f3a"
             ],
             [
              0.8888888888888888,
              "#fdca26"
             ],
             [
              1,
              "#f0f921"
             ]
            ],
            "type": "heatmap"
           }
          ],
          "histogram": [
           {
            "marker": {
             "pattern": {
              "fillmode": "overlay",
              "size": 10,
              "solidity": 0.2
             }
            },
            "type": "histogram"
           }
          ],
          "histogram2d": [
           {
            "colorbar": {
             "outlinewidth": 0,
             "ticks": ""
            },
            "colorscale": [
             [
              0,
              "#0d0887"
             ],
             [
              0.1111111111111111,
              "#46039f"
             ],
             [
              0.2222222222222222,
              "#7201a8"
             ],
             [
              0.3333333333333333,
              "#9c179e"
             ],
             [
              0.4444444444444444,
              "#bd3786"
             ],
             [
              0.5555555555555556,
              "#d8576b"
             ],
             [
              0.6666666666666666,
              "#ed7953"
             ],
             [
              0.7777777777777778,
              "#fb9f3a"
             ],
             [
              0.8888888888888888,
              "#fdca26"
             ],
             [
              1,
              "#f0f921"
             ]
            ],
            "type": "histogram2d"
           }
          ],
          "histogram2dcontour": [
           {
            "colorbar": {
             "outlinewidth": 0,
             "ticks": ""
            },
            "colorscale": [
             [
              0,
              "#0d0887"
             ],
             [
              0.1111111111111111,
              "#46039f"
             ],
             [
              0.2222222222222222,
              "#7201a8"
             ],
             [
              0.3333333333333333,
              "#9c179e"
             ],
             [
              0.4444444444444444,
              "#bd3786"
             ],
             [
              0.5555555555555556,
              "#d8576b"
             ],
             [
              0.6666666666666666,
              "#ed7953"
             ],
             [
              0.7777777777777778,
              "#fb9f3a"
             ],
             [
              0.8888888888888888,
              "#fdca26"
             ],
             [
              1,
              "#f0f921"
             ]
            ],
            "type": "histogram2dcontour"
           }
          ],
          "mesh3d": [
           {
            "colorbar": {
             "outlinewidth": 0,
             "ticks": ""
            },
            "type": "mesh3d"
           }
          ],
          "parcoords": [
           {
            "line": {
             "colorbar": {
              "outlinewidth": 0,
              "ticks": ""
             }
            },
            "type": "parcoords"
           }
          ],
          "pie": [
           {
            "automargin": true,
            "type": "pie"
           }
          ],
          "scatter": [
           {
            "fillpattern": {
             "fillmode": "overlay",
             "size": 10,
             "solidity": 0.2
            },
            "type": "scatter"
           }
          ],
          "scatter3d": [
           {
            "line": {
             "colorbar": {
              "outlinewidth": 0,
              "ticks": ""
             }
            },
            "marker": {
             "colorbar": {
              "outlinewidth": 0,
              "ticks": ""
             }
            },
            "type": "scatter3d"
           }
          ],
          "scattercarpet": [
           {
            "marker": {
             "colorbar": {
              "outlinewidth": 0,
              "ticks": ""
             }
            },
            "type": "scattercarpet"
           }
          ],
          "scattergeo": [
           {
            "marker": {
             "colorbar": {
              "outlinewidth": 0,
              "ticks": ""
             }
            },
            "type": "scattergeo"
           }
          ],
          "scattergl": [
           {
            "marker": {
             "colorbar": {
              "outlinewidth": 0,
              "ticks": ""
             }
            },
            "type": "scattergl"
           }
          ],
          "scattermap": [
           {
            "marker": {
             "colorbar": {
              "outlinewidth": 0,
              "ticks": ""
             }
            },
            "type": "scattermap"
           }
          ],
          "scattermapbox": [
           {
            "marker": {
             "colorbar": {
              "outlinewidth": 0,
              "ticks": ""
             }
            },
            "type": "scattermapbox"
           }
          ],
          "scatterpolar": [
           {
            "marker": {
             "colorbar": {
              "outlinewidth": 0,
              "ticks": ""
             }
            },
            "type": "scatterpolar"
           }
          ],
          "scatterpolargl": [
           {
            "marker": {
             "colorbar": {
              "outlinewidth": 0,
              "ticks": ""
             }
            },
            "type": "scatterpolargl"
           }
          ],
          "scatterternary": [
           {
            "marker": {
             "colorbar": {
              "outlinewidth": 0,
              "ticks": ""
             }
            },
            "type": "scatterternary"
           }
          ],
          "surface": [
           {
            "colorbar": {
             "outlinewidth": 0,
             "ticks": ""
            },
            "colorscale": [
             [
              0,
              "#0d0887"
             ],
             [
              0.1111111111111111,
              "#46039f"
             ],
             [
              0.2222222222222222,
              "#7201a8"
             ],
             [
              0.3333333333333333,
              "#9c179e"
             ],
             [
              0.4444444444444444,
              "#bd3786"
             ],
             [
              0.5555555555555556,
              "#d8576b"
             ],
             [
              0.6666666666666666,
              "#ed7953"
             ],
             [
              0.7777777777777778,
              "#fb9f3a"
             ],
             [
              0.8888888888888888,
              "#fdca26"
             ],
             [
              1,
              "#f0f921"
             ]
            ],
            "type": "surface"
           }
          ],
          "table": [
           {
            "cells": {
             "fill": {
              "color": "#EBF0F8"
             },
             "line": {
              "color": "white"
             }
            },
            "header": {
             "fill": {
              "color": "#C8D4E3"
             },
             "line": {
              "color": "white"
             }
            },
            "type": "table"
           }
          ]
         },
         "layout": {
          "annotationdefaults": {
           "arrowcolor": "#2a3f5f",
           "arrowhead": 0,
           "arrowwidth": 1
          },
          "autotypenumbers": "strict",
          "coloraxis": {
           "colorbar": {
            "outlinewidth": 0,
            "ticks": ""
           }
          },
          "colorscale": {
           "diverging": [
            [
             0,
             "#8e0152"
            ],
            [
             0.1,
             "#c51b7d"
            ],
            [
             0.2,
             "#de77ae"
            ],
            [
             0.3,
             "#f1b6da"
            ],
            [
             0.4,
             "#fde0ef"
            ],
            [
             0.5,
             "#f7f7f7"
            ],
            [
             0.6,
             "#e6f5d0"
            ],
            [
             0.7,
             "#b8e186"
            ],
            [
             0.8,
             "#7fbc41"
            ],
            [
             0.9,
             "#4d9221"
            ],
            [
             1,
             "#276419"
            ]
           ],
           "sequential": [
            [
             0,
             "#0d0887"
            ],
            [
             0.1111111111111111,
             "#46039f"
            ],
            [
             0.2222222222222222,
             "#7201a8"
            ],
            [
             0.3333333333333333,
             "#9c179e"
            ],
            [
             0.4444444444444444,
             "#bd3786"
            ],
            [
             0.5555555555555556,
             "#d8576b"
            ],
            [
             0.6666666666666666,
             "#ed7953"
            ],
            [
             0.7777777777777778,
             "#fb9f3a"
            ],
            [
             0.8888888888888888,
             "#fdca26"
            ],
            [
             1,
             "#f0f921"
            ]
           ],
           "sequentialminus": [
            [
             0,
             "#0d0887"
            ],
            [
             0.1111111111111111,
             "#46039f"
            ],
            [
             0.2222222222222222,
             "#7201a8"
            ],
            [
             0.3333333333333333,
             "#9c179e"
            ],
            [
             0.4444444444444444,
             "#bd3786"
            ],
            [
             0.5555555555555556,
             "#d8576b"
            ],
            [
             0.6666666666666666,
             "#ed7953"
            ],
            [
             0.7777777777777778,
             "#fb9f3a"
            ],
            [
             0.8888888888888888,
             "#fdca26"
            ],
            [
             1,
             "#f0f921"
            ]
           ]
          },
          "colorway": [
           "#636efa",
           "#EF553B",
           "#00cc96",
           "#ab63fa",
           "#FFA15A",
           "#19d3f3",
           "#FF6692",
           "#B6E880",
           "#FF97FF",
           "#FECB52"
          ],
          "font": {
           "color": "#2a3f5f"
          },
          "geo": {
           "bgcolor": "white",
           "lakecolor": "white",
           "landcolor": "#E5ECF6",
           "showlakes": true,
           "showland": true,
           "subunitcolor": "white"
          },
          "hoverlabel": {
           "align": "left"
          },
          "hovermode": "closest",
          "mapbox": {
           "style": "light"
          },
          "paper_bgcolor": "white",
          "plot_bgcolor": "#E5ECF6",
          "polar": {
           "angularaxis": {
            "gridcolor": "white",
            "linecolor": "white",
            "ticks": ""
           },
           "bgcolor": "#E5ECF6",
           "radialaxis": {
            "gridcolor": "white",
            "linecolor": "white",
            "ticks": ""
           }
          },
          "scene": {
           "xaxis": {
            "backgroundcolor": "#E5ECF6",
            "gridcolor": "white",
            "gridwidth": 2,
            "linecolor": "white",
            "showbackground": true,
            "ticks": "",
            "zerolinecolor": "white"
           },
           "yaxis": {
            "backgroundcolor": "#E5ECF6",
            "gridcolor": "white",
            "gridwidth": 2,
            "linecolor": "white",
            "showbackground": true,
            "ticks": "",
            "zerolinecolor": "white"
           },
           "zaxis": {
            "backgroundcolor": "#E5ECF6",
            "gridcolor": "white",
            "gridwidth": 2,
            "linecolor": "white",
            "showbackground": true,
            "ticks": "",
            "zerolinecolor": "white"
           }
          },
          "shapedefaults": {
           "line": {
            "color": "#2a3f5f"
           }
          },
          "ternary": {
           "aaxis": {
            "gridcolor": "white",
            "linecolor": "white",
            "ticks": ""
           },
           "baxis": {
            "gridcolor": "white",
            "linecolor": "white",
            "ticks": ""
           },
           "bgcolor": "#E5ECF6",
           "caxis": {
            "gridcolor": "white",
            "linecolor": "white",
            "ticks": ""
           }
          },
          "title": {
           "x": 0.05
          },
          "xaxis": {
           "automargin": true,
           "gridcolor": "white",
           "linecolor": "white",
           "ticks": "",
           "title": {
            "standoff": 15
           },
           "zerolinecolor": "white",
           "zerolinewidth": 2
          },
          "yaxis": {
           "automargin": true,
           "gridcolor": "white",
           "linecolor": "white",
           "ticks": "",
           "title": {
            "standoff": 15
           },
           "zerolinecolor": "white",
           "zerolinewidth": 2
          }
         }
        },
        "title": {
         "text": "Distribuição de Densidade da Renda (Income)"
        },
        "xaxis": {
         "anchor": "y",
         "domain": [
          0,
          1
         ],
         "title": {
          "text": "Renda (Income)"
         }
        },
        "xaxis2": {
         "anchor": "y2",
         "domain": [
          0,
          1
         ],
         "matches": "x",
         "showgrid": true,
         "showticklabels": false
        },
        "yaxis": {
         "anchor": "x",
         "domain": [
          0,
          0.8316
         ],
         "showticklabels": false,
         "title": {}
        },
        "yaxis2": {
         "anchor": "x2",
         "domain": [
          0.8416,
          1
         ],
         "matches": "y2",
         "showgrid": false,
         "showline": false,
         "showticklabels": false,
         "ticks": ""
        }
       }
      },
      "image/png": "[encoded data removed]"
     },
     "metadata": {},
     "output_type": "display_data"
    }
   ],
   "source": [
    "# ANALISE UNIVARIADA\n",
    "\n",
    "\n",
    "# Definindo a paleta de cores harmonizada\n",
    "CREDIT_SCORE_COLORS = {'High': '#1f77b4', 'Average': '#ff7f0e', 'Low': '#d62728'}\n",
    "FINANCE_BLUE = '#1f77b4' \n",
    "\n",
    "# DISTRIBUIÇÃO DOS TIPOS DE MORADIA (HOME OWNERSHIP)\n",
    "\n",
    "# Criação do gráfico de pizza para proporções categóricas\n",
    "fig_home = px.pie(\n",
    "    df,\n",
    "    names='Home Ownership',\n",
    "    title='Proporção dos Tipos de Moradia',\n",
    "    color_discrete_sequence=px.colors.qualitative.Bold  # Paleta profissional\n",
    ")\n",
    "\n",
    "# Ajustes visuais\n",
    "fig_home.update_traces(\n",
    "    textposition='inside',\n",
    "    textinfo='percent+label'\n",
    ")\n",
    "fig_home.update_layout(\n",
    "    height=400,\n",
    "    )\n",
    "\n",
    "# DISTRIBUIÇÃO DE FREQUÊNCIA DO CREDIT SCORE\n",
    "\n",
    "# Ordem desejada para exibição\n",
    "score_order = ['Low', 'Average', 'High'] \n",
    "\n",
    "# 1. Preparar o DataFrame de contagens e renomear as colunas\n",
    "# O .reset_index() gera as colunas 'index' e 'Credit Score' (a contagem)\n",
    "score_counts_df = df['Credit Score'].value_counts().reindex(score_order).reset_index()\n",
    "score_counts_df.columns = ['Credit Score Category', 'Count'] # Renomeando para clareza e uso no Plotly\n",
    "\n",
    "# Criação do gráfico de barras\n",
    "fig_score = px.bar(\n",
    "    score_counts_df,\n",
    "    x='Credit Score Category',\n",
    "    y='Count',\n",
    "    title='Distribuição de Frequência do Credit Score',\n",
    "    labels={\n",
    "        'Credit Score Category': 'Credit Score',\n",
    "        'Count': 'Frequência de Clientes'\n",
    "    },\n",
    "    category_orders={'Credit Score Category': score_order},\n",
    "    color='Credit Score Category',\n",
    "    color_discrete_map=CREDIT_SCORE_COLORS\n",
    ")\n",
    "\n",
    "# Ajustes visuais\n",
    "fig_score.update_layout(\n",
    "    height=400,\n",
    "    yaxis_title=None  # Oculta o título do eixo Y\n",
    ")\n",
    "\n",
    "# DISTRIBUIÇÃO DA IDADE (AGE)\n",
    "\n",
    "# Criação do histograma com boxplot marginal para visualizar distribuição e outliers\n",
    "fig_age = px.histogram(\n",
    "    df,\n",
    "    x='Age',\n",
    "    title='Distribuição de Densidade da Idade',\n",
    "    marginal='box',  # Adiciona boxplot superior para simetria e outliers\n",
    "    nbins=30,         # Granularidade ajustada\n",
    "    color_discrete_sequence=[px.colors.qualitative.Safe[1]]  # Cor única\n",
    ")\n",
    "\n",
    "# Ajustes visuais\n",
    "fig_age.update_layout(\n",
    "    height=400,\n",
    "    yaxis_title=None  # Oculta o título do eixo Y\n",
    ")\n",
    "\n",
    "# EXIBIÇÃO COMBINADA (Opcional: Exibe um por vez ou use dashboards)\n",
    "fig_home.show()\n",
    "fig_score.show()\n",
    "fig_age.show()\n",
    "\n",
    "# DISTRIBUIÇÃO DOS SALÁRIOS\n",
    "\n",
    "# Cor corporativa para tema financeiro\n",
    "FINANCE_BLUE = '#1f77b4'  # Azul padrão Matplotlib\n",
    "\n",
    "# Coluna de referência\n",
    "column_income = 'Income'\n",
    "\n",
    "# Criação do histograma com curva de densidade e boxplot marginal\n",
    "fig_density = px.histogram(\n",
    "    df,\n",
    "    x=column_income,\n",
    "    histnorm='density',               # Normaliza para densidade (área total = 1)\n",
    "    marginal='box',                   # Adiciona boxplot lateral para outliers\n",
    "    nbins=50,                         # Mais bins para maior detalhamento\n",
    "    title='Distribuição de Densidade da Renda (Income)',\n",
    "    labels={\n",
    "        column_income: 'Renda (Income)',\n",
    "        'density': 'Densidade (Probabilidade)'\n",
    "    },\n",
    "    color_discrete_sequence=[FINANCE_BLUE],\n",
    "    height=500\n",
    ")\n",
    "\n",
    "# Ajustes visuais\n",
    "fig_density.update_layout(\n",
    "    yaxis_title=None \n",
    "      # Oculta o título do eixo Y\n",
    ")\n",
    "fig_density.update_yaxes(showticklabels=False)\n",
    "\n",
    "fig_density.show()"
   ]
  },
  {
   "cell_type": "markdown",
   "metadata": {
    "id": "juhp1weZOoPy"
   },
   "source": [
    "# Analise Bivariada.\n",
    "Tente responder as seguintes perguntas com gráficos seguidos de insights:**\n",
    "\n",
    "\n",
    "\n",
    "*   Existe relação entre a idade e o status civil?\n",
    "*   Qual a relação entre o score de crédito e o nível de escolaridade?\n",
    "*  O salário parece influenciar na idade?\n",
    "* O salário parece influenciar no Score de Crédito?\n",
    "* Clientes com casa própria tendem a ter um score mais alto?\n",
    "\n"
   ]
  },
  {
   "cell_type": "markdown",
   "metadata": {},
   "source": [
    "### ANÁLISE CENTRAL E COMENTÁRIOS DOS GRÁFICOS\n",
    "A base de clientes demonstra um perfil de baixo risco geral e aponta que a estabilidade financeira e doméstica são os preditores mais fortes para um Credit Score \"High\".\n",
    "\n",
    "**I. Insights por Variável**\n",
    "Home Ownership vs. Score:\n",
    "\n",
    "Insight: Clientes com casa própria (\"Owned\") são o grupo mais estável, com 98.20% de score \"High\" e 0% de risco \"Low\". O grupo \"Rented\" (Alugados) concentra o maior risco, com aproximadamente 28% de score \"Low\".\n",
    "\n",
    "* Fluxo: Home Ownership é um preditor poderoso e deve ser codificado (One-Hot) para a modelagem.\n",
    "\n",
    "**Faixa de Renda (Income_Bins) vs. Score:**\n",
    "\n",
    "Insight: Há uma correlação positiva clara. A faixa de renda mais alta concentra a maioria dos scores \"High\". As faixas de renda média-baixa têm uma mistura maior de \"Average\" e \"Low\" Score, indicando maior risco.\n",
    "\n",
    "* Fluxo: Manter a variável Income para a modelagem. A variável Income_Bins deve ser usada como categórica (Label ou One-Hot).\n",
    "\n",
    "**Escolaridade vs. Score:**\n",
    "\n",
    "Insight: Grau avançado (Master/Doctorate) se correlaciona com score \"High\". No entanto, o risco (\"Average\" e \"Low\") é mais evidente nos níveis mais baixos de escolaridade (High School Diploma/Associate Degree).\n",
    "\n",
    "* Fluxo: Education é um forte preditor ordinal. Deve ser codificado (Label Encoding) para respeitar a hierarquia dos graus.\n",
    "\n",
    "**Idade (Age):**\n",
    "\n",
    "Insight: A distribuição da idade é relativamente simétrica e concentrada. O Box Plot sugere que o grupo \"Married\" tende a ter idades medianas mais altas que o grupo \"Single\".\n",
    "\n",
    "* Fluxo: Age será usado como preditor linear, mas sua influência deve ser analisada em conjunto com Marital Status e Income.\n",
    "\n",
    "II. Próximos Passos (Etapa 3: Preparação para Modelagem)\n",
    "Correlação Inicial: Verificar o Heatmap de correlação entre Age, Income e Number of Children.\n",
    "\n",
    "Codificação Categórica:\n",
    "\n",
    " - One-Hot Encoding para colunas nominais (Gender, Home Ownership, Marital Status).\n",
    "\n",
    " - Codificação Ordinal para Education.\n",
    "\n",
    " - Correlação Completa: Replotar a correlação para ver o impacto das variáveis codificadas na variável alvo (Credit Score).\n",
    "\n",
    " - Divisão: Separar a base em treino e teste (70/30) usando estratificação (stratify=y).\n",
    "\n",
    " - Balanceamento: O Credit Score está desbalanceado (predomínio de \"High\"). Aplicar SMOTE (ou técnica similar) APENAS na base de treino para equalizar as classes de risco (\"Low\" e \"Average\")."
   ]
  },
  {
   "cell_type": "code",
   "execution_count": 101,
   "metadata": {},
   "outputs": [
    {
     "data": {
      "application/vnd.plotly.v1+json": {
       "config": {
        "plotlyServerURL": "https://plot.ly"
       },
       "data": [
        {
         "alignmentgroup": "True",
         "bingroup": "x",
         "hovertemplate": "Status Civil=Single<br>Idade (Anos)=%{x}<br>count=%{y}<extra></extra>",
         "legendgroup": "Single",
         "marker": {
          "color": "rgb(127, 60, 141)",
          "pattern": {
           "shape": ""
          }
         },
         "name": "Single",
         "nbinsx": 10,
         "offsetgroup": "Single",
         "orientation": "v",
         "showlegend": true,
         "type": "histogram",
         "x": {
          "bdata": "AAAAAAAAOUAAAAAAAABEQAAAAAAAADpAAAAAAAAAP0CMLrroostEQBdddNFFFzxAQgghhBBCPUCMLrroostEQBdddNFFFzxAQgghhBBCPUAAAAAAAIBFQAAAAAAAAD1AAAAAAAAAQUAAAAAAAABGQAAAAAAAADlAAAAAAAAAREAAAAAAAAA6QAAAAAAAAD9AAAAAAACAREAAAAAAAAA7QAAAAAAAAEBAAAAAAAAARUAAAAAAAAA8QAAAAAAAgEBAAAAAAACARUAAAAAAAAA9QAAAAAAAAEFAAAAAAAAARkAAAAAAAAA5QAAAAAAAADlAAAAAAAAAREAAAAAAAAA6QAAAAAAAAD9AAAAAAACAREAAAAAAAAA7QAAAAAAAAEBAAAAAAAAARUAAAAAAAAA8QAAAAAAAgEBAjC666KLLREAXXXTRRRc8QEIIIYQQQj1AjC666KLLREBCCCGEEEI9QAAAAAAAADlAAAAAAAAAREAAAAAAAAA6QAAAAAAAAD9AAAAAAACAREAAAAAAAAA7QAAAAAAAAEBAAAAAAAAARUAAAAAAAAA8QAAAAAAAgEBAAAAAAACARUAAAAAAAAA9QAAAAAAAAEFAAAAAAAAARkAAAAAAAAA5QAAAAAAAADlAAAAAAAAAPEAAAAAAAAA/QAAAAAAAAEBAAAAAAAAAOUAAAAAAAABEQAAAAAAAADpAAAAAAAAAP0CMLrroostEQBdddNFFFzxAQgghhBBCPUCMLrroostEQAAAAAAAADxAAAAAAACAQEAAAAAAAIBFQAAAAAAAAD1AAAAAAAAAQUAAAAAAAABGQA==",
          "dtype": "f8"
         },
         "xaxis": "x",
         "yaxis": "y"
        },
        {
         "alignmentgroup": "True",
         "bingroup": "x",
         "hovertemplate": "Status Civil=Married<br>Idade (Anos)=%{x}<br>count=%{y}<extra></extra>",
         "legendgroup": "Married",
         "marker": {
          "color": "rgb(17, 165, 121)",
          "pattern": {
           "shape": ""
          }
         },
         "name": "Married",
         "nbinsx": 10,
         "offsetgroup": "Married",
         "orientation": "v",
         "showlegend": true,
         "type": "histogram",
         "x": {
          "bdata": "AAAAAAAAPkAAAAAAAIBBQAAAAAAAgEZAAAAAAAAASUCMLrroostEQIwuuuiiy0RAjC666KLLRECMLrroostEQIwuuuiiy0RAjC666KLLRECMLrroostEQAAAAAAAAEhAAAAAAACASkAAAAAAAIBDQAAAAAAAgEhAAAAAAAAAPkAAAAAAAIBBQAAAAAAAgEZAAAAAAAAASUAAAAAAAABCQAAAAAAAAEdAAAAAAACASUAAAAAAAIBCQAAAAAAAgEdAAAAAAAAASkAAAAAAAABDQAAAAAAAAEhAAAAAAACASkAAAAAAAIBDQAAAAAAAgEhAAAAAAAAAPkAAAAAAAIBBQAAAAAAAAD5AAAAAAACAQUAAAAAAAIBGQAAAAAAAAElAAAAAAAAAQkAAAAAAAABHQAAAAAAAgElAAAAAAACAQkAAAAAAAIBHQAAAAAAAAEpAjC666KLLRECMLrroostEQIwuuuiiy0RAjC666KLLRECMLrroostEQIwuuuiiy0RAjC666KLLREAAAAAAAAA+QAAAAAAAgEFAAAAAAACARkAAAAAAAABJQAAAAAAAAEJAAAAAAAAAR0AAAAAAAIBJQAAAAAAAgEJAAAAAAACAR0AAAAAAAABKQAAAAAAAAENAAAAAAAAASEAAAAAAAIBKQAAAAAAAgENAAAAAAACASEAAAAAAAAA+QAAAAAAAgEFAAAAAAAAAPkAAAAAAAIBBQAAAAAAAgEBAAAAAAAAAOkAAAAAAAAA9QAAAAAAAAEFAAAAAAAAAPkAAAAAAAIBBQAAAAAAAgEZAAAAAAAAASUAAAAAAAABCQIwuuuiiy0RAjC666KLLRECMLrroostEQIwuuuiiy0RAjC666KLLREAAAAAAAABDQAAAAAAAAEhAAAAAAACASkAAAAAAAIBDQAAAAAAAgEhA",
          "dtype": "f8"
         },
         "xaxis": "x",
         "yaxis": "y"
        }
       ],
       "layout": {
        "bargap": 0.1,
        "barmode": "group",
        "legend": {
         "title": {
          "text": "Status Civil"
         },
         "tracegroupgap": 0
        },
        "template": {
         "data": {
          "bar": [
           {
            "error_x": {
             "color": "#2a3f5f"
            },
            "error_y": {
             "color": "#2a3f5f"
            },
            "marker": {
             "line": {
              "color": "#E5ECF6",
              "width": 0.5
             },
             "pattern": {
              "fillmode": "overlay",
              "size": 10,
              "solidity": 0.2
             }
            },
            "type": "bar"
           }
          ],
          "barpolar": [
           {
            "marker": {
             "line": {
              "color": "#E5ECF6",
              "width": 0.5
             },
             "pattern": {
              "fillmode": "overlay",
              "size": 10,
              "solidity": 0.2
             }
            },
            "type": "barpolar"
           }
          ],
          "carpet": [
           {
            "aaxis": {
             "endlinecolor": "#2a3f5f",
             "gridcolor": "white",
             "linecolor": "white",
             "minorgridcolor": "white",
             "startlinecolor": "#2a3f5f"
            },
            "baxis": {
             "endlinecolor": "#2a3f5f",
             "gridcolor": "white",
             "linecolor": "white",
             "minorgridcolor": "white",
             "startlinecolor": "#2a3f5f"
            },
            "type": "carpet"
           }
          ],
          "choropleth": [
           {
            "colorbar": {
             "outlinewidth": 0,
             "ticks": ""
            },
            "type": "choropleth"
           }
          ],
          "contour": [
           {
            "colorbar": {
             "outlinewidth": 0,
             "ticks": ""
            },
            "colorscale": [
             [
              0,
              "#0d0887"
             ],
             [
              0.1111111111111111,
              "#46039f"
             ],
             [
              0.2222222222222222,
              "#7201a8"
             ],
             [
              0.3333333333333333,
              "#9c179e"
             ],
             [
              0.4444444444444444,
              "#bd3786"
             ],
             [
              0.5555555555555556,
              "#d8576b"
             ],
             [
              0.6666666666666666,
              "#ed7953"
             ],
             [
              0.7777777777777778,
              "#fb9f3a"
             ],
             [
              0.8888888888888888,
              "#fdca26"
             ],
             [
              1,
              "#f0f921"
             ]
            ],
            "type": "contour"
           }
          ],
          "contourcarpet": [
           {
            "colorbar": {
             "outlinewidth": 0,
             "ticks": ""
            },
            "type": "contourcarpet"
           }
          ],
          "heatmap": [
           {
            "colorbar": {
             "outlinewidth": 0,
             "ticks": ""
            },
            "colorscale": [
             [
              0,
              "#0d0887"
             ],
             [
              0.1111111111111111,
              "#46039f"
             ],
             [
              0.2222222222222222,
              "#7201a8"
             ],
             [
              0.3333333333333333,
              "#9c179e"
             ],
             [
              0.4444444444444444,
              "#bd3786"
             ],
             [
              0.5555555555555556,
              "#d8576b"
             ],
             [
              0.6666666666666666,
              "#ed7953"
             ],
             [
              0.7777777777777778,
              "#fb9f3a"
             ],
             [
              0.8888888888888888,
              "#fdca26"
             ],
             [
              1,
              "#f0f921"
             ]
            ],
            "type": "heatmap"
           }
          ],
          "histogram": [
           {
            "marker": {
             "pattern": {
              "fillmode": "overlay",
              "size": 10,
              "solidity": 0.2
             }
            },
            "type": "histogram"
           }
          ],
          "histogram2d": [
           {
            "colorbar": {
             "outlinewidth": 0,
             "ticks": ""
            },
            "colorscale": [
             [
              0,
              "#0d0887"
             ],
             [
              0.1111111111111111,
              "#46039f"
             ],
             [
              0.2222222222222222,
              "#7201a8"
             ],
             [
              0.3333333333333333,
              "#9c179e"
             ],
             [
              0.4444444444444444,
              "#bd3786"
             ],
             [
              0.5555555555555556,
              "#d8576b"
             ],
             [
              0.6666666666666666,
              "#ed7953"
             ],
             [
              0.7777777777777778,
              "#fb9f3a"
             ],
             [
              0.8888888888888888,
              "#fdca26"
             ],
             [
              1,
              "#f0f921"
             ]
            ],
            "type": "histogram2d"
           }
          ],
          "histogram2dcontour": [
           {
            "colorbar": {
             "outlinewidth": 0,
             "ticks": ""
            },
            "colorscale": [
             [
              0,
              "#0d0887"
             ],
             [
              0.1111111111111111,
              "#46039f"
             ],
             [
              0.2222222222222222,
              "#7201a8"
             ],
             [
              0.3333333333333333,
              "#9c179e"
             ],
             [
              0.4444444444444444,
              "#bd3786"
             ],
             [
              0.5555555555555556,
              "#d8576b"
             ],
             [
              0.6666666666666666,
              "#ed7953"
             ],
             [
              0.7777777777777778,
              "#fb9f3a"
             ],
             [
              0.8888888888888888,
              "#fdca26"
             ],
             [
              1,
              "#f0f921"
             ]
            ],
            "type": "histogram2dcontour"
           }
          ],
          "mesh3d": [
           {
            "colorbar": {
             "outlinewidth": 0,
             "ticks": ""
            },
            "type": "mesh3d"
           }
          ],
          "parcoords": [
           {
            "line": {
             "colorbar": {
              "outlinewidth": 0,
              "ticks": ""
             }
            },
            "type": "parcoords"
           }
          ],
          "pie": [
           {
            "automargin": true,
            "type": "pie"
           }
          ],
          "scatter": [
           {
            "fillpattern": {
             "fillmode": "overlay",
             "size": 10,
             "solidity": 0.2
            },
            "type": "scatter"
           }
          ],
          "scatter3d": [
           {
            "line": {
             "colorbar": {
              "outlinewidth": 0,
              "ticks": ""
             }
            },
            "marker": {
             "colorbar": {
              "outlinewidth": 0,
              "ticks": ""
             }
            },
            "type": "scatter3d"
           }
          ],
          "scattercarpet": [
           {
            "marker": {
             "colorbar": {
              "outlinewidth": 0,
              "ticks": ""
             }
            },
            "type": "scattercarpet"
           }
          ],
          "scattergeo": [
           {
            "marker": {
             "colorbar": {
              "outlinewidth": 0,
              "ticks": ""
             }
            },
            "type": "scattergeo"
           }
          ],
          "scattergl": [
           {
            "marker": {
             "colorbar": {
              "outlinewidth": 0,
              "ticks": ""
             }
            },
            "type": "scattergl"
           }
          ],
          "scattermap": [
           {
            "marker": {
             "colorbar": {
              "outlinewidth": 0,
              "ticks": ""
             }
            },
            "type": "scattermap"
           }
          ],
          "scattermapbox": [
           {
            "marker": {
             "colorbar": {
              "outlinewidth": 0,
              "ticks": ""
             }
            },
            "type": "scattermapbox"
           }
          ],
          "scatterpolar": [
           {
            "marker": {
             "colorbar": {
              "outlinewidth": 0,
              "ticks": ""
             }
            },
            "type": "scatterpolar"
           }
          ],
          "scatterpolargl": [
           {
            "marker": {
             "colorbar": {
              "outlinewidth": 0,
              "ticks": ""
             }
            },
            "type": "scatterpolargl"
           }
          ],
          "scatterternary": [
           {
            "marker": {
             "colorbar": {
              "outlinewidth": 0,
              "ticks": ""
             }
            },
            "type": "scatterternary"
           }
          ],
          "surface": [
           {
            "colorbar": {
             "outlinewidth": 0,
             "ticks": ""
            },
            "colorscale": [
             [
              0,
              "#0d0887"
             ],
             [
              0.1111111111111111,
              "#46039f"
             ],
             [
              0.2222222222222222,
              "#7201a8"
             ],
             [
              0.3333333333333333,
              "#9c179e"
             ],
             [
              0.4444444444444444,
              "#bd3786"
             ],
             [
              0.5555555555555556,
              "#d8576b"
             ],
             [
              0.6666666666666666,
              "#ed7953"
             ],
             [
              0.7777777777777778,
              "#fb9f3a"
             ],
             [
              0.8888888888888888,
              "#fdca26"
             ],
             [
              1,
              "#f0f921"
             ]
            ],
            "type": "surface"
           }
          ],
          "table": [
           {
            "cells": {
             "fill": {
              "color": "#EBF0F8"
             },
             "line": {
              "color": "white"
             }
            },
            "header": {
             "fill": {
              "color": "#C8D4E3"
             },
             "line": {
              "color": "white"
             }
            },
            "type": "table"
           }
          ]
         },
         "layout": {
          "annotationdefaults": {
           "arrowcolor": "#2a3f5f",
           "arrowhead": 0,
           "arrowwidth": 1
          },
          "autotypenumbers": "strict",
          "coloraxis": {
           "colorbar": {
            "outlinewidth": 0,
            "ticks": ""
           }
          },
          "colorscale": {
           "diverging": [
            [
             0,
             "#8e0152"
            ],
            [
             0.1,
             "#c51b7d"
            ],
            [
             0.2,
             "#de77ae"
            ],
            [
             0.3,
             "#f1b6da"
            ],
            [
             0.4,
             "#fde0ef"
            ],
            [
             0.5,
             "#f7f7f7"
            ],
            [
             0.6,
             "#e6f5d0"
            ],
            [
             0.7,
             "#b8e186"
            ],
            [
             0.8,
             "#7fbc41"
            ],
            [
             0.9,
             "#4d9221"
            ],
            [
             1,
             "#276419"
            ]
           ],
           "sequential": [
            [
             0,
             "#0d0887"
            ],
            [
             0.1111111111111111,
             "#46039f"
            ],
            [
             0.2222222222222222,
             "#7201a8"
            ],
            [
             0.3333333333333333,
             "#9c179e"
            ],
            [
             0.4444444444444444,
             "#bd3786"
            ],
            [
             0.5555555555555556,
             "#d8576b"
            ],
            [
             0.6666666666666666,
             "#ed7953"
            ],
            [
             0.7777777777777778,
             "#fb9f3a"
            ],
            [
             0.8888888888888888,
             "#fdca26"
            ],
            [
             1,
             "#f0f921"
            ]
           ],
           "sequentialminus": [
            [
             0,
             "#0d0887"
            ],
            [
             0.1111111111111111,
             "#46039f"
            ],
            [
             0.2222222222222222,
             "#7201a8"
            ],
            [
             0.3333333333333333,
             "#9c179e"
            ],
            [
             0.4444444444444444,
             "#bd3786"
            ],
            [
             0.5555555555555556,
             "#d8576b"
            ],
            [
             0.6666666666666666,
             "#ed7953"
            ],
            [
             0.7777777777777778,
             "#fb9f3a"
            ],
            [
             0.8888888888888888,
             "#fdca26"
            ],
            [
             1,
             "#f0f921"
            ]
           ]
          },
          "colorway": [
           "#636efa",
           "#EF553B",
           "#00cc96",
           "#ab63fa",
           "#FFA15A",
           "#19d3f3",
           "#FF6692",
           "#B6E880",
           "#FF97FF",
           "#FECB52"
          ],
          "font": {
           "color": "#2a3f5f"
          },
          "geo": {
           "bgcolor": "white",
           "lakecolor": "white",
           "landcolor": "#E5ECF6",
           "showlakes": true,
           "showland": true,
           "subunitcolor": "white"
          },
          "hoverlabel": {
           "align": "left"
          },
          "hovermode": "closest",
          "mapbox": {
           "style": "light"
          },
          "paper_bgcolor": "white",
          "plot_bgcolor": "#E5ECF6",
          "polar": {
           "angularaxis": {
            "gridcolor": "white",
            "linecolor": "white",
            "ticks": ""
           },
           "bgcolor": "#E5ECF6",
           "radialaxis": {
            "gridcolor": "white",
            "linecolor": "white",
            "ticks": ""
           }
          },
          "scene": {
           "xaxis": {
            "backgroundcolor": "#E5ECF6",
            "gridcolor": "white",
            "gridwidth": 2,
            "linecolor": "white",
            "showbackground": true,
            "ticks": "",
            "zerolinecolor": "white"
           },
           "yaxis": {
            "backgroundcolor": "#E5ECF6",
            "gridcolor": "white",
            "gridwidth": 2,
            "linecolor": "white",
            "showbackground": true,
            "ticks": "",
            "zerolinecolor": "white"
           },
           "zaxis": {
            "backgroundcolor": "#E5ECF6",
            "gridcolor": "white",
            "gridwidth": 2,
            "linecolor": "white",
            "showbackground": true,
            "ticks": "",
            "zerolinecolor": "white"
           }
          },
          "shapedefaults": {
           "line": {
            "color": "#2a3f5f"
           }
          },
          "ternary": {
           "aaxis": {
            "gridcolor": "white",
            "linecolor": "white",
            "ticks": ""
           },
           "baxis": {
            "gridcolor": "white",
            "linecolor": "white",
            "ticks": ""
           },
           "bgcolor": "#E5ECF6",
           "caxis": {
            "gridcolor": "white",
            "linecolor": "white",
            "ticks": ""
           }
          },
          "title": {
           "x": 0.05
          },
          "xaxis": {
           "automargin": true,
           "gridcolor": "white",
           "linecolor": "white",
           "ticks": "",
           "title": {
            "standoff": 15
           },
           "zerolinecolor": "white",
           "zerolinewidth": 2
          },
          "yaxis": {
           "automargin": true,
           "gridcolor": "white",
           "linecolor": "white",
           "ticks": "",
           "title": {
            "standoff": 15
           },
           "zerolinecolor": "white",
           "zerolinewidth": 2
          }
         }
        },
        "title": {
         "text": "Histograma de Idade Separado por Status Civil"
        },
        "xaxis": {
         "anchor": "y",
         "domain": [
          0,
          1
         ],
         "title": {
          "text": "Idade (Anos)"
         }
        },
        "yaxis": {
         "anchor": "x",
         "domain": [
          0,
          1
         ],
         "showticklabels": false,
         "title": {}
        }
       }
      },
      "image/png": "[encoded data removed]"
     },
     "metadata": {},
     "output_type": "display_data"
    },
    {
     "data": {
      "application/vnd.plotly.v1+json": {
       "config": {
        "plotlyServerURL": "https://plot.ly"
       },
       "data": [
        {
         "bingroup": "x",
         "hovertemplate": "Credit Score=High<br>Escolaridade=%{x}<br>count=%{y}<extra></extra>",
         "legendgroup": "High",
         "marker": {
          "color": "#1f77b4",
          "pattern": {
           "shape": ""
          }
         },
         "name": "High",
         "orientation": "v",
         "showlegend": true,
         "type": "histogram",
         "x": [
          "Bachelors Degree",
          "Masters Degree",
          "Doctorate",
          "High School Diploma",
          "Bachelors Degree",
          "Masters Degree",
          "Masters Degree",
          "Doctorate",
          "High School Diploma",
          "Bachelors Degree",
          "Bachelors Degree",
          "Masters Degree",
          "Doctorate",
          "High School Diploma",
          "Bachelors Degree",
          "Masters Degree",
          "Doctorate",
          "Associates Degree",
          "Bachelors Degree",
          "Masters Degree",
          "Doctorate",
          "Masters Degree",
          "Doctorate",
          "High School Diploma",
          "Bachelors Degree",
          "Masters Degree",
          "Masters Degree",
          "Doctorate",
          "High School Diploma",
          "Bachelors Degree",
          "Bachelors Degree",
          "Masters Degree",
          "Doctorate",
          "High School Diploma",
          "Bachelors Degree",
          "Masters Degree",
          "Doctorate",
          "Associates Degree",
          "Bachelors Degree",
          "Masters Degree",
          "Doctorate",
          "Masters Degree",
          "Doctorate",
          "Masters Degree",
          "Doctorate",
          "High School Diploma",
          "Bachelors Degree",
          "Masters Degree",
          "Masters Degree",
          "Doctorate",
          "High School Diploma",
          "Bachelors Degree",
          "Bachelors Degree",
          "Masters Degree",
          "Doctorate",
          "High School Diploma",
          "Bachelors Degree",
          "Masters Degree",
          "Doctorate",
          "Associates Degree",
          "Bachelors Degree",
          "Masters Degree",
          "Doctorate",
          "Masters Degree",
          "Doctorate",
          "Masters Degree",
          "Doctorate",
          "High School Diploma",
          "Bachelors Degree",
          "Masters Degree",
          "Masters Degree",
          "Doctorate",
          "High School Diploma",
          "Bachelors Degree",
          "Bachelors Degree",
          "Masters Degree",
          "Doctorate",
          "High School Diploma",
          "Bachelors Degree",
          "Masters Degree",
          "Doctorate",
          "Associates Degree",
          "Bachelors Degree",
          "Masters Degree",
          "Doctorate",
          "Masters Degree",
          "Doctorate",
          "Masters Degree",
          "Doctorate",
          "Masters Degree",
          "Doctorate",
          "Masters Degree",
          "Bachelors Degree",
          "Masters Degree",
          "Doctorate",
          "High School Diploma",
          "Bachelors Degree",
          "Masters Degree",
          "Masters Degree",
          "Doctorate",
          "High School Diploma",
          "Bachelors Degree",
          "Bachelors Degree",
          "Masters Degree",
          "Doctorate",
          "High School Diploma",
          "Bachelors Degree",
          "Masters Degree",
          "Doctorate",
          "Associates Degree",
          "Bachelors Degree",
          "Masters Degree",
          "Doctorate"
         ],
         "xaxis": "x",
         "yaxis": "y"
        },
        {
         "bingroup": "x",
         "hovertemplate": "Credit Score=Average<br>Escolaridade=%{x}<br>count=%{y}<extra></extra>",
         "legendgroup": "Average",
         "marker": {
          "color": "#ff7f0e",
          "pattern": {
           "shape": ""
          }
         },
         "name": "Average",
         "orientation": "v",
         "showlegend": true,
         "type": "histogram",
         "x": [
          "Associates Degree",
          "Bachelors Degree",
          "Associates Degree",
          "High School Diploma",
          "Associates Degree",
          "Bachelors Degree",
          "Associates Degree",
          "Bachelors Degree",
          "Associates Degree",
          "High School Diploma",
          "Associates Degree",
          "Bachelors Degree",
          "Bachelors Degree",
          "Associates Degree",
          "Bachelors Degree",
          "Associates Degree",
          "High School Diploma",
          "Associates Degree",
          "Bachelors Degree",
          "Bachelors Degree",
          "Associates Degree",
          "Bachelors Degree",
          "Associates Degree",
          "High School Diploma",
          "Associates Degree",
          "Bachelors Degree",
          "Bachelors Degree",
          "Bachelors Degree",
          "Bachelors Degree",
          "Doctorate",
          "Bachelors Degree",
          "Associates Degree",
          "Bachelors Degree",
          "Associates Degree",
          "High School Diploma",
          "Associates Degree"
         ],
         "xaxis": "x",
         "yaxis": "y"
        },
        {
         "bingroup": "x",
         "hovertemplate": "Credit Score=Low<br>Escolaridade=%{x}<br>count=%{y}<extra></extra>",
         "legendgroup": "Low",
         "marker": {
          "color": "#d62728",
          "pattern": {
           "shape": ""
          }
         },
         "name": "Low",
         "orientation": "v",
         "showlegend": true,
         "type": "histogram",
         "x": [
          "High School Diploma",
          "Associates Degree",
          "High School Diploma",
          "High School Diploma",
          "Associates Degree",
          "High School Diploma",
          "High School Diploma",
          "Associates Degree",
          "High School Diploma",
          "High School Diploma",
          "Associates Degree",
          "High School Diploma",
          "High School Diploma",
          "Associates Degree",
          "High School Diploma"
         ],
         "xaxis": "x",
         "yaxis": "y"
        }
       ],
       "layout": {
        "barmode": "stack",
        "legend": {
         "title": {
          "text": "Credit Score"
         },
         "tracegroupgap": 0
        },
        "template": {
         "data": {
          "bar": [
           {
            "error_x": {
             "color": "#2a3f5f"
            },
            "error_y": {
             "color": "#2a3f5f"
            },
            "marker": {
             "line": {
              "color": "#E5ECF6",
              "width": 0.5
             },
             "pattern": {
              "fillmode": "overlay",
              "size": 10,
              "solidity": 0.2
             }
            },
            "type": "bar"
           }
          ],
          "barpolar": [
           {
            "marker": {
             "line": {
              "color": "#E5ECF6",
              "width": 0.5
             },
             "pattern": {
              "fillmode": "overlay",
              "size": 10,
              "solidity": 0.2
             }
            },
            "type": "barpolar"
           }
          ],
          "carpet": [
           {
            "aaxis": {
             "endlinecolor": "#2a3f5f",
             "gridcolor": "white",
             "linecolor": "white",
             "minorgridcolor": "white",
             "startlinecolor": "#2a3f5f"
            },
            "baxis": {
             "endlinecolor": "#2a3f5f",
             "gridcolor": "white",
             "linecolor": "white",
             "minorgridcolor": "white",
             "startlinecolor": "#2a3f5f"
            },
            "type": "carpet"
           }
          ],
          "choropleth": [
           {
            "colorbar": {
             "outlinewidth": 0,
             "ticks": ""
            },
            "type": "choropleth"
           }
          ],
          "contour": [
           {
            "colorbar": {
             "outlinewidth": 0,
             "ticks": ""
            },
            "colorscale": [
             [
              0,
              "#0d0887"
             ],
             [
              0.1111111111111111,
              "#46039f"
             ],
             [
              0.2222222222222222,
              "#7201a8"
             ],
             [
              0.3333333333333333,
              "#9c179e"
             ],
             [
              0.4444444444444444,
              "#bd3786"
             ],
             [
              0.5555555555555556,
              "#d8576b"
             ],
             [
              0.6666666666666666,
              "#ed7953"
             ],
             [
              0.7777777777777778,
              "#fb9f3a"
             ],
             [
              0.8888888888888888,
              "#fdca26"
             ],
             [
              1,
              "#f0f921"
             ]
            ],
            "type": "contour"
           }
          ],
          "contourcarpet": [
           {
            "colorbar": {
             "outlinewidth": 0,
             "ticks": ""
            },
            "type": "contourcarpet"
           }
          ],
          "heatmap": [
           {
            "colorbar": {
             "outlinewidth": 0,
             "ticks": ""
            },
            "colorscale": [
             [
              0,
              "#0d0887"
             ],
             [
              0.1111111111111111,
              "#46039f"
             ],
             [
              0.2222222222222222,
              "#7201a8"
             ],
             [
              0.3333333333333333,
              "#9c179e"
             ],
             [
              0.4444444444444444,
              "#bd3786"
             ],
             [
              0.5555555555555556,
              "#d8576b"
             ],
             [
              0.6666666666666666,
              "#ed7953"
             ],
             [
              0.7777777777777778,
              "#fb9f3a"
             ],
             [
              0.8888888888888888,
              "#fdca26"
             ],
             [
              1,
              "#f0f921"
             ]
            ],
            "type": "heatmap"
           }
          ],
          "histogram": [
           {
            "marker": {
             "pattern": {
              "fillmode": "overlay",
              "size": 10,
              "solidity": 0.2
             }
            },
            "type": "histogram"
           }
          ],
          "histogram2d": [
           {
            "colorbar": {
             "outlinewidth": 0,
             "ticks": ""
            },
            "colorscale": [
             [
              0,
              "#0d0887"
             ],
             [
              0.1111111111111111,
              "#46039f"
             ],
             [
              0.2222222222222222,
              "#7201a8"
             ],
             [
              0.3333333333333333,
              "#9c179e"
             ],
             [
              0.4444444444444444,
              "#bd3786"
             ],
             [
              0.5555555555555556,
              "#d8576b"
             ],
             [
              0.6666666666666666,
              "#ed7953"
             ],
             [
              0.7777777777777778,
              "#fb9f3a"
             ],
             [
              0.8888888888888888,
              "#fdca26"
             ],
             [
              1,
              "#f0f921"
             ]
            ],
            "type": "histogram2d"
           }
          ],
          "histogram2dcontour": [
           {
            "colorbar": {
             "outlinewidth": 0,
             "ticks": ""
            },
            "colorscale": [
             [
              0,
              "#0d0887"
             ],
             [
              0.1111111111111111,
              "#46039f"
             ],
             [
              0.2222222222222222,
              "#7201a8"
             ],
             [
              0.3333333333333333,
              "#9c179e"
             ],
             [
              0.4444444444444444,
              "#bd3786"
             ],
             [
              0.5555555555555556,
              "#d8576b"
             ],
             [
              0.6666666666666666,
              "#ed7953"
             ],
             [
              0.7777777777777778,
              "#fb9f3a"
             ],
             [
              0.8888888888888888,
              "#fdca26"
             ],
             [
              1,
              "#f0f921"
             ]
            ],
            "type": "histogram2dcontour"
           }
          ],
          "mesh3d": [
           {
            "colorbar": {
             "outlinewidth": 0,
             "ticks": ""
            },
            "type": "mesh3d"
           }
          ],
          "parcoords": [
           {
            "line": {
             "colorbar": {
              "outlinewidth": 0,
              "ticks": ""
             }
            },
            "type": "parcoords"
           }
          ],
          "pie": [
           {
            "automargin": true,
            "type": "pie"
           }
          ],
          "scatter": [
           {
            "fillpattern": {
             "fillmode": "overlay",
             "size": 10,
             "solidity": 0.2
            },
            "type": "scatter"
           }
          ],
          "scatter3d": [
           {
            "line": {
             "colorbar": {
              "outlinewidth": 0,
              "ticks": ""
             }
            },
            "marker": {
             "colorbar": {
              "outlinewidth": 0,
              "ticks": ""
             }
            },
            "type": "scatter3d"
           }
          ],
          "scattercarpet": [
           {
            "marker": {
             "colorbar": {
              "outlinewidth": 0,
              "ticks": ""
             }
            },
            "type": "scattercarpet"
           }
          ],
          "scattergeo": [
           {
            "marker": {
             "colorbar": {
              "outlinewidth": 0,
              "ticks": ""
             }
            },
            "type": "scattergeo"
           }
          ],
          "scattergl": [
           {
            "marker": {
             "colorbar": {
              "outlinewidth": 0,
              "ticks": ""
             }
            },
            "type": "scattergl"
           }
          ],
          "scattermap": [
           {
            "marker": {
             "colorbar": {
              "outlinewidth": 0,
              "ticks": ""
             }
            },
            "type": "scattermap"
           }
          ],
          "scattermapbox": [
           {
            "marker": {
             "colorbar": {
              "outlinewidth": 0,
              "ticks": ""
             }
            },
            "type": "scattermapbox"
           }
          ],
          "scatterpolar": [
           {
            "marker": {
             "colorbar": {
              "outlinewidth": 0,
              "ticks": ""
             }
            },
            "type": "scatterpolar"
           }
          ],
          "scatterpolargl": [
           {
            "marker": {
             "colorbar": {
              "outlinewidth": 0,
              "ticks": ""
             }
            },
            "type": "scatterpolargl"
           }
          ],
          "scatterternary": [
           {
            "marker": {
             "colorbar": {
              "outlinewidth": 0,
              "ticks": ""
             }
            },
            "type": "scatterternary"
           }
          ],
          "surface": [
           {
            "colorbar": {
             "outlinewidth": 0,
             "ticks": ""
            },
            "colorscale": [
             [
              0,
              "#0d0887"
             ],
             [
              0.1111111111111111,
              "#46039f"
             ],
             [
              0.2222222222222222,
              "#7201a8"
             ],
             [
              0.3333333333333333,
              "#9c179e"
             ],
             [
              0.4444444444444444,
              "#bd3786"
             ],
             [
              0.5555555555555556,
              "#d8576b"
             ],
             [
              0.6666666666666666,
              "#ed7953"
             ],
             [
              0.7777777777777778,
              "#fb9f3a"
             ],
             [
              0.8888888888888888,
              "#fdca26"
             ],
             [
              1,
              "#f0f921"
             ]
            ],
            "type": "surface"
           }
          ],
          "table": [
           {
            "cells": {
             "fill": {
              "color": "#EBF0F8"
             },
             "line": {
              "color": "white"
             }
            },
            "header": {
             "fill": {
              "color": "#C8D4E3"
             },
             "line": {
              "color": "white"
             }
            },
            "type": "table"
           }
          ]
         },
         "layout": {
          "annotationdefaults": {
           "arrowcolor": "#2a3f5f",
           "arrowhead": 0,
           "arrowwidth": 1
          },
          "autotypenumbers": "strict",
          "coloraxis": {
           "colorbar": {
            "outlinewidth": 0,
            "ticks": ""
           }
          },
          "colorscale": {
           "diverging": [
            [
             0,
             "#8e0152"
            ],
            [
             0.1,
             "#c51b7d"
            ],
            [
             0.2,
             "#de77ae"
            ],
            [
             0.3,
             "#f1b6da"
            ],
            [
             0.4,
             "#fde0ef"
            ],
            [
             0.5,
             "#f7f7f7"
            ],
            [
             0.6,
             "#e6f5d0"
            ],
            [
             0.7,
             "#b8e186"
            ],
            [
             0.8,
             "#7fbc41"
            ],
            [
             0.9,
             "#4d9221"
            ],
            [
             1,
             "#276419"
            ]
           ],
           "sequential": [
            [
             0,
             "#0d0887"
            ],
            [
             0.1111111111111111,
             "#46039f"
            ],
            [
             0.2222222222222222,
             "#7201a8"
            ],
            [
             0.3333333333333333,
             "#9c179e"
            ],
            [
             0.4444444444444444,
             "#bd3786"
            ],
            [
             0.5555555555555556,
             "#d8576b"
            ],
            [
             0.6666666666666666,
             "#ed7953"
            ],
            [
             0.7777777777777778,
             "#fb9f3a"
            ],
            [
             0.8888888888888888,
             "#fdca26"
            ],
            [
             1,
             "#f0f921"
            ]
           ],
           "sequentialminus": [
            [
             0,
             "#0d0887"
            ],
            [
             0.1111111111111111,
             "#46039f"
            ],
            [
             0.2222222222222222,
             "#7201a8"
            ],
            [
             0.3333333333333333,
             "#9c179e"
            ],
            [
             0.4444444444444444,
             "#bd3786"
            ],
            [
             0.5555555555555556,
             "#d8576b"
            ],
            [
             0.6666666666666666,
             "#ed7953"
            ],
            [
             0.7777777777777778,
             "#fb9f3a"
            ],
            [
             0.8888888888888888,
             "#fdca26"
            ],
            [
             1,
             "#f0f921"
            ]
           ]
          },
          "colorway": [
           "#636efa",
           "#EF553B",
           "#00cc96",
           "#ab63fa",
           "#FFA15A",
           "#19d3f3",
           "#FF6692",
           "#B6E880",
           "#FF97FF",
           "#FECB52"
          ],
          "font": {
           "color": "#2a3f5f"
          },
          "geo": {
           "bgcolor": "white",
           "lakecolor": "white",
           "landcolor": "#E5ECF6",
           "showlakes": true,
           "showland": true,
           "subunitcolor": "white"
          },
          "hoverlabel": {
           "align": "left"
          },
          "hovermode": "closest",
          "mapbox": {
           "style": "light"
          },
          "paper_bgcolor": "white",
          "plot_bgcolor": "#E5ECF6",
          "polar": {
           "angularaxis": {
            "gridcolor": "white",
            "linecolor": "white",
            "ticks": ""
           },
           "bgcolor": "#E5ECF6",
           "radialaxis": {
            "gridcolor": "white",
            "linecolor": "white",
            "ticks": ""
           }
          },
          "scene": {
           "xaxis": {
            "backgroundcolor": "#E5ECF6",
            "gridcolor": "white",
            "gridwidth": 2,
            "linecolor": "white",
            "showbackground": true,
            "ticks": "",
            "zerolinecolor": "white"
           },
           "yaxis": {
            "backgroundcolor": "#E5ECF6",
            "gridcolor": "white",
            "gridwidth": 2,
            "linecolor": "white",
            "showbackground": true,
            "ticks": "",
            "zerolinecolor": "white"
           },
           "zaxis": {
            "backgroundcolor": "#E5ECF6",
            "gridcolor": "white",
            "gridwidth": 2,
            "linecolor": "white",
            "showbackground": true,
            "ticks": "",
            "zerolinecolor": "white"
           }
          },
          "shapedefaults": {
           "line": {
            "color": "#2a3f5f"
           }
          },
          "ternary": {
           "aaxis": {
            "gridcolor": "white",
            "linecolor": "white",
            "ticks": ""
           },
           "baxis": {
            "gridcolor": "white",
            "linecolor": "white",
            "ticks": ""
           },
           "bgcolor": "#E5ECF6",
           "caxis": {
            "gridcolor": "white",
            "linecolor": "white",
            "ticks": ""
           }
          },
          "title": {
           "x": 0.05
          },
          "xaxis": {
           "automargin": true,
           "gridcolor": "white",
           "linecolor": "white",
           "ticks": "",
           "title": {
            "standoff": 15
           },
           "zerolinecolor": "white",
           "zerolinewidth": 2
          },
          "yaxis": {
           "automargin": true,
           "gridcolor": "white",
           "linecolor": "white",
           "ticks": "",
           "title": {
            "standoff": 15
           },
           "zerolinecolor": "white",
           "zerolinewidth": 2
          }
         }
        },
        "title": {
         "text": "Credit Score por Nível de Escolaridade"
        },
        "xaxis": {
         "anchor": "y",
         "domain": [
          0,
          1
         ],
         "title": {
          "text": "Escolaridade"
         }
        },
        "yaxis": {
         "anchor": "x",
         "domain": [
          0,
          1
         ],
         "showticklabels": false,
         "title": {}
        }
       }
      },
      "image/png": "[encoded data removed]"
     },
     "metadata": {},
     "output_type": "display_data"
    },
    {
     "data": {
      "application/vnd.plotly.v1+json": {
       "config": {
        "plotlyServerURL": "https://plot.ly"
       },
       "data": [
        {
         "hovertemplate": "Gender=Female<br>Age_Normalized=%{x}<br>Income_Normalized=%{y}<extra></extra>",
         "legendgroup": "Female",
         "marker": {
          "color": "rgb(127, 60, 141)",
          "symbol": "circle"
         },
         "mode": "markers",
         "name": "Female",
         "orientation": "v",
         "showlegend": true,
         "type": "scatter",
         "x": {
          "bdata": "AAAAAAAAAAC4bdu2bdvWP7Zt27Zt2+Y/kCRJkiRJoj8c2DumBvbiPxzYO6YG9uI/8AlxVn5CvD8c2DumBvbiPxzYO6YG9uI/8AlxVn5CvD8c2DumBvbiP5IkSZIkSeo/kCRJkiRJwj8AAAAAAADgP9y2bdu2bes/AAAAAAAAAAC4bdu2bdvWP7Zt27Zt2+Y/kCRJkiRJoj9IkiRJkiTZPwAAAAAAAOg/kCRJkiRJsj/ctm3btm3bP0iSJEmSJOk/4LZt27Ztuz9s27Zt27bdP5IkSZIkSeo/kCRJkiRJwj8AAAAAAADgP9y2bdu2bes/AAAAAAAAAAC4bdu2bdvWPwAAAAAAAAAAuG3btm3b1j+2bdu2bdvmP5AkSZIkSaI/SJIkSZIk2T8AAAAAAADoP5AkSZIkSbI/3LZt27Zt2z9IkiRJkiTpP+C2bdu2bbs/HNg7pgb24j8c2DumBvbiP/AJcVZ+Qrw/HNg7pgb24j8c2DumBvbiP5jcTe4md8M/HNg7pgb24j8AAAAAAAAAALht27Zt29Y/tm3btm3b5j+QJEmSJEmiP0iSJEmSJNk/AAAAAAAA6D+QJEmSJEmyP9y2bdu2bds/SJIkSZIk6T/gtm3btm27P2zbtm3btt0/kiRJkiRJ6j+QJEmSJEnCPwAAAAAAAOA/3LZt27Zt6z8AAAAAAAAAALht27Zt29Y/AAAAAAAAAAC4bdu2bdvWP5QkSZIkSdI/kCRJkiRJoj+QJEmSJEnCPwAAAAAAAAAAuG3btm3b1j+2bdu2bdvmP5AkSZIkSaI/SJIkSZIk2T8c2DumBvbiP/AJcVZ+Qrw/HNg7pgb24j8c2DumBvbiP+C2bdu2bbs/bNu2bdu23T+SJEmSJEnqP5AkSZIkScI/AAAAAAAA4D/ctm3btm3rPw==",
          "dtype": "f8"
         },
         "xaxis": "x",
         "y": {
          "bdata": "RRdddNFFxz9GF1100UXXP3TRRRdddOE/7hvWvmHtuz+amZmZmZnZP0KeEuQpQd4/nhLkKUGesj/ylCBPCfLUP+4b1r5h7ds/oBLkKUGeoj+eEuQpQZ7SP/KUIE8J8tQ/AAAAAAAAAABKkKcEeUrQP54S5ClBntI/7RvWvmHtyz+amZmZmZnZP54S5ClBnuI/nxLkKUGewj/uG9a+Ye3bP0uQpwR5SuA/RhdddNFFtz8c1r5h7RvWP0KeEuQpQd4/8BvWvmHtqz/IU4I8JcjTP8TaN6x9w9o/oBLkKUGekj900UUXXXTRP3BY+4a1b9g/QZ4S5ClBzj/uG9a+Ye3bP0qQpwR5StA/Qp4S5ClB3j/IU4I8JcjjP/OUIE8J8sQ/Qp4S5ClB3j/gsPYNa9/gP0YXXXTRRbc/RhdddNFF1z9LkKcEeUrgP/Ab1r5h7as/yFOCPCXI0z/uG9a+Ye3bP6AS5ClBnpI/dNFFF1100T9wWPuGtW/YP0GeEuQpQc4/7hvWvmHt2z900UUXXXTRP0KeEuQpQd4/8pQgTwny5D9FF1100UXHP0uQpwR5SuA/CfKUIE8J4j9GF1100UW3P3BY+4a1b9g/4LD2DWvf4D/wG9a+Ye2rP8hTgjwlyNM/GF100UUX3T+gEuQpQZ6SP3TRRRdddNE/cFj7hrVv2D9BnhLkKUHOP+4b1r5h7ds/SpCnBHlK0D9CnhLkKUHeP4iafqjph9o/7RvWvmHtyz8ElDtAuQPUP+0b1r5h7cs/mpmZmZmZ2T+eEuQpQZ7iP58S5ClBnsI/7hvWvmHt2z9LkKcEeUrgP0YXXXTRRbc/HNa+Ye0b1j9CnhLkKUHeP/Ab1r5h7as/yFOCPCXI0z/E2jesfcPaP6AS5ClBnpI/dNFFF1100T9wWPuGtW/YPw==",
          "dtype": "f8"
         },
         "yaxis": "y"
        },
        {
         "hovertemplate": "<b>OLS trendline</b><br>Income_Normalized = 0.434819 * Age_Normalized + 0.143597<br>R<sup>2</sup>=0.549479<br><br>Gender=Female<br>Age_Normalized=%{x}<br>Income_Normalized=%{y} <b>(trend)</b><extra></extra>",
         "legendgroup": "Female",
         "marker": {
          "color": "rgb(127, 60, 141)",
          "symbol": "circle"
         },
         "mode": "lines",
         "name": "Female",
         "showlegend": false,
         "type": "scatter",
         "x": {
          "bdata": "AAAAAAAAAAAAAAAAAAAAAAAAAAAAAAAAAAAAAAAAAAAAAAAAAAAAAAAAAAAAAAAAAAAAAAAAAAAAAAAAAAAAAJAkSZIkSaI/kCRJkiRJoj+QJEmSJEmiP5AkSZIkSaI/kCRJkiRJoj+QJEmSJEmiP5AkSZIkSbI/kCRJkiRJsj+QJEmSJEmyP+C2bdu2bbs/4LZt27Ztuz/gtm3btm27P+C2bdu2bbs/8AlxVn5CvD/wCXFWfkK8P/AJcVZ+Qrw/8AlxVn5CvD+QJEmSJEnCP5AkSZIkScI/kCRJkiRJwj+QJEmSJEnCP5AkSZIkScI/mNxN7iZ3wz+UJEmSJEnSP7ht27Zt29Y/uG3btm3b1j+4bdu2bdvWP7ht27Zt29Y/uG3btm3b1j+4bdu2bdvWP7ht27Zt29Y/uG3btm3b1j9IkiRJkiTZP0iSJEmSJNk/SJIkSZIk2T9IkiRJkiTZP9y2bdu2bds/3LZt27Zt2z/ctm3btm3bP2zbtm3btt0/bNu2bdu23T9s27Zt27bdPwAAAAAAAOA/AAAAAAAA4D8AAAAAAADgPwAAAAAAAOA/HNg7pgb24j8c2DumBvbiPxzYO6YG9uI/HNg7pgb24j8c2DumBvbiPxzYO6YG9uI/HNg7pgb24j8c2DumBvbiPxzYO6YG9uI/HNg7pgb24j8c2DumBvbiPxzYO6YG9uI/HNg7pgb24j+2bdu2bdvmP7Zt27Zt2+Y/tm3btm3b5j+2bdu2bdvmP7Zt27Zt2+Y/AAAAAAAA6D8AAAAAAADoPwAAAAAAAOg/SJIkSZIk6T9IkiRJkiTpP0iSJEmSJOk/kiRJkiRJ6j+SJEmSJEnqP5IkSZIkSeo/kiRJkiRJ6j/ctm3btm3rP9y2bdu2bes/3LZt27Zt6z/ctm3btm3rPw==",
          "dtype": "f8"
         },
         "xaxis": "x",
         "y": {
          "bdata": "Orts/19hwj86u2z/X2HCPzq7bP9fYcI/Orts/19hwj86u2z/X2HCPzq7bP9fYcI/Orts/19hwj86u2z/X2HCP9VvTOQ8XsQ/1W9M5DxexD/Vb0zkPF7EP9VvTOQ8XsQ/1W9M5DxexD/Vb0zkPF7EP3EkLMkZW8Y/cSQsyRlbxj9xJCzJGVvGPw7ZC672V8g/DtkLrvZXyD8O2Quu9lfIPw7ZC672V8g/jUZ9TjmGyD+NRn1OOYbIP41GfU45hsg/jUZ9TjmGyD+njeuS01TKP6eN65LTVMo/p43rktNUyj+njeuS01TKP6eN65LTVMo/GRdfWiXYyj8MMDWTIyTRP6jkFHgAIdM/qOQUeAAh0z+o5BR4ACHTP6jkFHgAIdM/qOQUeAAh0z+o5BR4ACHTP6jkFHgAIdM/qOQUeAAh0z/0voTqbh/UP/S+hOpuH9Q/9L6E6m4f1D/0voTqbh/UP0KZ9FzdHdU/Qpn0XN0d1T9CmfRc3R3VP5BzZM9LHNY/kHNkz0sc1j+Qc2TPSxzWP95N1EG6Gtc/3k3UQboa1z/eTdRBuhrXP95N1EG6Gtc/Y6YksO+t2T9jpiSw763ZP2OmJLDvrdk/Y6YksO+t2T9jpiSw763ZP2OmJLDvrdk/Y6YksO+t2T9jpiSw763ZP2OmJLDvrdk/Y6YksO+t2T9jpiSw763ZP2OmJLDvrdk/Y6YksO+t2T+wa3PwUBHdP7Brc/BQEd0/sGtz8FAR3T+wa3PwUBHdP7Brc/BQEd0//0XjYr8P3j//ReNivw/eP/9F42K/D94/SyBT1S0O3z9LIFPVLQ7fP0sgU9UtDt8/TX3hI04G4D9NfeEjTgbgP0194SNOBuA/TX3hI04G4D90ahldhYXgP3RqGV2FheA/dGoZXYWF4D90ahldhYXgPw==",
          "dtype": "f8"
         },
         "yaxis": "y"
        },
        {
         "hovertemplate": "Gender=Male<br>Age_Normalized=%{x}<br>Income_Normalized=%{y}<extra></extra>",
         "legendgroup": "Male",
         "marker": {
          "color": "rgb(17, 165, 121)",
          "symbol": "circle"
         },
         "mode": "markers",
         "name": "Male",
         "orientation": "v",
         "showlegend": true,
         "type": "scatter",
         "x": {
          "bdata": "uG3btm3bxj9IkiRJkiThPyRJkiRJkuw/2LZt27Ztyz8c2DumBvbiPxzYO6YG9uI/mNxN7iZ3wz8c2DumBvbiPxzYO6YG9uI/mNxN7iZ3wz8kSZIkSZLkPwAAAAAAAPA/JEmSJEmS1D9u27Zt27blP7ht27Zt28Y/SJIkSZIk4T8kSZIkSZLsP9i2bdu2bcs/kiRJkiRJ4j9u27Zt27btPwAAAAAAANA/3LZt27Zt4z+2bdu2bdvuP5QkSZIkSdI/JEmSJEmS5D8AAAAAAADwPyRJkiRJktQ/btu2bdu25T+4bdu2bdvGP7ht27Zt28Y/SJIkSZIk4T8kSZIkSZLsP9i2bdu2bcs/kiRJkiRJ4j9u27Zt27btPwAAAAAAANA/3LZt27Zt4z+2bdu2bdvuP5QkSZIkSdI/HNg7pgb24j8c2DumBvbiP5jcTe4md8M/HNg7pgb24j8c2DumBvbiP7ht27Zt28Y/SJIkSZIk4T8kSZIkSZLsP9i2bdu2bcs/kiRJkiRJ4j9u27Zt27btPwAAAAAAANA/3LZt27Zt4z+2bdu2bdvuP5QkSZIkSdI/JEmSJEmS5D8AAAAAAADwPyRJkiRJktQ/btu2bdu25T+4bdu2bdvGP7ht27Zt28Y/4LZt27Ztuz/Ytm3btm3LPwAAAAAAANA/JEmSJEmS1D+4bdu2bdvGP0iSJEmSJOE/JEmSJEmS7D/Ytm3btm3LPxzYO6YG9uI/HNg7pgb24j+Y3E3uJnfDPxzYO6YG9uI/HNg7pgb24j+UJEmSJEnSPyRJkiRJkuQ/AAAAAAAA8D8kSZIkSZLUP27btm3btuU/",
          "dtype": "f8"
         },
         "xaxis": "x",
         "y": {
          "bdata": "dNFFF1104T9GF1100UXnPxdddNFFF+0/SpCnBHlK0D+eEuQpQZ7iP5qZmZmZmek/7RvWvmHtyz9LkKcEeUrgP0YXXXTRRec/RRdddNFFxz+amZmZmZnZP/KUIE8J8uQ/nxLkKUGewj9GF1100UXXP54S5ClBnuI/cFj7hrVv6D9BnhLkKUHuP54S5ClBntI/yFOCPCXI4z/D2jesfcPqP0GeEuQpQc4/dNFFF1104T9wWPuGtW/oP5mZmZmZmck/bN+w9g1r3z+x9g1r37DmP/OUIE8J8sQ/GF100UUX3T9ddNFFF13kP4e1b1j7huU/WfuGtW9Y6z9r37D2DWvvP8hTgjwlyNM/8pQgTwny5D/tG9a+Ye3rP0GeEuQpQc4/nhLkKUGe4j+amZmZmZnpP5mZmZmZmck/bN+w9g1r3z9GF1100UXnP/OUIE8J8sQ/GF100UUX3T9ddNFFF13kP4e1b1j7huU/WfuGtW9Y6z/////////vP/KUIE8J8tQ/HNa+Ye0b5j8XXXTRRRftP0GeEuQpQc4/yFOCPCXI4z8uuuiiiy7qP5mZmZmZmck/S5CnBHlK4D/bN6x9w9rnP/OUIE8J8sQ/GF100UUX3T9ddNFFF13kP4e1b1j7huU/RhdddNFF1z9LkKcEeUrgP+4b1r5h7ds/nhLkKUGe4j+eEuQpQZ7iP3BY+4a1b+g/QZ4S5ClB7j+eEuQpQZ7SP8hTgjwlyOM/w9o3rH3D6j9BnhLkKUHOP3TRRRdddOE/cFj7hrVv6D+ZmZmZmZnJP2zfsPYNa98/sfYNa9+w5j/zlCBPCfLEPxhddNFFF90/",
          "dtype": "f8"
         },
         "yaxis": "y"
        },
        {
         "hovertemplate": "<b>OLS trendline</b><br>Income_Normalized = 0.59441 * Age_Normalized + 0.245569<br>R<sup>2</sup>=0.463271<br><br>Gender=Male<br>Age_Normalized=%{x}<br>Income_Normalized=%{y} <b>(trend)</b><extra></extra>",
         "legendgroup": "Male",
         "marker": {
          "color": "rgb(17, 165, 121)",
          "symbol": "circle"
         },
         "mode": "lines",
         "name": "Male",
         "showlegend": false,
         "type": "scatter",
         "x": {
          "bdata": "4LZt27Ztuz+Y3E3uJnfDP5jcTe4md8M/mNxN7iZ3wz+Y3E3uJnfDP7ht27Zt28Y/uG3btm3bxj+4bdu2bdvGP7ht27Zt28Y/uG3btm3bxj+4bdu2bdvGP7ht27Zt28Y/uG3btm3bxj/Ytm3btm3LP9i2bdu2bcs/2LZt27Ztyz/Ytm3btm3LP9i2bdu2bcs/2LZt27Ztyz8AAAAAAADQPwAAAAAAANA/AAAAAAAA0D8AAAAAAADQP5QkSZIkSdI/lCRJkiRJ0j+UJEmSJEnSP5QkSZIkSdI/JEmSJEmS1D8kSZIkSZLUPyRJkiRJktQ/JEmSJEmS1D8kSZIkSZLUP0iSJEmSJOE/SJIkSZIk4T9IkiRJkiThP0iSJEmSJOE/SJIkSZIk4T+SJEmSJEniP5IkSZIkSeI/kiRJkiRJ4j8c2DumBvbiPxzYO6YG9uI/HNg7pgb24j8c2DumBvbiPxzYO6YG9uI/HNg7pgb24j8c2DumBvbiPxzYO6YG9uI/HNg7pgb24j8c2DumBvbiPxzYO6YG9uI/HNg7pgb24j/ctm3btm3jP9y2bdu2beM/3LZt27Zt4z8kSZIkSZLkPyRJkiRJkuQ/JEmSJEmS5D8kSZIkSZLkP27btm3btuU/btu2bdu25T9u27Zt27blP27btm3btuU/JEmSJEmS7D8kSZIkSZLsPyRJkiRJkuw/JEmSJEmS7D8kSZIkSZLsP27btm3btu0/btu2bdu27T9u27Zt27btP7Zt27Zt2+4/tm3btm3b7j+2bdu2bdvuPwAAAAAAAPA/AAAAAAAA8D8AAAAAAADwPwAAAAAAAPA/",
          "dtype": "f8"
         },
         "xaxis": "x",
         "y": {
          "bdata": "4EkzyNfK0z/PzmGCaoDVP8/OYYJqgNU/z85hgmqA1T/PzmGCaoDVPwLV7NV4gtY/AtXs1XiC1j8C1ezVeILWPwLV7NV4gtY/AtXs1XiC1j8C1ezVeILWPwLV7NV4gtY/AtXs1XiC1j+SmslcSd7XP5KayVxJ3tc/kprJXEne1z+SmslcSd7XP5KayVxJ3tc/kprJXEne1z8kYKbjGTrZPyRgpuMZOtk/JGCm4xk62T8kYKbjGTrZP7Ylg2rqldo/tiWDauqV2j+2JYNq6pXaP7Ylg2rqldo/Rutf8brx2z9G61/xuvHbP0brX/G68ds/Rutf8brx2z9G61/xuvHbP1ZGRg1PDOI/VkZGDU8M4j9WRkYNTwziP1ZGRg1PDOI/VkZGDU8M4j8fqbRQN7riPx+ptFA3uuI/H6m0UDe64j+unV6++iDjP66dXr76IOM/rp1evvog4z+unV6++iDjP66dXr76IOM/rp1evvog4z+unV6++iDjP66dXr76IOM/rp1evvog4z+unV6++iDjP66dXr76IOM/rp1evvog4z/oCyOUH2jjP+gLI5QfaOM/6AsjlB9o4z+wbpHXBxbkP7BukdcHFuQ/sG6R1wcW5D+wbpHXBxbkP3nR/xrww+Q/edH/GvDD5D950f8a8MPkP3nR/xrww+Q/LCKWr2HX6D8sIpavYdfoPywilq9h1+g/LCKWr2HX6D8sIpavYdfoP/WEBPNJhek/9YQE80mF6T/1hATzSYXpP73ncjYyM+o/vedyNjIz6j+953I2MjPqP4ZK4Xka4eo/hkrheRrh6j+GSuF5GuHqP4ZK4Xka4eo/",
          "dtype": "f8"
         },
         "yaxis": "y"
        }
       ],
       "layout": {
        "legend": {
         "title": {
          "text": "Gender"
         },
         "tracegroupgap": 0
        },
        "template": {
         "data": {
          "bar": [
           {
            "error_x": {
             "color": "#2a3f5f"
            },
            "error_y": {
             "color": "#2a3f5f"
            },
            "marker": {
             "line": {
              "color": "#E5ECF6",
              "width": 0.5
             },
             "pattern": {
              "fillmode": "overlay",
              "size": 10,
              "solidity": 0.2
             }
            },
            "type": "bar"
           }
          ],
          "barpolar": [
           {
            "marker": {
             "line": {
              "color": "#E5ECF6",
              "width": 0.5
             },
             "pattern": {
              "fillmode": "overlay",
              "size": 10,
              "solidity": 0.2
             }
            },
            "type": "barpolar"
           }
          ],
          "carpet": [
           {
            "aaxis": {
             "endlinecolor": "#2a3f5f",
             "gridcolor": "white",
             "linecolor": "white",
             "minorgridcolor": "white",
             "startlinecolor": "#2a3f5f"
            },
            "baxis": {
             "endlinecolor": "#2a3f5f",
             "gridcolor": "white",
             "linecolor": "white",
             "minorgridcolor": "white",
             "startlinecolor": "#2a3f5f"
            },
            "type": "carpet"
           }
          ],
          "choropleth": [
           {
            "colorbar": {
             "outlinewidth": 0,
             "ticks": ""
            },
            "type": "choropleth"
           }
          ],
          "contour": [
           {
            "colorbar": {
             "outlinewidth": 0,
             "ticks": ""
            },
            "colorscale": [
             [
              0,
              "#0d0887"
             ],
             [
              0.1111111111111111,
              "#46039f"
             ],
             [
              0.2222222222222222,
              "#7201a8"
             ],
             [
              0.3333333333333333,
              "#9c179e"
             ],
             [
              0.4444444444444444,
              "#bd3786"
             ],
             [
              0.5555555555555556,
              "#d8576b"
             ],
             [
              0.6666666666666666,
              "#ed7953"
             ],
             [
              0.7777777777777778,
              "#fb9f3a"
             ],
             [
              0.8888888888888888,
              "#fdca26"
             ],
             [
              1,
              "#f0f921"
             ]
            ],
            "type": "contour"
           }
          ],
          "contourcarpet": [
           {
            "colorbar": {
             "outlinewidth": 0,
             "ticks": ""
            },
            "type": "contourcarpet"
           }
          ],
          "heatmap": [
           {
            "colorbar": {
             "outlinewidth": 0,
             "ticks": ""
            },
            "colorscale": [
             [
              0,
              "#0d0887"
             ],
             [
              0.1111111111111111,
              "#46039f"
             ],
             [
              0.2222222222222222,
              "#7201a8"
             ],
             [
              0.3333333333333333,
              "#9c179e"
             ],
             [
              0.4444444444444444,
              "#bd3786"
             ],
             [
              0.5555555555555556,
              "#d8576b"
             ],
             [
              0.6666666666666666,
              "#ed7953"
             ],
             [
              0.7777777777777778,
              "#fb9f3a"
             ],
             [
              0.8888888888888888,
              "#fdca26"
             ],
             [
              1,
              "#f0f921"
             ]
            ],
            "type": "heatmap"
           }
          ],
          "histogram": [
           {
            "marker": {
             "pattern": {
              "fillmode": "overlay",
              "size": 10,
              "solidity": 0.2
             }
            },
            "type": "histogram"
           }
          ],
          "histogram2d": [
           {
            "colorbar": {
             "outlinewidth": 0,
             "ticks": ""
            },
            "colorscale": [
             [
              0,
              "#0d0887"
             ],
             [
              0.1111111111111111,
              "#46039f"
             ],
             [
              0.2222222222222222,
              "#7201a8"
             ],
             [
              0.3333333333333333,
              "#9c179e"
             ],
             [
              0.4444444444444444,
              "#bd3786"
             ],
             [
              0.5555555555555556,
              "#d8576b"
             ],
             [
              0.6666666666666666,
              "#ed7953"
             ],
             [
              0.7777777777777778,
              "#fb9f3a"
             ],
             [
              0.8888888888888888,
              "#fdca26"
             ],
             [
              1,
              "#f0f921"
             ]
            ],
            "type": "histogram2d"
           }
          ],
          "histogram2dcontour": [
           {
            "colorbar": {
             "outlinewidth": 0,
             "ticks": ""
            },
            "colorscale": [
             [
              0,
              "#0d0887"
             ],
             [
              0.1111111111111111,
              "#46039f"
             ],
             [
              0.2222222222222222,
              "#7201a8"
             ],
             [
              0.3333333333333333,
              "#9c179e"
             ],
             [
              0.4444444444444444,
              "#bd3786"
             ],
             [
              0.5555555555555556,
              "#d8576b"
             ],
             [
              0.6666666666666666,
              "#ed7953"
             ],
             [
              0.7777777777777778,
              "#fb9f3a"
             ],
             [
              0.8888888888888888,
              "#fdca26"
             ],
             [
              1,
              "#f0f921"
             ]
            ],
            "type": "histogram2dcontour"
           }
          ],
          "mesh3d": [
           {
            "colorbar": {
             "outlinewidth": 0,
             "ticks": ""
            },
            "type": "mesh3d"
           }
          ],
          "parcoords": [
           {
            "line": {
             "colorbar": {
              "outlinewidth": 0,
              "ticks": ""
             }
            },
            "type": "parcoords"
           }
          ],
          "pie": [
           {
            "automargin": true,
            "type": "pie"
           }
          ],
          "scatter": [
           {
            "fillpattern": {
             "fillmode": "overlay",
             "size": 10,
             "solidity": 0.2
            },
            "type": "scatter"
           }
          ],
          "scatter3d": [
           {
            "line": {
             "colorbar": {
              "outlinewidth": 0,
              "ticks": ""
             }
            },
            "marker": {
             "colorbar": {
              "outlinewidth": 0,
              "ticks": ""
             }
            },
            "type": "scatter3d"
           }
          ],
          "scattercarpet": [
           {
            "marker": {
             "colorbar": {
              "outlinewidth": 0,
              "ticks": ""
             }
            },
            "type": "scattercarpet"
           }
          ],
          "scattergeo": [
           {
            "marker": {
             "colorbar": {
              "outlinewidth": 0,
              "ticks": ""
             }
            },
            "type": "scattergeo"
           }
          ],
          "scattergl": [
           {
            "marker": {
             "colorbar": {
              "outlinewidth": 0,
              "ticks": ""
             }
            },
            "type": "scattergl"
           }
          ],
          "scattermap": [
           {
            "marker": {
             "colorbar": {
              "outlinewidth": 0,
              "ticks": ""
             }
            },
            "type": "scattermap"
           }
          ],
          "scattermapbox": [
           {
            "marker": {
             "colorbar": {
              "outlinewidth": 0,
              "ticks": ""
             }
            },
            "type": "scattermapbox"
           }
          ],
          "scatterpolar": [
           {
            "marker": {
             "colorbar": {
              "outlinewidth": 0,
              "ticks": ""
             }
            },
            "type": "scatterpolar"
           }
          ],
          "scatterpolargl": [
           {
            "marker": {
             "colorbar": {
              "outlinewidth": 0,
              "ticks": ""
             }
            },
            "type": "scatterpolargl"
           }
          ],
          "scatterternary": [
           {
            "marker": {
             "colorbar": {
              "outlinewidth": 0,
              "ticks": ""
             }
            },
            "type": "scatterternary"
           }
          ],
          "surface": [
           {
            "colorbar": {
             "outlinewidth": 0,
             "ticks": ""
            },
            "colorscale": [
             [
              0,
              "#0d0887"
             ],
             [
              0.1111111111111111,
              "#46039f"
             ],
             [
              0.2222222222222222,
              "#7201a8"
             ],
             [
              0.3333333333333333,
              "#9c179e"
             ],
             [
              0.4444444444444444,
              "#bd3786"
             ],
             [
              0.5555555555555556,
              "#d8576b"
             ],
             [
              0.6666666666666666,
              "#ed7953"
             ],
             [
              0.7777777777777778,
              "#fb9f3a"
             ],
             [
              0.8888888888888888,
              "#fdca26"
             ],
             [
              1,
              "#f0f921"
             ]
            ],
            "type": "surface"
           }
          ],
          "table": [
           {
            "cells": {
             "fill": {
              "color": "#EBF0F8"
             },
             "line": {
              "color": "white"
             }
            },
            "header": {
             "fill": {
              "color": "#C8D4E3"
             },
             "line": {
              "color": "white"
             }
            },
            "type": "table"
           }
          ]
         },
         "layout": {
          "annotationdefaults": {
           "arrowcolor": "#2a3f5f",
           "arrowhead": 0,
           "arrowwidth": 1
          },
          "autotypenumbers": "strict",
          "coloraxis": {
           "colorbar": {
            "outlinewidth": 0,
            "ticks": ""
           }
          },
          "colorscale": {
           "diverging": [
            [
             0,
             "#8e0152"
            ],
            [
             0.1,
             "#c51b7d"
            ],
            [
             0.2,
             "#de77ae"
            ],
            [
             0.3,
             "#f1b6da"
            ],
            [
             0.4,
             "#fde0ef"
            ],
            [
             0.5,
             "#f7f7f7"
            ],
            [
             0.6,
             "#e6f5d0"
            ],
            [
             0.7,
             "#b8e186"
            ],
            [
             0.8,
             "#7fbc41"
            ],
            [
             0.9,
             "#4d9221"
            ],
            [
             1,
             "#276419"
            ]
           ],
           "sequential": [
            [
             0,
             "#0d0887"
            ],
            [
             0.1111111111111111,
             "#46039f"
            ],
            [
             0.2222222222222222,
             "#7201a8"
            ],
            [
             0.3333333333333333,
             "#9c179e"
            ],
            [
             0.4444444444444444,
             "#bd3786"
            ],
            [
             0.5555555555555556,
             "#d8576b"
            ],
            [
             0.6666666666666666,
             "#ed7953"
            ],
            [
             0.7777777777777778,
             "#fb9f3a"
            ],
            [
             0.8888888888888888,
             "#fdca26"
            ],
            [
             1,
             "#f0f921"
            ]
           ],
           "sequentialminus": [
            [
             0,
             "#0d0887"
            ],
            [
             0.1111111111111111,
             "#46039f"
            ],
            [
             0.2222222222222222,
             "#7201a8"
            ],
            [
             0.3333333333333333,
             "#9c179e"
            ],
            [
             0.4444444444444444,
             "#bd3786"
            ],
            [
             0.5555555555555556,
             "#d8576b"
            ],
            [
             0.6666666666666666,
             "#ed7953"
            ],
            [
             0.7777777777777778,
             "#fb9f3a"
            ],
            [
             0.8888888888888888,
             "#fdca26"
            ],
            [
             1,
             "#f0f921"
            ]
           ]
          },
          "colorway": [
           "#636efa",
           "#EF553B",
           "#00cc96",
           "#ab63fa",
           "#FFA15A",
           "#19d3f3",
           "#FF6692",
           "#B6E880",
           "#FF97FF",
           "#FECB52"
          ],
          "font": {
           "color": "#2a3f5f"
          },
          "geo": {
           "bgcolor": "white",
           "lakecolor": "white",
           "landcolor": "#E5ECF6",
           "showlakes": true,
           "showland": true,
           "subunitcolor": "white"
          },
          "hoverlabel": {
           "align": "left"
          },
          "hovermode": "closest",
          "mapbox": {
           "style": "light"
          },
          "paper_bgcolor": "white",
          "plot_bgcolor": "#E5ECF6",
          "polar": {
           "angularaxis": {
            "gridcolor": "white",
            "linecolor": "white",
            "ticks": ""
           },
           "bgcolor": "#E5ECF6",
           "radialaxis": {
            "gridcolor": "white",
            "linecolor": "white",
            "ticks": ""
           }
          },
          "scene": {
           "xaxis": {
            "backgroundcolor": "#E5ECF6",
            "gridcolor": "white",
            "gridwidth": 2,
            "linecolor": "white",
            "showbackground": true,
            "ticks": "",
            "zerolinecolor": "white"
           },
           "yaxis": {
            "backgroundcolor": "#E5ECF6",
            "gridcolor": "white",
            "gridwidth": 2,
            "linecolor": "white",
            "showbackground": true,
            "ticks": "",
            "zerolinecolor": "white"
           },
           "zaxis": {
            "backgroundcolor": "#E5ECF6",
            "gridcolor": "white",
            "gridwidth": 2,
            "linecolor": "white",
            "showbackground": true,
            "ticks": "",
            "zerolinecolor": "white"
           }
          },
          "shapedefaults": {
           "line": {
            "color": "#2a3f5f"
           }
          },
          "ternary": {
           "aaxis": {
            "gridcolor": "white",
            "linecolor": "white",
            "ticks": ""
           },
           "baxis": {
            "gridcolor": "white",
            "linecolor": "white",
            "ticks": ""
           },
           "bgcolor": "#E5ECF6",
           "caxis": {
            "gridcolor": "white",
            "linecolor": "white",
            "ticks": ""
           }
          },
          "title": {
           "x": 0.05
          },
          "xaxis": {
           "automargin": true,
           "gridcolor": "white",
           "linecolor": "white",
           "ticks": "",
           "title": {
            "standoff": 15
           },
           "zerolinecolor": "white",
           "zerolinewidth": 2
          },
          "yaxis": {
           "automargin": true,
           "gridcolor": "white",
           "linecolor": "white",
           "ticks": "",
           "title": {
            "standoff": 15
           },
           "zerolinecolor": "white",
           "zerolinewidth": 2
          }
         }
        },
        "title": {
         "text": "Idade vs. Renda"
        },
        "xaxis": {
         "anchor": "y",
         "domain": [
          0,
          1
         ],
         "title": {
          "text": "Idade"
         }
        },
        "yaxis": {
         "anchor": "x",
         "domain": [
          0,
          1
         ],
         "title": {
          "text": "Renda"
         }
        }
       }
      },
      "image/png": "[encoded data removed]"
     },
     "metadata": {},
     "output_type": "display_data"
    },
    {
     "data": {
      "application/vnd.plotly.v1+json": {
       "config": {
        "plotlyServerURL": "https://plot.ly"
       },
       "data": [
        {
         "alignmentgroup": "True",
         "bingroup": "x",
         "hovertemplate": "Credit Score=High<br>Faixa de Renda=%{x}<br>count=%{y}<extra></extra>",
         "legendgroup": "High",
         "marker": {
          "color": "#1f77b4",
          "pattern": {
           "shape": ""
          }
         },
         "name": "High",
         "offsetgroup": "High",
         "orientation": "v",
         "showlegend": true,
         "type": "histogram",
         "x": {
          "bdata": "AAAAAABq6EAAAAAAAGr4QAAAAACAT/JAAAAAAICE/kAAAAAAAGr4QAAAAACATwJBAAAAAACI80AAAAAAgKL5QAAAAAAA+fVAAAAAAMB6AEEAAAAAABfxQAAAAACAMfdAAAAAAIDA9EAAAAAAgIT+QAAAAAAAve9AAAAAAACI80AAAAAAABfxQAAAAACAE/xAAAAAAABM7UAAAAAAgE/yQAAAAAAAve9AAAAAAICi+UAAAAAAAIjzQAAAAAAAvf9AAAAAAICi+UAAAAAAwOsCQQAAAACAwPRAAAAAAADb+kAAAAAAgDH3QAAAAAAAFwFBAAAAAECz8UAAAAAAAGr4QAAAAAAA+fVAAAAAAAC9/0AAAAAAwHrwQAAAAABAlfZAAAAAAEAk9EAAAAAAQOj9QAAAAACAhO5AAAAAAMBc9UAAAAAAwOvyQAAAAABAd/tAAAAAAIDA9EAAAAAAwK/8QAAAAAAA+fVAAAAAACBlAUEAAAAAANv6QAAAAAAAiANBAAAAAAD59UAAAAAAgBP8QAAAAADAzfdAAAAAAECzAUEAAAAAgE/yQAAAAACAovlAAAAAAIAx90AAAAAAwHoAQQAAAADAevBAAAAAAECV9kAAAAAAgMD0QAAAAACAhP5AAAAAAICE7kAAAAAAwFz1QAAAAADA6/JAAAAAAEB3+0AAAAAAgMD0QAAAAADAr/xAAAAAAAD59UAAAAAAIGUBQQAAAACAE/xAAAAAACDWA0EAAAAAgDH3QAAAAAAATP1AAAAAAEAG+UAAAAAAgE8CQQAAAADA6/JAAAAAAADb+kAAAAAAwM33QAAAAADgyABBAAAAAMB68EAAAAAAgDH3QAAAAADAXPVAAAAAAMAg/0AAAAAAgITuQAAAAADAXPVAAAAAAMDr8kAAAAAAQHf7QAAAAACAwPRAAAAAAMCv/EAAAAAAAPn1QAAAAAAABfRAAAAAAIAx90AAAAAAgMD0QAAAAACAovlAAAAAAICi+UAAAAAAAIjzQAAAAAAAvf9AAAAAAICi+UAAAAAAwOsCQQAAAACAwPRAAAAAAADb+kAAAAAAgDH3QAAAAAAAFwFBAAAAAECz8UAAAAAAAGr4QAAAAAAA+fVAAAAAAAC9/0AAAAAAwHrwQAAAAABAlfZAAAAAAEAk9EAAAAAAQOj9QAAAAACAhO5AAAAAAMBc9UAAAAAAwOvyQA==",
          "dtype": "f8"
         },
         "xaxis": "x",
         "yaxis": "y"
        },
        {
         "alignmentgroup": "True",
         "bingroup": "x",
         "hovertemplate": "Credit Score=Average<br>Faixa de Renda=%{x}<br>count=%{y}<extra></extra>",
         "legendgroup": "Average",
         "marker": {
          "color": "#ff7f0e",
          "pattern": {
           "shape": ""
          }
         },
         "name": "Average",
         "offsetgroup": "Average",
         "orientation": "v",
         "showlegend": true,
         "type": "histogram",
         "x": {
          "bdata": "AAAAAACI40AAAAAAAEztQAAAAAAA2+pAAAAAAABq6EAAAAAAAPnlQAAAAAAA2+pAAAAAAAD55UAAAAAAAL3vQAAAAACAE+xAAAAAAICi6UAAAAAAgDHnQAAAAACAE+xAAAAAAABM7UAAAAAAgDHnQAAAAADAevBAAAAAAIAT7EAAAAAAgKLpQAAAAACAMedAAAAAAIAT7EAAAAAAgITuQAAAAAAAauhAAAAAAAAX8UAAAAAAgBPsQAAAAACAoulAAAAAAIAx50AAAAAAgBPsQAAAAAAATO1AAAAAAIBP8kAAAAAAANvqQAAAAAAAmvBAAAAAAADb6kAAAAAAAPnlQAAAAAAAve9AAAAAAIAT7EAAAAAAgKLpQAAAAACAMedA",
          "dtype": "f8"
         },
         "xaxis": "x",
         "yaxis": "y"
        },
        {
         "alignmentgroup": "True",
         "bingroup": "x",
         "hovertemplate": "Credit Score=Low<br>Faixa de Renda=%{x}<br>count=%{y}<extra></extra>",
         "legendgroup": "Low",
         "marker": {
          "color": "#d62728",
          "pattern": {
           "shape": ""
          }
         },
         "name": "Low",
         "offsetgroup": "Low",
         "orientation": "v",
         "showlegend": true,
         "type": "histogram",
         "x": {
          "bdata": "AAAAAAAX4UAAAAAAAEzdQAAAAAAAathAAAAAAIBP4kAAAAAAAL3fQAAAAAAA29pAAAAAAIBP4kAAAAAAAL3fQAAAAAAA29pAAAAAAIBP4kAAAAAAAL3fQAAAAAAA29pAAAAAAIBP4kAAAAAAAL3fQAAAAAAA29pA",
          "dtype": "f8"
         },
         "xaxis": "x",
         "yaxis": "y"
        }
       ],
       "layout": {
        "barmode": "group",
        "height": 500,
        "legend": {
         "title": {
          "text": "Credit Score"
         },
         "tracegroupgap": 0
        },
        "template": {
         "data": {
          "bar": [
           {
            "error_x": {
             "color": "#2a3f5f"
            },
            "error_y": {
             "color": "#2a3f5f"
            },
            "marker": {
             "line": {
              "color": "#E5ECF6",
              "width": 0.5
             },
             "pattern": {
              "fillmode": "overlay",
              "size": 10,
              "solidity": 0.2
             }
            },
            "type": "bar"
           }
          ],
          "barpolar": [
           {
            "marker": {
             "line": {
              "color": "#E5ECF6",
              "width": 0.5
             },
             "pattern": {
              "fillmode": "overlay",
              "size": 10,
              "solidity": 0.2
             }
            },
            "type": "barpolar"
           }
          ],
          "carpet": [
           {
            "aaxis": {
             "endlinecolor": "#2a3f5f",
             "gridcolor": "white",
             "linecolor": "white",
             "minorgridcolor": "white",
             "startlinecolor": "#2a3f5f"
            },
            "baxis": {
             "endlinecolor": "#2a3f5f",
             "gridcolor": "white",
             "linecolor": "white",
             "minorgridcolor": "white",
             "startlinecolor": "#2a3f5f"
            },
            "type": "carpet"
           }
          ],
          "choropleth": [
           {
            "colorbar": {
             "outlinewidth": 0,
             "ticks": ""
            },
            "type": "choropleth"
           }
          ],
          "contour": [
           {
            "colorbar": {
             "outlinewidth": 0,
             "ticks": ""
            },
            "colorscale": [
             [
              0,
              "#0d0887"
             ],
             [
              0.1111111111111111,
              "#46039f"
             ],
             [
              0.2222222222222222,
              "#7201a8"
             ],
             [
              0.3333333333333333,
              "#9c179e"
             ],
             [
              0.4444444444444444,
              "#bd3786"
             ],
             [
              0.5555555555555556,
              "#d8576b"
             ],
             [
              0.6666666666666666,
              "#ed7953"
             ],
             [
              0.7777777777777778,
              "#fb9f3a"
             ],
             [
              0.8888888888888888,
              "#fdca26"
             ],
             [
              1,
              "#f0f921"
             ]
            ],
            "type": "contour"
           }
          ],
          "contourcarpet": [
           {
            "colorbar": {
             "outlinewidth": 0,
             "ticks": ""
            },
            "type": "contourcarpet"
           }
          ],
          "heatmap": [
           {
            "colorbar": {
             "outlinewidth": 0,
             "ticks": ""
            },
            "colorscale": [
             [
              0,
              "#0d0887"
             ],
             [
              0.1111111111111111,
              "#46039f"
             ],
             [
              0.2222222222222222,
              "#7201a8"
             ],
             [
              0.3333333333333333,
              "#9c179e"
             ],
             [
              0.4444444444444444,
              "#bd3786"
             ],
             [
              0.5555555555555556,
              "#d8576b"
             ],
             [
              0.6666666666666666,
              "#ed7953"
             ],
             [
              0.7777777777777778,
              "#fb9f3a"
             ],
             [
              0.8888888888888888,
              "#fdca26"
             ],
             [
              1,
              "#f0f921"
             ]
            ],
            "type": "heatmap"
           }
          ],
          "histogram": [
           {
            "marker": {
             "pattern": {
              "fillmode": "overlay",
              "size": 10,
              "solidity": 0.2
             }
            },
            "type": "histogram"
           }
          ],
          "histogram2d": [
           {
            "colorbar": {
             "outlinewidth": 0,
             "ticks": ""
            },
            "colorscale": [
             [
              0,
              "#0d0887"
             ],
             [
              0.1111111111111111,
              "#46039f"
             ],
             [
              0.2222222222222222,
              "#7201a8"
             ],
             [
              0.3333333333333333,
              "#9c179e"
             ],
             [
              0.4444444444444444,
              "#bd3786"
             ],
             [
              0.5555555555555556,
              "#d8576b"
             ],
             [
              0.6666666666666666,
              "#ed7953"
             ],
             [
              0.7777777777777778,
              "#fb9f3a"
             ],
             [
              0.8888888888888888,
              "#fdca26"
             ],
             [
              1,
              "#f0f921"
             ]
            ],
            "type": "histogram2d"
           }
          ],
          "histogram2dcontour": [
           {
            "colorbar": {
             "outlinewidth": 0,
             "ticks": ""
            },
            "colorscale": [
             [
              0,
              "#0d0887"
             ],
             [
              0.1111111111111111,
              "#46039f"
             ],
             [
              0.2222222222222222,
              "#7201a8"
             ],
             [
              0.3333333333333333,
              "#9c179e"
             ],
             [
              0.4444444444444444,
              "#bd3786"
             ],
             [
              0.5555555555555556,
              "#d8576b"
             ],
             [
              0.6666666666666666,
              "#ed7953"
             ],
             [
              0.7777777777777778,
              "#fb9f3a"
             ],
             [
              0.8888888888888888,
              "#fdca26"
             ],
             [
              1,
              "#f0f921"
             ]
            ],
            "type": "histogram2dcontour"
           }
          ],
          "mesh3d": [
           {
            "colorbar": {
             "outlinewidth": 0,
             "ticks": ""
            },
            "type": "mesh3d"
           }
          ],
          "parcoords": [
           {
            "line": {
             "colorbar": {
              "outlinewidth": 0,
              "ticks": ""
             }
            },
            "type": "parcoords"
           }
          ],
          "pie": [
           {
            "automargin": true,
            "type": "pie"
           }
          ],
          "scatter": [
           {
            "fillpattern": {
             "fillmode": "overlay",
             "size": 10,
             "solidity": 0.2
            },
            "type": "scatter"
           }
          ],
          "scatter3d": [
           {
            "line": {
             "colorbar": {
              "outlinewidth": 0,
              "ticks": ""
             }
            },
            "marker": {
             "colorbar": {
              "outlinewidth": 0,
              "ticks": ""
             }
            },
            "type": "scatter3d"
           }
          ],
          "scattercarpet": [
           {
            "marker": {
             "colorbar": {
              "outlinewidth": 0,
              "ticks": ""
             }
            },
            "type": "scattercarpet"
           }
          ],
          "scattergeo": [
           {
            "marker": {
             "colorbar": {
              "outlinewidth": 0,
              "ticks": ""
             }
            },
            "type": "scattergeo"
           }
          ],
          "scattergl": [
           {
            "marker": {
             "colorbar": {
              "outlinewidth": 0,
              "ticks": ""
             }
            },
            "type": "scattergl"
           }
          ],
          "scattermap": [
           {
            "marker": {
             "colorbar": {
              "outlinewidth": 0,
              "ticks": ""
             }
            },
            "type": "scattermap"
           }
          ],
          "scattermapbox": [
           {
            "marker": {
             "colorbar": {
              "outlinewidth": 0,
              "ticks": ""
             }
            },
            "type": "scattermapbox"
           }
          ],
          "scatterpolar": [
           {
            "marker": {
             "colorbar": {
              "outlinewidth": 0,
              "ticks": ""
             }
            },
            "type": "scatterpolar"
           }
          ],
          "scatterpolargl": [
           {
            "marker": {
             "colorbar": {
              "outlinewidth": 0,
              "ticks": ""
             }
            },
            "type": "scatterpolargl"
           }
          ],
          "scatterternary": [
           {
            "marker": {
             "colorbar": {
              "outlinewidth": 0,
              "ticks": ""
             }
            },
            "type": "scatterternary"
           }
          ],
          "surface": [
           {
            "colorbar": {
             "outlinewidth": 0,
             "ticks": ""
            },
            "colorscale": [
             [
              0,
              "#0d0887"
             ],
             [
              0.1111111111111111,
              "#46039f"
             ],
             [
              0.2222222222222222,
              "#7201a8"
             ],
             [
              0.3333333333333333,
              "#9c179e"
             ],
             [
              0.4444444444444444,
              "#bd3786"
             ],
             [
              0.5555555555555556,
              "#d8576b"
             ],
             [
              0.6666666666666666,
              "#ed7953"
             ],
             [
              0.7777777777777778,
              "#fb9f3a"
             ],
             [
              0.8888888888888888,
              "#fdca26"
             ],
             [
              1,
              "#f0f921"
             ]
            ],
            "type": "surface"
           }
          ],
          "table": [
           {
            "cells": {
             "fill": {
              "color": "#EBF0F8"
             },
             "line": {
              "color": "white"
             }
            },
            "header": {
             "fill": {
              "color": "#C8D4E3"
             },
             "line": {
              "color": "white"
             }
            },
            "type": "table"
           }
          ]
         },
         "layout": {
          "annotationdefaults": {
           "arrowcolor": "#2a3f5f",
           "arrowhead": 0,
           "arrowwidth": 1
          },
          "autotypenumbers": "strict",
          "coloraxis": {
           "colorbar": {
            "outlinewidth": 0,
            "ticks": ""
           }
          },
          "colorscale": {
           "diverging": [
            [
             0,
             "#8e0152"
            ],
            [
             0.1,
             "#c51b7d"
            ],
            [
             0.2,
             "#de77ae"
            ],
            [
             0.3,
             "#f1b6da"
            ],
            [
             0.4,
             "#fde0ef"
            ],
            [
             0.5,
             "#f7f7f7"
            ],
            [
             0.6,
             "#e6f5d0"
            ],
            [
             0.7,
             "#b8e186"
            ],
            [
             0.8,
             "#7fbc41"
            ],
            [
             0.9,
             "#4d9221"
            ],
            [
             1,
             "#276419"
            ]
           ],
           "sequential": [
            [
             0,
             "#0d0887"
            ],
            [
             0.1111111111111111,
             "#46039f"
            ],
            [
             0.2222222222222222,
             "#7201a8"
            ],
            [
             0.3333333333333333,
             "#9c179e"
            ],
            [
             0.4444444444444444,
             "#bd3786"
            ],
            [
             0.5555555555555556,
             "#d8576b"
            ],
            [
             0.6666666666666666,
             "#ed7953"
            ],
            [
             0.7777777777777778,
             "#fb9f3a"
            ],
            [
             0.8888888888888888,
             "#fdca26"
            ],
            [
             1,
             "#f0f921"
            ]
           ],
           "sequentialminus": [
            [
             0,
             "#0d0887"
            ],
            [
             0.1111111111111111,
             "#46039f"
            ],
            [
             0.2222222222222222,
             "#7201a8"
            ],
            [
             0.3333333333333333,
             "#9c179e"
            ],
            [
             0.4444444444444444,
             "#bd3786"
            ],
            [
             0.5555555555555556,
             "#d8576b"
            ],
            [
             0.6666666666666666,
             "#ed7953"
            ],
            [
             0.7777777777777778,
             "#fb9f3a"
            ],
            [
             0.8888888888888888,
             "#fdca26"
            ],
            [
             1,
             "#f0f921"
            ]
           ]
          },
          "colorway": [
           "#636efa",
           "#EF553B",
           "#00cc96",
           "#ab63fa",
           "#FFA15A",
           "#19d3f3",
           "#FF6692",
           "#B6E880",
           "#FF97FF",
           "#FECB52"
          ],
          "font": {
           "color": "#2a3f5f"
          },
          "geo": {
           "bgcolor": "white",
           "lakecolor": "white",
           "landcolor": "#E5ECF6",
           "showlakes": true,
           "showland": true,
           "subunitcolor": "white"
          },
          "hoverlabel": {
           "align": "left"
          },
          "hovermode": "closest",
          "mapbox": {
           "style": "light"
          },
          "paper_bgcolor": "white",
          "plot_bgcolor": "#E5ECF6",
          "polar": {
           "angularaxis": {
            "gridcolor": "white",
            "linecolor": "white",
            "ticks": ""
           },
           "bgcolor": "#E5ECF6",
           "radialaxis": {
            "gridcolor": "white",
            "linecolor": "white",
            "ticks": ""
           }
          },
          "scene": {
           "xaxis": {
            "backgroundcolor": "#E5ECF6",
            "gridcolor": "white",
            "gridwidth": 2,
            "linecolor": "white",
            "showbackground": true,
            "ticks": "",
            "zerolinecolor": "white"
           },
           "yaxis": {
            "backgroundcolor": "#E5ECF6",
            "gridcolor": "white",
            "gridwidth": 2,
            "linecolor": "white",
            "showbackground": true,
            "ticks": "",
            "zerolinecolor": "white"
           },
           "zaxis": {
            "backgroundcolor": "#E5ECF6",
            "gridcolor": "white",
            "gridwidth": 2,
            "linecolor": "white",
            "showbackground": true,
            "ticks": "",
            "zerolinecolor": "white"
           }
          },
          "shapedefaults": {
           "line": {
            "color": "#2a3f5f"
           }
          },
          "ternary": {
           "aaxis": {
            "gridcolor": "white",
            "linecolor": "white",
            "ticks": ""
           },
           "baxis": {
            "gridcolor": "white",
            "linecolor": "white",
            "ticks": ""
           },
           "bgcolor": "#E5ECF6",
           "caxis": {
            "gridcolor": "white",
            "linecolor": "white",
            "ticks": ""
           }
          },
          "title": {
           "x": 0.05
          },
          "xaxis": {
           "automargin": true,
           "gridcolor": "white",
           "linecolor": "white",
           "ticks": "",
           "title": {
            "standoff": 15
           },
           "zerolinecolor": "white",
           "zerolinewidth": 2
          },
          "yaxis": {
           "automargin": true,
           "gridcolor": "white",
           "linecolor": "white",
           "ticks": "",
           "title": {
            "standoff": 15
           },
           "zerolinecolor": "white",
           "zerolinewidth": 2
          }
         }
        },
        "title": {
         "text": "Credit Score por Faixa de Renda"
        },
        "xaxis": {
         "anchor": "y",
         "categoryorder": "category ascending",
         "domain": [
          0,
          1
         ],
         "title": {
          "text": "Faixa de Renda"
         }
        },
        "yaxis": {
         "anchor": "x",
         "domain": [
          0,
          1
         ],
         "title": {}
        }
       }
      },
      "image/png": "[encoded data removed]"
     },
     "metadata": {},
     "output_type": "display_data"
    },
    {
     "data": {
      "application/vnd.plotly.v1+json": {
       "config": {
        "plotlyServerURL": "https://plot.ly"
       },
       "data": [
        {
         "alignmentgroup": "True",
         "bingroup": "x",
         "hovertemplate": "Credit Score=High<br>Situação da Moradia=%{x}<br>count=%{y}<extra></extra>",
         "legendgroup": "High",
         "marker": {
          "color": "#1f77b4",
          "pattern": {
           "shape": ""
          }
         },
         "name": "High",
         "offsetgroup": "High",
         "orientation": "v",
         "showlegend": true,
         "type": "histogram",
         "x": [
          "Rented",
          "Owned",
          "Owned",
          "Owned",
          "Owned",
          "Owned",
          "Owned",
          "Owned",
          "Owned",
          "Owned",
          "Owned",
          "Owned",
          "Owned",
          "Owned",
          "Owned",
          "Owned",
          "Owned",
          "Owned",
          "Owned",
          "Owned",
          "Owned",
          "Owned",
          "Owned",
          "Owned",
          "Owned",
          "Owned",
          "Owned",
          "Owned",
          "Owned",
          "Owned",
          "Owned",
          "Owned",
          "Owned",
          "Owned",
          "Owned",
          "Owned",
          "Owned",
          "Owned",
          "Owned",
          "Owned",
          "Owned",
          "Owned",
          "Owned",
          "Owned",
          "Owned",
          "Owned",
          "Owned",
          "Owned",
          "Owned",
          "Owned",
          "Owned",
          "Owned",
          "Owned",
          "Owned",
          "Owned",
          "Owned",
          "Owned",
          "Owned",
          "Owned",
          "Owned",
          "Owned",
          "Owned",
          "Owned",
          "Owned",
          "Owned",
          "Owned",
          "Owned",
          "Owned",
          "Owned",
          "Owned",
          "Owned",
          "Owned",
          "Owned",
          "Owned",
          "Owned",
          "Owned",
          "Owned",
          "Owned",
          "Owned",
          "Owned",
          "Owned",
          "Owned",
          "Owned",
          "Owned",
          "Owned",
          "Owned",
          "Owned",
          "Owned",
          "Owned",
          "Owned",
          "Rented",
          "Rented",
          "Rented",
          "Owned",
          "Owned",
          "Owned",
          "Owned",
          "Owned",
          "Owned",
          "Owned",
          "Owned",
          "Owned",
          "Owned",
          "Owned",
          "Owned",
          "Owned",
          "Owned",
          "Owned",
          "Owned",
          "Owned",
          "Owned",
          "Owned",
          "Owned"
         ],
         "xaxis": "x",
         "yaxis": "y"
        },
        {
         "alignmentgroup": "True",
         "bingroup": "x",
         "hovertemplate": "Credit Score=Average<br>Situação da Moradia=%{x}<br>count=%{y}<extra></extra>",
         "legendgroup": "Average",
         "marker": {
          "color": "#ff7f0e",
          "pattern": {
           "shape": ""
          }
         },
         "name": "Average",
         "offsetgroup": "Average",
         "orientation": "v",
         "showlegend": true,
         "type": "histogram",
         "x": [
          "Rented",
          "Rented",
          "Rented",
          "Rented",
          "Rented",
          "Rented",
          "Rented",
          "Rented",
          "Rented",
          "Rented",
          "Rented",
          "Rented",
          "Rented",
          "Rented",
          "Rented",
          "Rented",
          "Rented",
          "Rented",
          "Rented",
          "Rented",
          "Rented",
          "Rented",
          "Rented",
          "Rented",
          "Rented",
          "Rented",
          "Rented",
          "Rented",
          "Owned",
          "Owned",
          "Rented",
          "Rented",
          "Rented",
          "Rented",
          "Rented",
          "Rented"
         ],
         "xaxis": "x",
         "yaxis": "y"
        },
        {
         "alignmentgroup": "True",
         "bingroup": "x",
         "hovertemplate": "Credit Score=Low<br>Situação da Moradia=%{x}<br>count=%{y}<extra></extra>",
         "legendgroup": "Low",
         "marker": {
          "color": "#d62728",
          "pattern": {
           "shape": ""
          }
         },
         "name": "Low",
         "offsetgroup": "Low",
         "orientation": "v",
         "showlegend": true,
         "type": "histogram",
         "x": [
          "Rented",
          "Rented",
          "Rented",
          "Rented",
          "Rented",
          "Rented",
          "Rented",
          "Rented",
          "Rented",
          "Rented",
          "Rented",
          "Rented",
          "Rented",
          "Rented",
          "Rented"
         ],
         "xaxis": "x",
         "yaxis": "y"
        }
       ],
       "layout": {
        "barmode": "group",
        "height": 500,
        "legend": {
         "title": {
          "text": "Credit Score"
         },
         "tracegroupgap": 0
        },
        "template": {
         "data": {
          "bar": [
           {
            "error_x": {
             "color": "#2a3f5f"
            },
            "error_y": {
             "color": "#2a3f5f"
            },
            "marker": {
             "line": {
              "color": "#E5ECF6",
              "width": 0.5
             },
             "pattern": {
              "fillmode": "overlay",
              "size": 10,
              "solidity": 0.2
             }
            },
            "type": "bar"
           }
          ],
          "barpolar": [
           {
            "marker": {
             "line": {
              "color": "#E5ECF6",
              "width": 0.5
             },
             "pattern": {
              "fillmode": "overlay",
              "size": 10,
              "solidity": 0.2
             }
            },
            "type": "barpolar"
           }
          ],
          "carpet": [
           {
            "aaxis": {
             "endlinecolor": "#2a3f5f",
             "gridcolor": "white",
             "linecolor": "white",
             "minorgridcolor": "white",
             "startlinecolor": "#2a3f5f"
            },
            "baxis": {
             "endlinecolor": "#2a3f5f",
             "gridcolor": "white",
             "linecolor": "white",
             "minorgridcolor": "white",
             "startlinecolor": "#2a3f5f"
            },
            "type": "carpet"
           }
          ],
          "choropleth": [
           {
            "colorbar": {
             "outlinewidth": 0,
             "ticks": ""
            },
            "type": "choropleth"
           }
          ],
          "contour": [
           {
            "colorbar": {
             "outlinewidth": 0,
             "ticks": ""
            },
            "colorscale": [
             [
              0,
              "#0d0887"
             ],
             [
              0.1111111111111111,
              "#46039f"
             ],
             [
              0.2222222222222222,
              "#7201a8"
             ],
             [
              0.3333333333333333,
              "#9c179e"
             ],
             [
              0.4444444444444444,
              "#bd3786"
             ],
             [
              0.5555555555555556,
              "#d8576b"
             ],
             [
              0.6666666666666666,
              "#ed7953"
             ],
             [
              0.7777777777777778,
              "#fb9f3a"
             ],
             [
              0.8888888888888888,
              "#fdca26"
             ],
             [
              1,
              "#f0f921"
             ]
            ],
            "type": "contour"
           }
          ],
          "contourcarpet": [
           {
            "colorbar": {
             "outlinewidth": 0,
             "ticks": ""
            },
            "type": "contourcarpet"
           }
          ],
          "heatmap": [
           {
            "colorbar": {
             "outlinewidth": 0,
             "ticks": ""
            },
            "colorscale": [
             [
              0,
              "#0d0887"
             ],
             [
              0.1111111111111111,
              "#46039f"
             ],
             [
              0.2222222222222222,
              "#7201a8"
             ],
             [
              0.3333333333333333,
              "#9c179e"
             ],
             [
              0.4444444444444444,
              "#bd3786"
             ],
             [
              0.5555555555555556,
              "#d8576b"
             ],
             [
              0.6666666666666666,
              "#ed7953"
             ],
             [
              0.7777777777777778,
              "#fb9f3a"
             ],
             [
              0.8888888888888888,
              "#fdca26"
             ],
             [
              1,
              "#f0f921"
             ]
            ],
            "type": "heatmap"
           }
          ],
          "histogram": [
           {
            "marker": {
             "pattern": {
              "fillmode": "overlay",
              "size": 10,
              "solidity": 0.2
             }
            },
            "type": "histogram"
           }
          ],
          "histogram2d": [
           {
            "colorbar": {
             "outlinewidth": 0,
             "ticks": ""
            },
            "colorscale": [
             [
              0,
              "#0d0887"
             ],
             [
              0.1111111111111111,
              "#46039f"
             ],
             [
              0.2222222222222222,
              "#7201a8"
             ],
             [
              0.3333333333333333,
              "#9c179e"
             ],
             [
              0.4444444444444444,
              "#bd3786"
             ],
             [
              0.5555555555555556,
              "#d8576b"
             ],
             [
              0.6666666666666666,
              "#ed7953"
             ],
             [
              0.7777777777777778,
              "#fb9f3a"
             ],
             [
              0.8888888888888888,
              "#fdca26"
             ],
             [
              1,
              "#f0f921"
             ]
            ],
            "type": "histogram2d"
           }
          ],
          "histogram2dcontour": [
           {
            "colorbar": {
             "outlinewidth": 0,
             "ticks": ""
            },
            "colorscale": [
             [
              0,
              "#0d0887"
             ],
             [
              0.1111111111111111,
              "#46039f"
             ],
             [
              0.2222222222222222,
              "#7201a8"
             ],
             [
              0.3333333333333333,
              "#9c179e"
             ],
             [
              0.4444444444444444,
              "#bd3786"
             ],
             [
              0.5555555555555556,
              "#d8576b"
             ],
             [
              0.6666666666666666,
              "#ed7953"
             ],
             [
              0.7777777777777778,
              "#fb9f3a"
             ],
             [
              0.8888888888888888,
              "#fdca26"
             ],
             [
              1,
              "#f0f921"
             ]
            ],
            "type": "histogram2dcontour"
           }
          ],
          "mesh3d": [
           {
            "colorbar": {
             "outlinewidth": 0,
             "ticks": ""
            },
            "type": "mesh3d"
           }
          ],
          "parcoords": [
           {
            "line": {
             "colorbar": {
              "outlinewidth": 0,
              "ticks": ""
             }
            },
            "type": "parcoords"
           }
          ],
          "pie": [
           {
            "automargin": true,
            "type": "pie"
           }
          ],
          "scatter": [
           {
            "fillpattern": {
             "fillmode": "overlay",
             "size": 10,
             "solidity": 0.2
            },
            "type": "scatter"
           }
          ],
          "scatter3d": [
           {
            "line": {
             "colorbar": {
              "outlinewidth": 0,
              "ticks": ""
             }
            },
            "marker": {
             "colorbar": {
              "outlinewidth": 0,
              "ticks": ""
             }
            },
            "type": "scatter3d"
           }
          ],
          "scattercarpet": [
           {
            "marker": {
             "colorbar": {
              "outlinewidth": 0,
              "ticks": ""
             }
            },
            "type": "scattercarpet"
           }
          ],
          "scattergeo": [
           {
            "marker": {
             "colorbar": {
              "outlinewidth": 0,
              "ticks": ""
             }
            },
            "type": "scattergeo"
           }
          ],
          "scattergl": [
           {
            "marker": {
             "colorbar": {
              "outlinewidth": 0,
              "ticks": ""
             }
            },
            "type": "scattergl"
           }
          ],
          "scattermap": [
           {
            "marker": {
             "colorbar": {
              "outlinewidth": 0,
              "ticks": ""
             }
            },
            "type": "scattermap"
           }
          ],
          "scattermapbox": [
           {
            "marker": {
             "colorbar": {
              "outlinewidth": 0,
              "ticks": ""
             }
            },
            "type": "scattermapbox"
           }
          ],
          "scatterpolar": [
           {
            "marker": {
             "colorbar": {
              "outlinewidth": 0,
              "ticks": ""
             }
            },
            "type": "scatterpolar"
           }
          ],
          "scatterpolargl": [
           {
            "marker": {
             "colorbar": {
              "outlinewidth": 0,
              "ticks": ""
             }
            },
            "type": "scatterpolargl"
           }
          ],
          "scatterternary": [
           {
            "marker": {
             "colorbar": {
              "outlinewidth": 0,
              "ticks": ""
             }
            },
            "type": "scatterternary"
           }
          ],
          "surface": [
           {
            "colorbar": {
             "outlinewidth": 0,
             "ticks": ""
            },
            "colorscale": [
             [
              0,
              "#0d0887"
             ],
             [
              0.1111111111111111,
              "#46039f"
             ],
             [
              0.2222222222222222,
              "#7201a8"
             ],
             [
              0.3333333333333333,
              "#9c179e"
             ],
             [
              0.4444444444444444,
              "#bd3786"
             ],
             [
              0.5555555555555556,
              "#d8576b"
             ],
             [
              0.6666666666666666,
              "#ed7953"
             ],
             [
              0.7777777777777778,
              "#fb9f3a"
             ],
             [
              0.8888888888888888,
              "#fdca26"
             ],
             [
              1,
              "#f0f921"
             ]
            ],
            "type": "surface"
           }
          ],
          "table": [
           {
            "cells": {
             "fill": {
              "color": "#EBF0F8"
             },
             "line": {
              "color": "white"
             }
            },
            "header": {
             "fill": {
              "color": "#C8D4E3"
             },
             "line": {
              "color": "white"
             }
            },
            "type": "table"
           }
          ]
         },
         "layout": {
          "annotationdefaults": {
           "arrowcolor": "#2a3f5f",
           "arrowhead": 0,
           "arrowwidth": 1
          },
          "autotypenumbers": "strict",
          "coloraxis": {
           "colorbar": {
            "outlinewidth": 0,
            "ticks": ""
           }
          },
          "colorscale": {
           "diverging": [
            [
             0,
             "#8e0152"
            ],
            [
             0.1,
             "#c51b7d"
            ],
            [
             0.2,
             "#de77ae"
            ],
            [
             0.3,
             "#f1b6da"
            ],
            [
             0.4,
             "#fde0ef"
            ],
            [
             0.5,
             "#f7f7f7"
            ],
            [
             0.6,
             "#e6f5d0"
            ],
            [
             0.7,
             "#b8e186"
            ],
            [
             0.8,
             "#7fbc41"
            ],
            [
             0.9,
             "#4d9221"
            ],
            [
             1,
             "#276419"
            ]
           ],
           "sequential": [
            [
             0,
             "#0d0887"
            ],
            [
             0.1111111111111111,
             "#46039f"
            ],
            [
             0.2222222222222222,
             "#7201a8"
            ],
            [
             0.3333333333333333,
             "#9c179e"
            ],
            [
             0.4444444444444444,
             "#bd3786"
            ],
            [
             0.5555555555555556,
             "#d8576b"
            ],
            [
             0.6666666666666666,
             "#ed7953"
            ],
            [
             0.7777777777777778,
             "#fb9f3a"
            ],
            [
             0.8888888888888888,
             "#fdca26"
            ],
            [
             1,
             "#f0f921"
            ]
           ],
           "sequentialminus": [
            [
             0,
             "#0d0887"
            ],
            [
             0.1111111111111111,
             "#46039f"
            ],
            [
             0.2222222222222222,
             "#7201a8"
            ],
            [
             0.3333333333333333,
             "#9c179e"
            ],
            [
             0.4444444444444444,
             "#bd3786"
            ],
            [
             0.5555555555555556,
             "#d8576b"
            ],
            [
             0.6666666666666666,
             "#ed7953"
            ],
            [
             0.7777777777777778,
             "#fb9f3a"
            ],
            [
             0.8888888888888888,
             "#fdca26"
            ],
            [
             1,
             "#f0f921"
            ]
           ]
          },
          "colorway": [
           "#636efa",
           "#EF553B",
           "#00cc96",
           "#ab63fa",
           "#FFA15A",
           "#19d3f3",
           "#FF6692",
           "#B6E880",
           "#FF97FF",
           "#FECB52"
          ],
          "font": {
           "color": "#2a3f5f"
          },
          "geo": {
           "bgcolor": "white",
           "lakecolor": "white",
           "landcolor": "#E5ECF6",
           "showlakes": true,
           "showland": true,
           "subunitcolor": "white"
          },
          "hoverlabel": {
           "align": "left"
          },
          "hovermode": "closest",
          "mapbox": {
           "style": "light"
          },
          "paper_bgcolor": "white",
          "plot_bgcolor": "#E5ECF6",
          "polar": {
           "angularaxis": {
            "gridcolor": "white",
            "linecolor": "white",
            "ticks": ""
           },
           "bgcolor": "#E5ECF6",
           "radialaxis": {
            "gridcolor": "white",
            "linecolor": "white",
            "ticks": ""
           }
          },
          "scene": {
           "xaxis": {
            "backgroundcolor": "#E5ECF6",
            "gridcolor": "white",
            "gridwidth": 2,
            "linecolor": "white",
            "showbackground": true,
            "ticks": "",
            "zerolinecolor": "white"
           },
           "yaxis": {
            "backgroundcolor": "#E5ECF6",
            "gridcolor": "white",
            "gridwidth": 2,
            "linecolor": "white",
            "showbackground": true,
            "ticks": "",
            "zerolinecolor": "white"
           },
           "zaxis": {
            "backgroundcolor": "#E5ECF6",
            "gridcolor": "white",
            "gridwidth": 2,
            "linecolor": "white",
            "showbackground": true,
            "ticks": "",
            "zerolinecolor": "white"
           }
          },
          "shapedefaults": {
           "line": {
            "color": "#2a3f5f"
           }
          },
          "ternary": {
           "aaxis": {
            "gridcolor": "white",
            "linecolor": "white",
            "ticks": ""
           },
           "baxis": {
            "gridcolor": "white",
            "linecolor": "white",
            "ticks": ""
           },
           "bgcolor": "#E5ECF6",
           "caxis": {
            "gridcolor": "white",
            "linecolor": "white",
            "ticks": ""
           }
          },
          "title": {
           "x": 0.05
          },
          "xaxis": {
           "automargin": true,
           "gridcolor": "white",
           "linecolor": "white",
           "ticks": "",
           "title": {
            "standoff": 15
           },
           "zerolinecolor": "white",
           "zerolinewidth": 2
          },
          "yaxis": {
           "automargin": true,
           "gridcolor": "white",
           "linecolor": "white",
           "ticks": "",
           "title": {
            "standoff": 15
           },
           "zerolinecolor": "white",
           "zerolinewidth": 2
          }
         }
        },
        "title": {
         "text": "Contagem de Credit Score por Situação da Moradia"
        },
        "xaxis": {
         "anchor": "y",
         "categoryarray": [
          "Owned",
          "Rented"
         ],
         "categoryorder": "array",
         "domain": [
          0,
          1
         ],
         "title": {
          "text": "Situação da Moradia"
         }
        },
        "yaxis": {
         "anchor": "x",
         "domain": [
          0,
          1
         ],
         "title": {}
        }
       }
      },
      "image/png": "[encoded data removed]"
     },
     "metadata": {},
     "output_type": "display_data"
    }
   ],
   "source": [
    "# ANÁLISE CENTRAL \n",
    "\n",
    "# AGE VS MARITAL STATUS\n",
    "# Paleta de cores padronizada\n",
    "CREDIT_SCORE_COLORS = {'High': '#1f77b4', 'Average': '#ff7f0e', 'Low': '#d62728'}  # Azul, Laranja, Vermelho\n",
    "\n",
    "# IDADE POR STATUS CIVIL\n",
    "\n",
    "fig_age_bi = px.histogram(\n",
    "    df,\n",
    "    x='Age',\n",
    "    color='Marital Status',\n",
    "    nbins=10,\n",
    "    barmode='group',\n",
    "    title='Histograma de Idade Separado por Status Civil',\n",
    "    labels={\n",
    "        'Age': 'Idade (Anos)',\n",
    "        'count': 'Frequência',\n",
    "        'Marital Status': 'Status Civil'\n",
    "    },\n",
    "    color_discrete_sequence=px.colors.qualitative.Bold\n",
    ")\n",
    "\n",
    "fig_age_bi.update_layout(\n",
    "    yaxis_title=None,        # Oculta o título do eixo Y\n",
    "    bargap=0.1\n",
    ")\n",
    "fig_age_bi.update_yaxes(showticklabels=False)  # Oculta os números do eixo Y\n",
    "fig_age_bi.show()\n",
    "\n",
    "# GRÁFICO DE BARRAS EMPILHADO — EDUCATION VS CREDIT SCORE\n",
    "\n",
    "fig_education_score = px.histogram(\n",
    "    df,\n",
    "    x='Education',\n",
    "    color='Credit Score',\n",
    "    barmode='stack',\n",
    "    title='Credit Score por Nível de Escolaridade',\n",
    "    labels={\n",
    "        'Education': 'Escolaridade',\n",
    "        'count': 'Frequência'\n",
    "    },\n",
    "    color_discrete_map=CREDIT_SCORE_COLORS  # Paleta de risco padronizada\n",
    ")\n",
    "\n",
    "# Ajustes visuais\n",
    "fig_education_score.update_layout(yaxis_title=None)         # Oculta o título do eixo Y\n",
    "fig_education_score.update_yaxes(showticklabels=False)      # Oculta os números do eixo Y\n",
    "\n",
    "fig_education_score.show()\n",
    "\n",
    "\n",
    "# AGE VS INCOME (Normalizado)\n",
    "fig_normalized = px.scatter(\n",
    "    df,\n",
    "    x='Age_Normalized',\n",
    "    y='Income_Normalized',\n",
    "    color='Gender',\n",
    "    trendline='ols',\n",
    "    title='Idade vs. Renda',\n",
    "    color_discrete_sequence=px.colors.qualitative.Bold \n",
    ")\n",
    "fig_normalized.update_layout(\n",
    "    xaxis_title='Idade',\n",
    "    yaxis_title='Renda'\n",
    ")\n",
    "fig_normalized.show()\n",
    "\n",
    "# INCOME AGRUPADO VS SCORE CREDIT\n",
    "\n",
    "column_incom = 'Income'\n",
    "column_credit_score = 'Credit Score'\n",
    "\n",
    "# criação do histograma agrupado\n",
    "fig_income_score = px.histogram(\n",
    "    df,\n",
    "    x=column_income,\n",
    "    color=column_credit_score,\n",
    "    barmode='group',\n",
    "    title='Credit Score por Faixa de Renda',\n",
    "    labels={\n",
    "        column_income: 'Faixa de Renda',\n",
    "        column_credit_score: 'Credit Score',\n",
    "        'count': 'Frequência de Clientes'\n",
    "    },\n",
    "    height=500,\n",
    "    color_discrete_map=CREDIT_SCORE_COLORS  # padronização de cores\n",
    ")\n",
    "\n",
    "# ajustes visuais\n",
    "fig_income_score.update_xaxes(categoryorder='category ascending')  # ordena categorias no eixo x\n",
    "fig_income_score.update_layout(yaxis_title=None)                  # oculta o título do eixo y\n",
    "# fig_income_score.update_yaxes(showticklabels=False)               # oculta os números do eixo y\n",
    "\n",
    "fig_income_score.show()\n",
    "\n",
    "\n",
    "# HOME OWNERSHIP VS SCORE CREDIT\n",
    "column_home_ownership = 'Home Ownership'\n",
    "column_credit_score = 'Credit Score'\n",
    "\n",
    "# Histograma Agrupado para Moradia vs Score\n",
    "fig_moradia = px.histogram(\n",
    "    df,\n",
    "    x=column_home_ownership,\n",
    "    color=column_credit_score,\n",
    "    \n",
    "    barmode='group',\n",
    "    \n",
    "    title='Contagem de Credit Score por Situação da Moradia',\n",
    "    labels={\n",
    "        column_home_ownership: 'Situação da Moradia',\n",
    "        column_credit_score: 'Credit Score',\n",
    "        'count': 'Frequência de Clientes'\n",
    "    },\n",
    "    height=500,\n",
    "    # PADRONIZAÇÃO DE CORES\n",
    "    color_discrete_map=CREDIT_SCORE_COLORS \n",
    ")\n",
    "\n",
    "# Ajuste de Ordem\n",
    "fig_moradia.update_xaxes(categoryorder='array', categoryarray=['Owned', 'Rented'])\n",
    "fig_moradia.update_layout(yaxis_title=None)                  # oculta o título do eixo y\n",
    "\n",
    "fig_moradia.show()"
   ]
  },
  {
   "cell_type": "markdown",
   "metadata": {
    "id": "4-Sb2M1CS78V"
   },
   "source": [
    "**E) Que outras perguntas te parecem fazer sentido explorarmos a resposta para conhecermos mais nossa base de dados e o comportamento dos clientes?**\n",
    "\n",
    " Elabore mais 3 perguntas e responda utilizando gráficos + insights."
   ]
  },
  {
   "cell_type": "markdown",
   "metadata": {},
   "source": [
    "### 3 Perguntas e Insigths\n",
    "\n",
    "Existe uma correlação linear (positiva ou negativa) entre o aumento do Number of Children e a proporção de Credit Score \"High\" (ou \"Low\")?\n",
    "\n",
    "Qual a diferença percentual no Credit Score \"High\" (ou \"Low\") entre os grupos de Gender?\n",
    "\n",
    "Existe um status civil (Marital Status) que é estatisticamente mais propenso a ter um Credit Score classificado como \"High\"?\n",
    "\n",
    "\n",
    "### Insight Sintético (INSSIG)\n",
    "\n",
    "O perfil de **baixo risco** (associado a scores \"High\") é fortemente dominado por clientes em situação de **estabilidade doméstica e menor dependência familiar**, o que sugere que o risco financeiro é amplamente mitigado pela estrutura da unidade familiar.\n",
    "\n",
    "**Detalhes da Evidência Cruzada:**\n",
    "\n",
    "1.  **Estado Civil (`Marital Status`):** O grupo **\"Married\" (Casado)** demonstra a maior estabilidade e menor risco, com **97.78%** de seus membros classificados com score \"High\" (e 0% \"Low\"), representando um segmento de *risco quase nulo*. O oposto, **\"Single\" (Solteiro)**, tem uma proporção muito maior de risco (\"Low\") em **15.48%**.\n",
    "2.  **Gênero (`Gender`):** Embora as contagens de score \"High\" sejam semelhantes, a distribuição de risco difere. O grupo **\"Female\" (Feminino)** apresenta uma taxa de score \"Low\" de **17.44%**, enquanto o grupo **\"Male\" (Masculino)** não apresenta nenhum score \"Low\" (**0.00%**). Isso sugere que o gênero feminino, neste dataset, está associado ao **maior risco pontual** de default.\n",
    "3.  **Número de Filhos (`Number of Children`):** O risco é inversamente proporcional ao número de filhos. Clientes **sem filhos (0)** são os que apresentam o **maior risco de score \"Low\" (15.46%)**. Curiosamente, clientes com **1 ou 2 filhos** apresentam uma estabilidade financeira quase perfeita (**0.00% de score \"Low\"**), indicando que um nível moderado de responsabilidade familiar não aumenta o risco e pode até correlacionar-se com maior estabilidade.\n",
    "\n",
    "---\n",
    "\n",
    "### Ação Estratégica Sugerida\n",
    "\n",
    "Para maximizar a lucratividade e minimizar o risco, a empresa deve:\n",
    "\n",
    "1.  **Priorizar o Segmento \"Casado\":** Focar em ofertas de crédito e limites mais altos para clientes **\"Married\"**, pois o risco é insignificante.\n",
    "2.  **Revisitar o Segmento \"Single\":** Implementar políticas de crédito mais rigorosas e cautelosas, ou exigir garantias adicionais, para o segmento **\"Single\"**, especialmente para o **gênero feminino** (que tem o maior percentual de score \"Low\"), cruzando essa informação com a renda para mitigar o risco.\n",
    "3.  **Analisar \"Sem Filhos\":** Investigar o motivo da alta taxa de risco no grupo **\"Number of Children = 0\"** para ver se isso é explicado por serem jovens (baixa renda/histórico) ou por serem solteiros (o fator de risco já identificado)."
   ]
  },
  {
   "cell_type": "code",
   "execution_count": 102,
   "metadata": {},
   "outputs": [
    {
     "name": "stdout",
     "output_type": "stream",
     "text": [
      "Tabela de Contagem: Número de Filhos vs. Credit Score\n",
      "Credit Score        Average  High  Low  All\n",
      "Number of Children                         \n",
      "0                        34    48   15   97\n",
      "1                         1    31    0   32\n",
      "2                         1    29    0   30\n",
      "3                         0     5    0    5\n",
      "All                      36   113   15  164\n",
      "----------------------------------------------------------------------\n",
      "\n",
      "Tabela de Percentual (Por Número de Filhos):\n",
      "Credit Score        Average    High    Low\n",
      "Number of Children                        \n",
      "0                     35.05   49.48  15.46\n",
      "1                      3.12   96.88   0.00\n",
      "2                      3.33   96.67   0.00\n",
      "3                      0.00  100.00   0.00\n"
     ]
    },
    {
     "data": {
      "application/vnd.plotly.v1+json": {
       "config": {
        "plotlyServerURL": "https://plot.ly"
       },
       "data": [
        {
         "alignmentgroup": "True",
         "bingroup": "x",
         "hovertemplate": "Credit Score=High<br>Número de Filhos=%{x}<br>count=%{y}<extra></extra>",
         "legendgroup": "High",
         "marker": {
          "color": "#636efa",
          "pattern": {
           "shape": ""
          }
         },
         "name": "High",
         "offsetgroup": "High",
         "orientation": "v",
         "showlegend": true,
         "type": "histogram",
         "x": {
          "bdata": "AAIBAAMAAgABAAIAAQACAAEAAgABAgEAAwACAAEAAgABAAIAAQACAAECAQIBAAMAAgABAAIAAQACAAEAAgABAgECAQADAAIAAQACAAEAAgABAAIAAQIBAgEBAAABAgEAAwACAAEAAgABAAIAAQACAAE=",
          "dtype": "i1"
         },
         "xaxis": "x",
         "yaxis": "y"
        },
        {
         "alignmentgroup": "True",
         "bingroup": "x",
         "hovertemplate": "Credit Score=Average<br>Número de Filhos=%{x}<br>count=%{y}<extra></extra>",
         "legendgroup": "Average",
         "marker": {
          "color": "#EF553B",
          "pattern": {
           "shape": ""
          }
         },
         "name": "Average",
         "offsetgroup": "Average",
         "orientation": "v",
         "showlegend": true,
         "type": "histogram",
         "x": {
          "bdata": "AAAAAAAAAAAAAAAAAAAAAAAAAAAAAAAAAAAAAAECAAAAAAAA",
          "dtype": "i1"
         },
         "xaxis": "x",
         "yaxis": "y"
        },
        {
         "alignmentgroup": "True",
         "bingroup": "x",
         "hovertemplate": "Credit Score=Low<br>Número de Filhos=%{x}<br>count=%{y}<extra></extra>",
         "legendgroup": "Low",
         "marker": {
          "color": "#00cc96",
          "pattern": {
           "shape": ""
          }
         },
         "name": "Low",
         "offsetgroup": "Low",
         "orientation": "v",
         "showlegend": true,
         "type": "histogram",
         "x": {
          "bdata": "AAAAAAAAAAAAAAAAAAAA",
          "dtype": "i1"
         },
         "xaxis": "x",
         "yaxis": "y"
        }
       ],
       "layout": {
        "barmode": "group",
        "legend": {
         "title": {
          "text": "Credit Score"
         },
         "tracegroupgap": 0
        },
        "template": {
         "data": {
          "bar": [
           {
            "error_x": {
             "color": "#2a3f5f"
            },
            "error_y": {
             "color": "#2a3f5f"
            },
            "marker": {
             "line": {
              "color": "#E5ECF6",
              "width": 0.5
             },
             "pattern": {
              "fillmode": "overlay",
              "size": 10,
              "solidity": 0.2
             }
            },
            "type": "bar"
           }
          ],
          "barpolar": [
           {
            "marker": {
             "line": {
              "color": "#E5ECF6",
              "width": 0.5
             },
             "pattern": {
              "fillmode": "overlay",
              "size": 10,
              "solidity": 0.2
             }
            },
            "type": "barpolar"
           }
          ],
          "carpet": [
           {
            "aaxis": {
             "endlinecolor": "#2a3f5f",
             "gridcolor": "white",
             "linecolor": "white",
             "minorgridcolor": "white",
             "startlinecolor": "#2a3f5f"
            },
            "baxis": {
             "endlinecolor": "#2a3f5f",
             "gridcolor": "white",
             "linecolor": "white",
             "minorgridcolor": "white",
             "startlinecolor": "#2a3f5f"
            },
            "type": "carpet"
           }
          ],
          "choropleth": [
           {
            "colorbar": {
             "outlinewidth": 0,
             "ticks": ""
            },
            "type": "choropleth"
           }
          ],
          "contour": [
           {
            "colorbar": {
             "outlinewidth": 0,
             "ticks": ""
            },
            "colorscale": [
             [
              0,
              "#0d0887"
             ],
             [
              0.1111111111111111,
              "#46039f"
             ],
             [
              0.2222222222222222,
              "#7201a8"
             ],
             [
              0.3333333333333333,
              "#9c179e"
             ],
             [
              0.4444444444444444,
              "#bd3786"
             ],
             [
              0.5555555555555556,
              "#d8576b"
             ],
             [
              0.6666666666666666,
              "#ed7953"
             ],
             [
              0.7777777777777778,
              "#fb9f3a"
             ],
             [
              0.8888888888888888,
              "#fdca26"
             ],
             [
              1,
              "#f0f921"
             ]
            ],
            "type": "contour"
           }
          ],
          "contourcarpet": [
           {
            "colorbar": {
             "outlinewidth": 0,
             "ticks": ""
            },
            "type": "contourcarpet"
           }
          ],
          "heatmap": [
           {
            "colorbar": {
             "outlinewidth": 0,
             "ticks": ""
            },
            "colorscale": [
             [
              0,
              "#0d0887"
             ],
             [
              0.1111111111111111,
              "#46039f"
             ],
             [
              0.2222222222222222,
              "#7201a8"
             ],
             [
              0.3333333333333333,
              "#9c179e"
             ],
             [
              0.4444444444444444,
              "#bd3786"
             ],
             [
              0.5555555555555556,
              "#d8576b"
             ],
             [
              0.6666666666666666,
              "#ed7953"
             ],
             [
              0.7777777777777778,
              "#fb9f3a"
             ],
             [
              0.8888888888888888,
              "#fdca26"
             ],
             [
              1,
              "#f0f921"
             ]
            ],
            "type": "heatmap"
           }
          ],
          "histogram": [
           {
            "marker": {
             "pattern": {
              "fillmode": "overlay",
              "size": 10,
              "solidity": 0.2
             }
            },
            "type": "histogram"
           }
          ],
          "histogram2d": [
           {
            "colorbar": {
             "outlinewidth": 0,
             "ticks": ""
            },
            "colorscale": [
             [
              0,
              "#0d0887"
             ],
             [
              0.1111111111111111,
              "#46039f"
             ],
             [
              0.2222222222222222,
              "#7201a8"
             ],
             [
              0.3333333333333333,
              "#9c179e"
             ],
             [
              0.4444444444444444,
              "#bd3786"
             ],
             [
              0.5555555555555556,
              "#d8576b"
             ],
             [
              0.6666666666666666,
              "#ed7953"
             ],
             [
              0.7777777777777778,
              "#fb9f3a"
             ],
             [
              0.8888888888888888,
              "#fdca26"
             ],
             [
              1,
              "#f0f921"
             ]
            ],
            "type": "histogram2d"
           }
          ],
          "histogram2dcontour": [
           {
            "colorbar": {
             "outlinewidth": 0,
             "ticks": ""
            },
            "colorscale": [
             [
              0,
              "#0d0887"
             ],
             [
              0.1111111111111111,
              "#46039f"
             ],
             [
              0.2222222222222222,
              "#7201a8"
             ],
             [
              0.3333333333333333,
              "#9c179e"
             ],
             [
              0.4444444444444444,
              "#bd3786"
             ],
             [
              0.5555555555555556,
              "#d8576b"
             ],
             [
              0.6666666666666666,
              "#ed7953"
             ],
             [
              0.7777777777777778,
              "#fb9f3a"
             ],
             [
              0.8888888888888888,
              "#fdca26"
             ],
             [
              1,
              "#f0f921"
             ]
            ],
            "type": "histogram2dcontour"
           }
          ],
          "mesh3d": [
           {
            "colorbar": {
             "outlinewidth": 0,
             "ticks": ""
            },
            "type": "mesh3d"
           }
          ],
          "parcoords": [
           {
            "line": {
             "colorbar": {
              "outlinewidth": 0,
              "ticks": ""
             }
            },
            "type": "parcoords"
           }
          ],
          "pie": [
           {
            "automargin": true,
            "type": "pie"
           }
          ],
          "scatter": [
           {
            "fillpattern": {
             "fillmode": "overlay",
             "size": 10,
             "solidity": 0.2
            },
            "type": "scatter"
           }
          ],
          "scatter3d": [
           {
            "line": {
             "colorbar": {
              "outlinewidth": 0,
              "ticks": ""
             }
            },
            "marker": {
             "colorbar": {
              "outlinewidth": 0,
              "ticks": ""
             }
            },
            "type": "scatter3d"
           }
          ],
          "scattercarpet": [
           {
            "marker": {
             "colorbar": {
              "outlinewidth": 0,
              "ticks": ""
             }
            },
            "type": "scattercarpet"
           }
          ],
          "scattergeo": [
           {
            "marker": {
             "colorbar": {
              "outlinewidth": 0,
              "ticks": ""
             }
            },
            "type": "scattergeo"
           }
          ],
          "scattergl": [
           {
            "marker": {
             "colorbar": {
              "outlinewidth": 0,
              "ticks": ""
             }
            },
            "type": "scattergl"
           }
          ],
          "scattermap": [
           {
            "marker": {
             "colorbar": {
              "outlinewidth": 0,
              "ticks": ""
             }
            },
            "type": "scattermap"
           }
          ],
          "scattermapbox": [
           {
            "marker": {
             "colorbar": {
              "outlinewidth": 0,
              "ticks": ""
             }
            },
            "type": "scattermapbox"
           }
          ],
          "scatterpolar": [
           {
            "marker": {
             "colorbar": {
              "outlinewidth": 0,
              "ticks": ""
             }
            },
            "type": "scatterpolar"
           }
          ],
          "scatterpolargl": [
           {
            "marker": {
             "colorbar": {
              "outlinewidth": 0,
              "ticks": ""
             }
            },
            "type": "scatterpolargl"
           }
          ],
          "scatterternary": [
           {
            "marker": {
             "colorbar": {
              "outlinewidth": 0,
              "ticks": ""
             }
            },
            "type": "scatterternary"
           }
          ],
          "surface": [
           {
            "colorbar": {
             "outlinewidth": 0,
             "ticks": ""
            },
            "colorscale": [
             [
              0,
              "#0d0887"
             ],
             [
              0.1111111111111111,
              "#46039f"
             ],
             [
              0.2222222222222222,
              "#7201a8"
             ],
             [
              0.3333333333333333,
              "#9c179e"
             ],
             [
              0.4444444444444444,
              "#bd3786"
             ],
             [
              0.5555555555555556,
              "#d8576b"
             ],
             [
              0.6666666666666666,
              "#ed7953"
             ],
             [
              0.7777777777777778,
              "#fb9f3a"
             ],
             [
              0.8888888888888888,
              "#fdca26"
             ],
             [
              1,
              "#f0f921"
             ]
            ],
            "type": "surface"
           }
          ],
          "table": [
           {
            "cells": {
             "fill": {
              "color": "#EBF0F8"
             },
             "line": {
              "color": "white"
             }
            },
            "header": {
             "fill": {
              "color": "#C8D4E3"
             },
             "line": {
              "color": "white"
             }
            },
            "type": "table"
           }
          ]
         },
         "layout": {
          "annotationdefaults": {
           "arrowcolor": "#2a3f5f",
           "arrowhead": 0,
           "arrowwidth": 1
          },
          "autotypenumbers": "strict",
          "coloraxis": {
           "colorbar": {
            "outlinewidth": 0,
            "ticks": ""
           }
          },
          "colorscale": {
           "diverging": [
            [
             0,
             "#8e0152"
            ],
            [
             0.1,
             "#c51b7d"
            ],
            [
             0.2,
             "#de77ae"
            ],
            [
             0.3,
             "#f1b6da"
            ],
            [
             0.4,
             "#fde0ef"
            ],
            [
             0.5,
             "#f7f7f7"
            ],
            [
             0.6,
             "#e6f5d0"
            ],
            [
             0.7,
             "#b8e186"
            ],
            [
             0.8,
             "#7fbc41"
            ],
            [
             0.9,
             "#4d9221"
            ],
            [
             1,
             "#276419"
            ]
           ],
           "sequential": [
            [
             0,
             "#0d0887"
            ],
            [
             0.1111111111111111,
             "#46039f"
            ],
            [
             0.2222222222222222,
             "#7201a8"
            ],
            [
             0.3333333333333333,
             "#9c179e"
            ],
            [
             0.4444444444444444,
             "#bd3786"
            ],
            [
             0.5555555555555556,
             "#d8576b"
            ],
            [
             0.6666666666666666,
             "#ed7953"
            ],
            [
             0.7777777777777778,
             "#fb9f3a"
            ],
            [
             0.8888888888888888,
             "#fdca26"
            ],
            [
             1,
             "#f0f921"
            ]
           ],
           "sequentialminus": [
            [
             0,
             "#0d0887"
            ],
            [
             0.1111111111111111,
             "#46039f"
            ],
            [
             0.2222222222222222,
             "#7201a8"
            ],
            [
             0.3333333333333333,
             "#9c179e"
            ],
            [
             0.4444444444444444,
             "#bd3786"
            ],
            [
             0.5555555555555556,
             "#d8576b"
            ],
            [
             0.6666666666666666,
             "#ed7953"
            ],
            [
             0.7777777777777778,
             "#fb9f3a"
            ],
            [
             0.8888888888888888,
             "#fdca26"
            ],
            [
             1,
             "#f0f921"
            ]
           ]
          },
          "colorway": [
           "#636efa",
           "#EF553B",
           "#00cc96",
           "#ab63fa",
           "#FFA15A",
           "#19d3f3",
           "#FF6692",
           "#B6E880",
           "#FF97FF",
           "#FECB52"
          ],
          "font": {
           "color": "#2a3f5f"
          },
          "geo": {
           "bgcolor": "white",
           "lakecolor": "white",
           "landcolor": "#E5ECF6",
           "showlakes": true,
           "showland": true,
           "subunitcolor": "white"
          },
          "hoverlabel": {
           "align": "left"
          },
          "hovermode": "closest",
          "mapbox": {
           "style": "light"
          },
          "paper_bgcolor": "white",
          "plot_bgcolor": "#E5ECF6",
          "polar": {
           "angularaxis": {
            "gridcolor": "white",
            "linecolor": "white",
            "ticks": ""
           },
           "bgcolor": "#E5ECF6",
           "radialaxis": {
            "gridcolor": "white",
            "linecolor": "white",
            "ticks": ""
           }
          },
          "scene": {
           "xaxis": {
            "backgroundcolor": "#E5ECF6",
            "gridcolor": "white",
            "gridwidth": 2,
            "linecolor": "white",
            "showbackground": true,
            "ticks": "",
            "zerolinecolor": "white"
           },
           "yaxis": {
            "backgroundcolor": "#E5ECF6",
            "gridcolor": "white",
            "gridwidth": 2,
            "linecolor": "white",
            "showbackground": true,
            "ticks": "",
            "zerolinecolor": "white"
           },
           "zaxis": {
            "backgroundcolor": "#E5ECF6",
            "gridcolor": "white",
            "gridwidth": 2,
            "linecolor": "white",
            "showbackground": true,
            "ticks": "",
            "zerolinecolor": "white"
           }
          },
          "shapedefaults": {
           "line": {
            "color": "#2a3f5f"
           }
          },
          "ternary": {
           "aaxis": {
            "gridcolor": "white",
            "linecolor": "white",
            "ticks": ""
           },
           "baxis": {
            "gridcolor": "white",
            "linecolor": "white",
            "ticks": ""
           },
           "bgcolor": "#E5ECF6",
           "caxis": {
            "gridcolor": "white",
            "linecolor": "white",
            "ticks": ""
           }
          },
          "title": {
           "x": 0.05
          },
          "xaxis": {
           "automargin": true,
           "gridcolor": "white",
           "linecolor": "white",
           "ticks": "",
           "title": {
            "standoff": 15
           },
           "zerolinecolor": "white",
           "zerolinewidth": 2
          },
          "yaxis": {
           "automargin": true,
           "gridcolor": "white",
           "linecolor": "white",
           "ticks": "",
           "title": {
            "standoff": 15
           },
           "zerolinecolor": "white",
           "zerolinewidth": 2
          }
         }
        },
        "title": {
         "text": "Contagem de Credit Score por Número de Filhos"
        },
        "xaxis": {
         "anchor": "y",
         "categoryarray": [
          0,
          1,
          2,
          3
         ],
         "categoryorder": "array",
         "domain": [
          0,
          1
         ],
         "title": {
          "text": "Número de Filhos"
         }
        },
        "yaxis": {
         "anchor": "x",
         "domain": [
          0,
          1
         ],
         "showticklabels": false,
         "title": {}
        }
       }
      },
      "image/png": "[encoded data removed]"
     },
     "metadata": {},
     "output_type": "display_data"
    },
    {
     "name": "stdout",
     "output_type": "stream",
     "text": [
      "Tabela de Contagem: Gênero vs. Credit Score\n",
      "Credit Score  Average  High  Low  All\n",
      "Gender                               \n",
      "Female             15    56   15   86\n",
      "Male               21    57    0   78\n",
      "All                36   113   15  164\n",
      "----------------------------------------------------------------------\n",
      "\n",
      "Tabela de Percentual (Por Gênero):\n",
      "Credit Score  Average   High    Low\n",
      "Gender                             \n",
      "Female          17.44  65.12  17.44\n",
      "Male            26.92  73.08   0.00\n"
     ]
    },
    {
     "data": {
      "application/vnd.plotly.v1+json": {
       "config": {
        "plotlyServerURL": "https://plot.ly"
       },
       "data": [
        {
         "alignmentgroup": "True",
         "bingroup": "x",
         "hovertemplate": "Credit Score=High<br>Gênero=%{x}<br>count=%{y}<extra></extra>",
         "legendgroup": "High",
         "marker": {
          "color": "#636efa",
          "pattern": {
           "shape": ""
          }
         },
         "name": "High",
         "offsetgroup": "High",
         "orientation": "v",
         "showlegend": true,
         "type": "histogram",
         "x": [
          "Female",
          "Male",
          "Female",
          "Male",
          "Female",
          "Male",
          "Female",
          "Male",
          "Female",
          "Male",
          "Female",
          "Male",
          "Female",
          "Male",
          "Female",
          "Male",
          "Female",
          "Male",
          "Female",
          "Male",
          "Female",
          "Male",
          "Female",
          "Male",
          "Female",
          "Male",
          "Female",
          "Male",
          "Female",
          "Male",
          "Female",
          "Male",
          "Female",
          "Male",
          "Female",
          "Male",
          "Female",
          "Male",
          "Female",
          "Male",
          "Female",
          "Male",
          "Female",
          "Male",
          "Female",
          "Male",
          "Female",
          "Male",
          "Female",
          "Male",
          "Female",
          "Male",
          "Female",
          "Male",
          "Female",
          "Male",
          "Female",
          "Male",
          "Female",
          "Male",
          "Female",
          "Male",
          "Female",
          "Male",
          "Female",
          "Male",
          "Female",
          "Male",
          "Female",
          "Male",
          "Female",
          "Male",
          "Female",
          "Male",
          "Female",
          "Male",
          "Female",
          "Male",
          "Female",
          "Male",
          "Female",
          "Male",
          "Female",
          "Male",
          "Female",
          "Male",
          "Female",
          "Male",
          "Female",
          "Female",
          "Male",
          "Male",
          "Male",
          "Male",
          "Female",
          "Male",
          "Female",
          "Male",
          "Female",
          "Male",
          "Female",
          "Male",
          "Female",
          "Male",
          "Female",
          "Male",
          "Female",
          "Male",
          "Female",
          "Male",
          "Female",
          "Male",
          "Female"
         ],
         "xaxis": "x",
         "yaxis": "y"
        },
        {
         "alignmentgroup": "True",
         "bingroup": "x",
         "hovertemplate": "Credit Score=Average<br>Gênero=%{x}<br>count=%{y}<extra></extra>",
         "legendgroup": "Average",
         "marker": {
          "color": "#EF553B",
          "pattern": {
           "shape": ""
          }
         },
         "name": "Average",
         "offsetgroup": "Average",
         "orientation": "v",
         "showlegend": true,
         "type": "histogram",
         "x": [
          "Female",
          "Male",
          "Male",
          "Male",
          "Male",
          "Female",
          "Female",
          "Male",
          "Male",
          "Male",
          "Male",
          "Female",
          "Female",
          "Female",
          "Male",
          "Male",
          "Male",
          "Male",
          "Female",
          "Female",
          "Female",
          "Male",
          "Male",
          "Male",
          "Male",
          "Female",
          "Female",
          "Male",
          "Female",
          "Female",
          "Female",
          "Female",
          "Male",
          "Male",
          "Male",
          "Male"
         ],
         "xaxis": "x",
         "yaxis": "y"
        },
        {
         "alignmentgroup": "True",
         "bingroup": "x",
         "hovertemplate": "Credit Score=Low<br>Gênero=%{x}<br>count=%{y}<extra></extra>",
         "legendgroup": "Low",
         "marker": {
          "color": "#00cc96",
          "pattern": {
           "shape": ""
          }
         },
         "name": "Low",
         "offsetgroup": "Low",
         "orientation": "v",
         "showlegend": true,
         "type": "histogram",
         "x": [
          "Female",
          "Female",
          "Female",
          "Female",
          "Female",
          "Female",
          "Female",
          "Female",
          "Female",
          "Female",
          "Female",
          "Female",
          "Female",
          "Female",
          "Female"
         ],
         "xaxis": "x",
         "yaxis": "y"
        }
       ],
       "layout": {
        "barmode": "group",
        "height": 500,
        "legend": {
         "title": {
          "text": "Credit Score"
         },
         "tracegroupgap": 0
        },
        "template": {
         "data": {
          "bar": [
           {
            "error_x": {
             "color": "#2a3f5f"
            },
            "error_y": {
             "color": "#2a3f5f"
            },
            "marker": {
             "line": {
              "color": "#E5ECF6",
              "width": 0.5
             },
             "pattern": {
              "fillmode": "overlay",
              "size": 10,
              "solidity": 0.2
             }
            },
            "type": "bar"
           }
          ],
          "barpolar": [
           {
            "marker": {
             "line": {
              "color": "#E5ECF6",
              "width": 0.5
             },
             "pattern": {
              "fillmode": "overlay",
              "size": 10,
              "solidity": 0.2
             }
            },
            "type": "barpolar"
           }
          ],
          "carpet": [
           {
            "aaxis": {
             "endlinecolor": "#2a3f5f",
             "gridcolor": "white",
             "linecolor": "white",
             "minorgridcolor": "white",
             "startlinecolor": "#2a3f5f"
            },
            "baxis": {
             "endlinecolor": "#2a3f5f",
             "gridcolor": "white",
             "linecolor": "white",
             "minorgridcolor": "white",
             "startlinecolor": "#2a3f5f"
            },
            "type": "carpet"
           }
          ],
          "choropleth": [
           {
            "colorbar": {
             "outlinewidth": 0,
             "ticks": ""
            },
            "type": "choropleth"
           }
          ],
          "contour": [
           {
            "colorbar": {
             "outlinewidth": 0,
             "ticks": ""
            },
            "colorscale": [
             [
              0,
              "#0d0887"
             ],
             [
              0.1111111111111111,
              "#46039f"
             ],
             [
              0.2222222222222222,
              "#7201a8"
             ],
             [
              0.3333333333333333,
              "#9c179e"
             ],
             [
              0.4444444444444444,
              "#bd3786"
             ],
             [
              0.5555555555555556,
              "#d8576b"
             ],
             [
              0.6666666666666666,
              "#ed7953"
             ],
             [
              0.7777777777777778,
              "#fb9f3a"
             ],
             [
              0.8888888888888888,
              "#fdca26"
             ],
             [
              1,
              "#f0f921"
             ]
            ],
            "type": "contour"
           }
          ],
          "contourcarpet": [
           {
            "colorbar": {
             "outlinewidth": 0,
             "ticks": ""
            },
            "type": "contourcarpet"
           }
          ],
          "heatmap": [
           {
            "colorbar": {
             "outlinewidth": 0,
             "ticks": ""
            },
            "colorscale": [
             [
              0,
              "#0d0887"
             ],
             [
              0.1111111111111111,
              "#46039f"
             ],
             [
              0.2222222222222222,
              "#7201a8"
             ],
             [
              0.3333333333333333,
              "#9c179e"
             ],
             [
              0.4444444444444444,
              "#bd3786"
             ],
             [
              0.5555555555555556,
              "#d8576b"
             ],
             [
              0.6666666666666666,
              "#ed7953"
             ],
             [
              0.7777777777777778,
              "#fb9f3a"
             ],
             [
              0.8888888888888888,
              "#fdca26"
             ],
             [
              1,
              "#f0f921"
             ]
            ],
            "type": "heatmap"
           }
          ],
          "histogram": [
           {
            "marker": {
             "pattern": {
              "fillmode": "overlay",
              "size": 10,
              "solidity": 0.2
             }
            },
            "type": "histogram"
           }
          ],
          "histogram2d": [
           {
            "colorbar": {
             "outlinewidth": 0,
             "ticks": ""
            },
            "colorscale": [
             [
              0,
              "#0d0887"
             ],
             [
              0.1111111111111111,
              "#46039f"
             ],
             [
              0.2222222222222222,
              "#7201a8"
             ],
             [
              0.3333333333333333,
              "#9c179e"
             ],
             [
              0.4444444444444444,
              "#bd3786"
             ],
             [
              0.5555555555555556,
              "#d8576b"
             ],
             [
              0.6666666666666666,
              "#ed7953"
             ],
             [
              0.7777777777777778,
              "#fb9f3a"
             ],
             [
              0.8888888888888888,
              "#fdca26"
             ],
             [
              1,
              "#f0f921"
             ]
            ],
            "type": "histogram2d"
           }
          ],
          "histogram2dcontour": [
           {
            "colorbar": {
             "outlinewidth": 0,
             "ticks": ""
            },
            "colorscale": [
             [
              0,
              "#0d0887"
             ],
             [
              0.1111111111111111,
              "#46039f"
             ],
             [
              0.2222222222222222,
              "#7201a8"
             ],
             [
              0.3333333333333333,
              "#9c179e"
             ],
             [
              0.4444444444444444,
              "#bd3786"
             ],
             [
              0.5555555555555556,
              "#d8576b"
             ],
             [
              0.6666666666666666,
              "#ed7953"
             ],
             [
              0.7777777777777778,
              "#fb9f3a"
             ],
             [
              0.8888888888888888,
              "#fdca26"
             ],
             [
              1,
              "#f0f921"
             ]
            ],
            "type": "histogram2dcontour"
           }
          ],
          "mesh3d": [
           {
            "colorbar": {
             "outlinewidth": 0,
             "ticks": ""
            },
            "type": "mesh3d"
           }
          ],
          "parcoords": [
           {
            "line": {
             "colorbar": {
              "outlinewidth": 0,
              "ticks": ""
             }
            },
            "type": "parcoords"
           }
          ],
          "pie": [
           {
            "automargin": true,
            "type": "pie"
           }
          ],
          "scatter": [
           {
            "fillpattern": {
             "fillmode": "overlay",
             "size": 10,
             "solidity": 0.2
            },
            "type": "scatter"
           }
          ],
          "scatter3d": [
           {
            "line": {
             "colorbar": {
              "outlinewidth": 0,
              "ticks": ""
             }
            },
            "marker": {
             "colorbar": {
              "outlinewidth": 0,
              "ticks": ""
             }
            },
            "type": "scatter3d"
           }
          ],
          "scattercarpet": [
           {
            "marker": {
             "colorbar": {
              "outlinewidth": 0,
              "ticks": ""
             }
            },
            "type": "scattercarpet"
           }
          ],
          "scattergeo": [
           {
            "marker": {
             "colorbar": {
              "outlinewidth": 0,
              "ticks": ""
             }
            },
            "type": "scattergeo"
           }
          ],
          "scattergl": [
           {
            "marker": {
             "colorbar": {
              "outlinewidth": 0,
              "ticks": ""
             }
            },
            "type": "scattergl"
           }
          ],
          "scattermap": [
           {
            "marker": {
             "colorbar": {
              "outlinewidth": 0,
              "ticks": ""
             }
            },
            "type": "scattermap"
           }
          ],
          "scattermapbox": [
           {
            "marker": {
             "colorbar": {
              "outlinewidth": 0,
              "ticks": ""
             }
            },
            "type": "scattermapbox"
           }
          ],
          "scatterpolar": [
           {
            "marker": {
             "colorbar": {
              "outlinewidth": 0,
              "ticks": ""
             }
            },
            "type": "scatterpolar"
           }
          ],
          "scatterpolargl": [
           {
            "marker": {
             "colorbar": {
              "outlinewidth": 0,
              "ticks": ""
             }
            },
            "type": "scatterpolargl"
           }
          ],
          "scatterternary": [
           {
            "marker": {
             "colorbar": {
              "outlinewidth": 0,
              "ticks": ""
             }
            },
            "type": "scatterternary"
           }
          ],
          "surface": [
           {
            "colorbar": {
             "outlinewidth": 0,
             "ticks": ""
            },
            "colorscale": [
             [
              0,
              "#0d0887"
             ],
             [
              0.1111111111111111,
              "#46039f"
             ],
             [
              0.2222222222222222,
              "#7201a8"
             ],
             [
              0.3333333333333333,
              "#9c179e"
             ],
             [
              0.4444444444444444,
              "#bd3786"
             ],
             [
              0.5555555555555556,
              "#d8576b"
             ],
             [
              0.6666666666666666,
              "#ed7953"
             ],
             [
              0.7777777777777778,
              "#fb9f3a"
             ],
             [
              0.8888888888888888,
              "#fdca26"
             ],
             [
              1,
              "#f0f921"
             ]
            ],
            "type": "surface"
           }
          ],
          "table": [
           {
            "cells": {
             "fill": {
              "color": "#EBF0F8"
             },
             "line": {
              "color": "white"
             }
            },
            "header": {
             "fill": {
              "color": "#C8D4E3"
             },
             "line": {
              "color": "white"
             }
            },
            "type": "table"
           }
          ]
         },
         "layout": {
          "annotationdefaults": {
           "arrowcolor": "#2a3f5f",
           "arrowhead": 0,
           "arrowwidth": 1
          },
          "autotypenumbers": "strict",
          "coloraxis": {
           "colorbar": {
            "outlinewidth": 0,
            "ticks": ""
           }
          },
          "colorscale": {
           "diverging": [
            [
             0,
             "#8e0152"
            ],
            [
             0.1,
             "#c51b7d"
            ],
            [
             0.2,
             "#de77ae"
            ],
            [
             0.3,
             "#f1b6da"
            ],
            [
             0.4,
             "#fde0ef"
            ],
            [
             0.5,
             "#f7f7f7"
            ],
            [
             0.6,
             "#e6f5d0"
            ],
            [
             0.7,
             "#b8e186"
            ],
            [
             0.8,
             "#7fbc41"
            ],
            [
             0.9,
             "#4d9221"
            ],
            [
             1,
             "#276419"
            ]
           ],
           "sequential": [
            [
             0,
             "#0d0887"
            ],
            [
             0.1111111111111111,
             "#46039f"
            ],
            [
             0.2222222222222222,
             "#7201a8"
            ],
            [
             0.3333333333333333,
             "#9c179e"
            ],
            [
             0.4444444444444444,
             "#bd3786"
            ],
            [
             0.5555555555555556,
             "#d8576b"
            ],
            [
             0.6666666666666666,
             "#ed7953"
            ],
            [
             0.7777777777777778,
             "#fb9f3a"
            ],
            [
             0.8888888888888888,
             "#fdca26"
            ],
            [
             1,
             "#f0f921"
            ]
           ],
           "sequentialminus": [
            [
             0,
             "#0d0887"
            ],
            [
             0.1111111111111111,
             "#46039f"
            ],
            [
             0.2222222222222222,
             "#7201a8"
            ],
            [
             0.3333333333333333,
             "#9c179e"
            ],
            [
             0.4444444444444444,
             "#bd3786"
            ],
            [
             0.5555555555555556,
             "#d8576b"
            ],
            [
             0.6666666666666666,
             "#ed7953"
            ],
            [
             0.7777777777777778,
             "#fb9f3a"
            ],
            [
             0.8888888888888888,
             "#fdca26"
            ],
            [
             1,
             "#f0f921"
            ]
           ]
          },
          "colorway": [
           "#636efa",
           "#EF553B",
           "#00cc96",
           "#ab63fa",
           "#FFA15A",
           "#19d3f3",
           "#FF6692",
           "#B6E880",
           "#FF97FF",
           "#FECB52"
          ],
          "font": {
           "color": "#2a3f5f"
          },
          "geo": {
           "bgcolor": "white",
           "lakecolor": "white",
           "landcolor": "#E5ECF6",
           "showlakes": true,
           "showland": true,
           "subunitcolor": "white"
          },
          "hoverlabel": {
           "align": "left"
          },
          "hovermode": "closest",
          "mapbox": {
           "style": "light"
          },
          "paper_bgcolor": "white",
          "plot_bgcolor": "#E5ECF6",
          "polar": {
           "angularaxis": {
            "gridcolor": "white",
            "linecolor": "white",
            "ticks": ""
           },
           "bgcolor": "#E5ECF6",
           "radialaxis": {
            "gridcolor": "white",
            "linecolor": "white",
            "ticks": ""
           }
          },
          "scene": {
           "xaxis": {
            "backgroundcolor": "#E5ECF6",
            "gridcolor": "white",
            "gridwidth": 2,
            "linecolor": "white",
            "showbackground": true,
            "ticks": "",
            "zerolinecolor": "white"
           },
           "yaxis": {
            "backgroundcolor": "#E5ECF6",
            "gridcolor": "white",
            "gridwidth": 2,
            "linecolor": "white",
            "showbackground": true,
            "ticks": "",
            "zerolinecolor": "white"
           },
           "zaxis": {
            "backgroundcolor": "#E5ECF6",
            "gridcolor": "white",
            "gridwidth": 2,
            "linecolor": "white",
            "showbackground": true,
            "ticks": "",
            "zerolinecolor": "white"
           }
          },
          "shapedefaults": {
           "line": {
            "color": "#2a3f5f"
           }
          },
          "ternary": {
           "aaxis": {
            "gridcolor": "white",
            "linecolor": "white",
            "ticks": ""
           },
           "baxis": {
            "gridcolor": "white",
            "linecolor": "white",
            "ticks": ""
           },
           "bgcolor": "#E5ECF6",
           "caxis": {
            "gridcolor": "white",
            "linecolor": "white",
            "ticks": ""
           }
          },
          "title": {
           "x": 0.05
          },
          "xaxis": {
           "automargin": true,
           "gridcolor": "white",
           "linecolor": "white",
           "ticks": "",
           "title": {
            "standoff": 15
           },
           "zerolinecolor": "white",
           "zerolinewidth": 2
          },
          "yaxis": {
           "automargin": true,
           "gridcolor": "white",
           "linecolor": "white",
           "ticks": "",
           "title": {
            "standoff": 15
           },
           "zerolinecolor": "white",
           "zerolinewidth": 2
          }
         }
        },
        "title": {
         "text": "Contagem de Credit Score por Gênero"
        },
        "xaxis": {
         "anchor": "y",
         "domain": [
          0,
          1
         ],
         "title": {
          "text": "Gênero"
         }
        },
        "yaxis": {
         "anchor": "x",
         "domain": [
          0,
          1
         ],
         "showticklabels": false,
         "title": {}
        }
       }
      },
      "image/png": "[encoded data removed]"
     },
     "metadata": {},
     "output_type": "display_data"
    },
    {
     "name": "stdout",
     "output_type": "stream",
     "text": [
      "Tabela de Contagem: Estado Civil vs. Credit Score\n",
      "Credit Score    Average  High  Low  All\n",
      "Marital Status                         \n",
      "Married               2    85    0   87\n",
      "Single               34    28   15   77\n",
      "All                  36   113   15  164\n",
      "----------------------------------------------------------------------\n",
      "\n",
      "Tabela de Percentual (Por Estado Civil):\n",
      "Credit Score    Average   High    Low\n",
      "Marital Status                       \n",
      "Married            2.30  97.70   0.00\n",
      "Single            44.16  36.36  19.48\n"
     ]
    },
    {
     "data": {
      "application/vnd.plotly.v1+json": {
       "config": {
        "plotlyServerURL": "https://plot.ly"
       },
       "data": [
        {
         "alignmentgroup": "True",
         "bingroup": "x",
         "hovertemplate": "Credit Score=High<br>Estado Civil=%{x}<br>count=%{y}<extra></extra>",
         "legendgroup": "High",
         "marker": {
          "color": "#636efa",
          "pattern": {
           "shape": ""
          }
         },
         "name": "High",
         "offsetgroup": "High",
         "orientation": "v",
         "showlegend": true,
         "type": "histogram",
         "x": [
          "Single",
          "Married",
          "Married",
          "Single",
          "Married",
          "Married",
          "Married",
          "Single",
          "Married",
          "Married",
          "Married",
          "Single",
          "Married",
          "Married",
          "Married",
          "Single",
          "Married",
          "Married",
          "Married",
          "Single",
          "Married",
          "Married",
          "Married",
          "Single",
          "Married",
          "Married",
          "Married",
          "Single",
          "Married",
          "Married",
          "Married",
          "Single",
          "Married",
          "Married",
          "Married",
          "Single",
          "Married",
          "Married",
          "Married",
          "Single",
          "Married",
          "Married",
          "Married",
          "Married",
          "Married",
          "Single",
          "Married",
          "Married",
          "Married",
          "Single",
          "Married",
          "Married",
          "Married",
          "Single",
          "Married",
          "Married",
          "Married",
          "Single",
          "Married",
          "Married",
          "Married",
          "Single",
          "Married",
          "Married",
          "Married",
          "Married",
          "Married",
          "Single",
          "Married",
          "Married",
          "Married",
          "Single",
          "Married",
          "Married",
          "Married",
          "Single",
          "Married",
          "Married",
          "Married",
          "Single",
          "Married",
          "Married",
          "Married",
          "Single",
          "Married",
          "Married",
          "Married",
          "Married",
          "Married",
          "Married",
          "Single",
          "Single",
          "Married",
          "Married",
          "Married",
          "Single",
          "Married",
          "Married",
          "Married",
          "Single",
          "Married",
          "Married",
          "Married",
          "Single",
          "Married",
          "Married",
          "Married",
          "Single",
          "Married",
          "Married",
          "Married",
          "Single",
          "Married"
         ],
         "xaxis": "x",
         "yaxis": "y"
        },
        {
         "alignmentgroup": "True",
         "bingroup": "x",
         "hovertemplate": "Credit Score=Average<br>Estado Civil=%{x}<br>count=%{y}<extra></extra>",
         "legendgroup": "Average",
         "marker": {
          "color": "#EF553B",
          "pattern": {
           "shape": ""
          }
         },
         "name": "Average",
         "offsetgroup": "Average",
         "orientation": "v",
         "showlegend": true,
         "type": "histogram",
         "x": [
          "Single",
          "Single",
          "Single",
          "Single",
          "Single",
          "Single",
          "Single",
          "Single",
          "Single",
          "Single",
          "Single",
          "Single",
          "Single",
          "Single",
          "Single",
          "Single",
          "Single",
          "Single",
          "Single",
          "Single",
          "Single",
          "Single",
          "Single",
          "Single",
          "Single",
          "Single",
          "Single",
          "Single",
          "Married",
          "Married",
          "Single",
          "Single",
          "Single",
          "Single",
          "Single",
          "Single"
         ],
         "xaxis": "x",
         "yaxis": "y"
        },
        {
         "alignmentgroup": "True",
         "bingroup": "x",
         "hovertemplate": "Credit Score=Low<br>Estado Civil=%{x}<br>count=%{y}<extra></extra>",
         "legendgroup": "Low",
         "marker": {
          "color": "#00cc96",
          "pattern": {
           "shape": ""
          }
         },
         "name": "Low",
         "offsetgroup": "Low",
         "orientation": "v",
         "showlegend": true,
         "type": "histogram",
         "x": [
          "Single",
          "Single",
          "Single",
          "Single",
          "Single",
          "Single",
          "Single",
          "Single",
          "Single",
          "Single",
          "Single",
          "Single",
          "Single",
          "Single",
          "Single"
         ],
         "xaxis": "x",
         "yaxis": "y"
        }
       ],
       "layout": {
        "barmode": "group",
        "height": 500,
        "legend": {
         "title": {
          "text": "Credit Score"
         },
         "tracegroupgap": 0
        },
        "template": {
         "data": {
          "bar": [
           {
            "error_x": {
             "color": "#2a3f5f"
            },
            "error_y": {
             "color": "#2a3f5f"
            },
            "marker": {
             "line": {
              "color": "#E5ECF6",
              "width": 0.5
             },
             "pattern": {
              "fillmode": "overlay",
              "size": 10,
              "solidity": 0.2
             }
            },
            "type": "bar"
           }
          ],
          "barpolar": [
           {
            "marker": {
             "line": {
              "color": "#E5ECF6",
              "width": 0.5
             },
             "pattern": {
              "fillmode": "overlay",
              "size": 10,
              "solidity": 0.2
             }
            },
            "type": "barpolar"
           }
          ],
          "carpet": [
           {
            "aaxis": {
             "endlinecolor": "#2a3f5f",
             "gridcolor": "white",
             "linecolor": "white",
             "minorgridcolor": "white",
             "startlinecolor": "#2a3f5f"
            },
            "baxis": {
             "endlinecolor": "#2a3f5f",
             "gridcolor": "white",
             "linecolor": "white",
             "minorgridcolor": "white",
             "startlinecolor": "#2a3f5f"
            },
            "type": "carpet"
           }
          ],
          "choropleth": [
           {
            "colorbar": {
             "outlinewidth": 0,
             "ticks": ""
            },
            "type": "choropleth"
           }
          ],
          "contour": [
           {
            "colorbar": {
             "outlinewidth": 0,
             "ticks": ""
            },
            "colorscale": [
             [
              0,
              "#0d0887"
             ],
             [
              0.1111111111111111,
              "#46039f"
             ],
             [
              0.2222222222222222,
              "#7201a8"
             ],
             [
              0.3333333333333333,
              "#9c179e"
             ],
             [
              0.4444444444444444,
              "#bd3786"
             ],
             [
              0.5555555555555556,
              "#d8576b"
             ],
             [
              0.6666666666666666,
              "#ed7953"
             ],
             [
              0.7777777777777778,
              "#fb9f3a"
             ],
             [
              0.8888888888888888,
              "#fdca26"
             ],
             [
              1,
              "#f0f921"
             ]
            ],
            "type": "contour"
           }
          ],
          "contourcarpet": [
           {
            "colorbar": {
             "outlinewidth": 0,
             "ticks": ""
            },
            "type": "contourcarpet"
           }
          ],
          "heatmap": [
           {
            "colorbar": {
             "outlinewidth": 0,
             "ticks": ""
            },
            "colorscale": [
             [
              0,
              "#0d0887"
             ],
             [
              0.1111111111111111,
              "#46039f"
             ],
             [
              0.2222222222222222,
              "#7201a8"
             ],
             [
              0.3333333333333333,
              "#9c179e"
             ],
             [
              0.4444444444444444,
              "#bd3786"
             ],
             [
              0.5555555555555556,
              "#d8576b"
             ],
             [
              0.6666666666666666,
              "#ed7953"
             ],
             [
              0.7777777777777778,
              "#fb9f3a"
             ],
             [
              0.8888888888888888,
              "#fdca26"
             ],
             [
              1,
              "#f0f921"
             ]
            ],
            "type": "heatmap"
           }
          ],
          "histogram": [
           {
            "marker": {
             "pattern": {
              "fillmode": "overlay",
              "size": 10,
              "solidity": 0.2
             }
            },
            "type": "histogram"
           }
          ],
          "histogram2d": [
           {
            "colorbar": {
             "outlinewidth": 0,
             "ticks": ""
            },
            "colorscale": [
             [
              0,
              "#0d0887"
             ],
             [
              0.1111111111111111,
              "#46039f"
             ],
             [
              0.2222222222222222,
              "#7201a8"
             ],
             [
              0.3333333333333333,
              "#9c179e"
             ],
             [
              0.4444444444444444,
              "#bd3786"
             ],
             [
              0.5555555555555556,
              "#d8576b"
             ],
             [
              0.6666666666666666,
              "#ed7953"
             ],
             [
              0.7777777777777778,
              "#fb9f3a"
             ],
             [
              0.8888888888888888,
              "#fdca26"
             ],
             [
              1,
              "#f0f921"
             ]
            ],
            "type": "histogram2d"
           }
          ],
          "histogram2dcontour": [
           {
            "colorbar": {
             "outlinewidth": 0,
             "ticks": ""
            },
            "colorscale": [
             [
              0,
              "#0d0887"
             ],
             [
              0.1111111111111111,
              "#46039f"
             ],
             [
              0.2222222222222222,
              "#7201a8"
             ],
             [
              0.3333333333333333,
              "#9c179e"
             ],
             [
              0.4444444444444444,
              "#bd3786"
             ],
             [
              0.5555555555555556,
              "#d8576b"
             ],
             [
              0.6666666666666666,
              "#ed7953"
             ],
             [
              0.7777777777777778,
              "#fb9f3a"
             ],
             [
              0.8888888888888888,
              "#fdca26"
             ],
             [
              1,
              "#f0f921"
             ]
            ],
            "type": "histogram2dcontour"
           }
          ],
          "mesh3d": [
           {
            "colorbar": {
             "outlinewidth": 0,
             "ticks": ""
            },
            "type": "mesh3d"
           }
          ],
          "parcoords": [
           {
            "line": {
             "colorbar": {
              "outlinewidth": 0,
              "ticks": ""
             }
            },
            "type": "parcoords"
           }
          ],
          "pie": [
           {
            "automargin": true,
            "type": "pie"
           }
          ],
          "scatter": [
           {
            "fillpattern": {
             "fillmode": "overlay",
             "size": 10,
             "solidity": 0.2
            },
            "type": "scatter"
           }
          ],
          "scatter3d": [
           {
            "line": {
             "colorbar": {
              "outlinewidth": 0,
              "ticks": ""
             }
            },
            "marker": {
             "colorbar": {
              "outlinewidth": 0,
              "ticks": ""
             }
            },
            "type": "scatter3d"
           }
          ],
          "scattercarpet": [
           {
            "marker": {
             "colorbar": {
              "outlinewidth": 0,
              "ticks": ""
             }
            },
            "type": "scattercarpet"
           }
          ],
          "scattergeo": [
           {
            "marker": {
             "colorbar": {
              "outlinewidth": 0,
              "ticks": ""
             }
            },
            "type": "scattergeo"
           }
          ],
          "scattergl": [
           {
            "marker": {
             "colorbar": {
              "outlinewidth": 0,
              "ticks": ""
             }
            },
            "type": "scattergl"
           }
          ],
          "scattermap": [
           {
            "marker": {
             "colorbar": {
              "outlinewidth": 0,
              "ticks": ""
             }
            },
            "type": "scattermap"
           }
          ],
          "scattermapbox": [
           {
            "marker": {
             "colorbar": {
              "outlinewidth": 0,
              "ticks": ""
             }
            },
            "type": "scattermapbox"
           }
          ],
          "scatterpolar": [
           {
            "marker": {
             "colorbar": {
              "outlinewidth": 0,
              "ticks": ""
             }
            },
            "type": "scatterpolar"
           }
          ],
          "scatterpolargl": [
           {
            "marker": {
             "colorbar": {
              "outlinewidth": 0,
              "ticks": ""
             }
            },
            "type": "scatterpolargl"
           }
          ],
          "scatterternary": [
           {
            "marker": {
             "colorbar": {
              "outlinewidth": 0,
              "ticks": ""
             }
            },
            "type": "scatterternary"
           }
          ],
          "surface": [
           {
            "colorbar": {
             "outlinewidth": 0,
             "ticks": ""
            },
            "colorscale": [
             [
              0,
              "#0d0887"
             ],
             [
              0.1111111111111111,
              "#46039f"
             ],
             [
              0.2222222222222222,
              "#7201a8"
             ],
             [
              0.3333333333333333,
              "#9c179e"
             ],
             [
              0.4444444444444444,
              "#bd3786"
             ],
             [
              0.5555555555555556,
              "#d8576b"
             ],
             [
              0.6666666666666666,
              "#ed7953"
             ],
             [
              0.7777777777777778,
              "#fb9f3a"
             ],
             [
              0.8888888888888888,
              "#fdca26"
             ],
             [
              1,
              "#f0f921"
             ]
            ],
            "type": "surface"
           }
          ],
          "table": [
           {
            "cells": {
             "fill": {
              "color": "#EBF0F8"
             },
             "line": {
              "color": "white"
             }
            },
            "header": {
             "fill": {
              "color": "#C8D4E3"
             },
             "line": {
              "color": "white"
             }
            },
            "type": "table"
           }
          ]
         },
         "layout": {
          "annotationdefaults": {
           "arrowcolor": "#2a3f5f",
           "arrowhead": 0,
           "arrowwidth": 1
          },
          "autotypenumbers": "strict",
          "coloraxis": {
           "colorbar": {
            "outlinewidth": 0,
            "ticks": ""
           }
          },
          "colorscale": {
           "diverging": [
            [
             0,
             "#8e0152"
            ],
            [
             0.1,
             "#c51b7d"
            ],
            [
             0.2,
             "#de77ae"
            ],
            [
             0.3,
             "#f1b6da"
            ],
            [
             0.4,
             "#fde0ef"
            ],
            [
             0.5,
             "#f7f7f7"
            ],
            [
             0.6,
             "#e6f5d0"
            ],
            [
             0.7,
             "#b8e186"
            ],
            [
             0.8,
             "#7fbc41"
            ],
            [
             0.9,
             "#4d9221"
            ],
            [
             1,
             "#276419"
            ]
           ],
           "sequential": [
            [
             0,
             "#0d0887"
            ],
            [
             0.1111111111111111,
             "#46039f"
            ],
            [
             0.2222222222222222,
             "#7201a8"
            ],
            [
             0.3333333333333333,
             "#9c179e"
            ],
            [
             0.4444444444444444,
             "#bd3786"
            ],
            [
             0.5555555555555556,
             "#d8576b"
            ],
            [
             0.6666666666666666,
             "#ed7953"
            ],
            [
             0.7777777777777778,
             "#fb9f3a"
            ],
            [
             0.8888888888888888,
             "#fdca26"
            ],
            [
             1,
             "#f0f921"
            ]
           ],
           "sequentialminus": [
            [
             0,
             "#0d0887"
            ],
            [
             0.1111111111111111,
             "#46039f"
            ],
            [
             0.2222222222222222,
             "#7201a8"
            ],
            [
             0.3333333333333333,
             "#9c179e"
            ],
            [
             0.4444444444444444,
             "#bd3786"
            ],
            [
             0.5555555555555556,
             "#d8576b"
            ],
            [
             0.6666666666666666,
             "#ed7953"
            ],
            [
             0.7777777777777778,
             "#fb9f3a"
            ],
            [
             0.8888888888888888,
             "#fdca26"
            ],
            [
             1,
             "#f0f921"
            ]
           ]
          },
          "colorway": [
           "#636efa",
           "#EF553B",
           "#00cc96",
           "#ab63fa",
           "#FFA15A",
           "#19d3f3",
           "#FF6692",
           "#B6E880",
           "#FF97FF",
           "#FECB52"
          ],
          "font": {
           "color": "#2a3f5f"
          },
          "geo": {
           "bgcolor": "white",
           "lakecolor": "white",
           "landcolor": "#E5ECF6",
           "showlakes": true,
           "showland": true,
           "subunitcolor": "white"
          },
          "hoverlabel": {
           "align": "left"
          },
          "hovermode": "closest",
          "mapbox": {
           "style": "light"
          },
          "paper_bgcolor": "white",
          "plot_bgcolor": "#E5ECF6",
          "polar": {
           "angularaxis": {
            "gridcolor": "white",
            "linecolor": "white",
            "ticks": ""
           },
           "bgcolor": "#E5ECF6",
           "radialaxis": {
            "gridcolor": "white",
            "linecolor": "white",
            "ticks": ""
           }
          },
          "scene": {
           "xaxis": {
            "backgroundcolor": "#E5ECF6",
            "gridcolor": "white",
            "gridwidth": 2,
            "linecolor": "white",
            "showbackground": true,
            "ticks": "",
            "zerolinecolor": "white"
           },
           "yaxis": {
            "backgroundcolor": "#E5ECF6",
            "gridcolor": "white",
            "gridwidth": 2,
            "linecolor": "white",
            "showbackground": true,
            "ticks": "",
            "zerolinecolor": "white"
           },
           "zaxis": {
            "backgroundcolor": "#E5ECF6",
            "gridcolor": "white",
            "gridwidth": 2,
            "linecolor": "white",
            "showbackground": true,
            "ticks": "",
            "zerolinecolor": "white"
           }
          },
          "shapedefaults": {
           "line": {
            "color": "#2a3f5f"
           }
          },
          "ternary": {
           "aaxis": {
            "gridcolor": "white",
            "linecolor": "white",
            "ticks": ""
           },
           "baxis": {
            "gridcolor": "white",
            "linecolor": "white",
            "ticks": ""
           },
           "bgcolor": "#E5ECF6",
           "caxis": {
            "gridcolor": "white",
            "linecolor": "white",
            "ticks": ""
           }
          },
          "title": {
           "x": 0.05
          },
          "xaxis": {
           "automargin": true,
           "gridcolor": "white",
           "linecolor": "white",
           "ticks": "",
           "title": {
            "standoff": 15
           },
           "zerolinecolor": "white",
           "zerolinewidth": 2
          },
          "yaxis": {
           "automargin": true,
           "gridcolor": "white",
           "linecolor": "white",
           "ticks": "",
           "title": {
            "standoff": 15
           },
           "zerolinecolor": "white",
           "zerolinewidth": 2
          }
         }
        },
        "title": {
         "text": "Contagem de Credit Score por Estado Civil"
        },
        "xaxis": {
         "anchor": "y",
         "domain": [
          0,
          1
         ],
         "title": {
          "text": "Estado Civil"
         }
        },
        "yaxis": {
         "anchor": "x",
         "domain": [
          0,
          1
         ],
         "showticklabels": false,
         "title": {}
        }
       }
      },
      "image/png": "[encoded data removed]"
     },
     "metadata": {},
     "output_type": "display_data"
    }
   ],
   "source": [
    "# ANALISE ADICIONAL\n",
    "\n",
    "# NUMBER OF CHILDREN VS CREDIT SCORE\n",
    "\n",
    "column_children = 'Number of Children'\n",
    "column_credit_score = 'Credit Score'\n",
    "\n",
    "# tabela cruzada de contagem\n",
    "tabela_agrupada_filhos = pd.crosstab(\n",
    "    df[column_children],\n",
    "    df[column_credit_score],\n",
    "    margins=True,\n",
    "    normalize=False\n",
    ")\n",
    "\n",
    "print(\"Tabela de Contagem: Número de Filhos vs. Credit Score\")\n",
    "print(tabela_agrupada_filhos)\n",
    "print(\"-\" * 70)\n",
    "\n",
    "# tabela percentual por linha\n",
    "tabela_percentual_filhos = pd.crosstab(\n",
    "    df[column_children],\n",
    "    df[column_credit_score],\n",
    "    normalize='index'\n",
    ").mul(100).round(2)\n",
    "\n",
    "print(\"\\nTabela de Percentual (Por Número de Filhos):\")\n",
    "print(tabela_percentual_filhos)\n",
    "\n",
    "# histograma agrupado\n",
    "fig_filhos = px.histogram(\n",
    "    df,\n",
    "    x=column_children,\n",
    "    color=column_credit_score,\n",
    "    barmode='group',\n",
    "    title='Contagem de Credit Score por Número de Filhos',\n",
    "    labels={\n",
    "        column_children: 'Número de Filhos',\n",
    "        column_credit_score: 'Credit Score',\n",
    "        'count': 'Frequência de Clientes'\n",
    "    },\n",
    "    category_orders={column_children: sorted(df[column_children].unique())}\n",
    ")\n",
    "\n",
    "fig_filhos.update_layout(yaxis_title=None)\n",
    "fig_filhos.update_yaxes(showticklabels=False)\n",
    "fig_filhos.show()\n",
    "\n",
    "\n",
    "# GENDER VS CREDIT SCORE\n",
    "\n",
    "column_gender = 'Gender'\n",
    "\n",
    "# tabela cruzada de contagem\n",
    "tabela_agrupada_genero = pd.crosstab(\n",
    "    df[column_gender],\n",
    "    df[column_credit_score],\n",
    "    margins=True,\n",
    "    normalize=False\n",
    ")\n",
    "\n",
    "print(\"Tabela de Contagem: Gênero vs. Credit Score\")\n",
    "print(tabela_agrupada_genero)\n",
    "print(\"-\" * 70)\n",
    "\n",
    "# tabela percentual por linha\n",
    "tabela_percentual_genero = pd.crosstab(\n",
    "    df[column_gender],\n",
    "    df[column_credit_score],\n",
    "    normalize='index'\n",
    ").mul(100).round(2)\n",
    "\n",
    "print(\"\\nTabela de Percentual (Por Gênero):\")\n",
    "print(tabela_percentual_genero)\n",
    "\n",
    "# histograma agrupado\n",
    "fig_genero = px.histogram(\n",
    "    df,\n",
    "    x=column_gender,\n",
    "    color=column_credit_score,\n",
    "    barmode='group',\n",
    "    title='Contagem de Credit Score por Gênero',\n",
    "    labels={\n",
    "        column_gender: 'Gênero',\n",
    "        column_credit_score: 'Credit Score',\n",
    "        'count': 'Frequência de Clientes'\n",
    "    },\n",
    "    height=500\n",
    ")\n",
    "\n",
    "fig_genero.update_layout(yaxis_title=None)\n",
    "fig_genero.update_yaxes(showticklabels=False)\n",
    "fig_genero.show()\n",
    "\n",
    "\n",
    "\n",
    "# MARITAL STATUS VS CREDIT SCORE\n",
    "\n",
    "column_marital_status = 'Marital Status'\n",
    "\n",
    "# tabela cruzada de contagem\n",
    "tabela_agrupada_marital = pd.crosstab(\n",
    "    df[column_marital_status],\n",
    "    df[column_credit_score],\n",
    "    margins=True,\n",
    "    normalize=False\n",
    ")\n",
    "\n",
    "print(\"Tabela de Contagem: Estado Civil vs. Credit Score\")\n",
    "print(tabela_agrupada_marital)\n",
    "print(\"-\" * 70)\n",
    "\n",
    "# tabela percentual por linha\n",
    "tabela_percentual_marital = pd.crosstab(\n",
    "    df[column_marital_status],\n",
    "    df[column_credit_score],\n",
    "    normalize='index'\n",
    ").mul(100).round(2)\n",
    "\n",
    "print(\"\\nTabela de Percentual (Por Estado Civil):\")\n",
    "print(tabela_percentual_marital)\n",
    "\n",
    "# histograma agrupado\n",
    "fig_marital = px.histogram(\n",
    "    df,\n",
    "    x=column_marital_status,\n",
    "    color=column_credit_score,\n",
    "    barmode='group',\n",
    "    title='Contagem de Credit Score por Estado Civil',\n",
    "    labels={\n",
    "        column_marital_status: 'Estado Civil',\n",
    "        column_credit_score: 'Credit Score',\n",
    "        'count': 'Frequência de Clientes'\n",
    "    },\n",
    "    height=500\n",
    ")\n",
    "\n",
    "# fig_marital.update_xaxes(categoryorder='array', categoryarray=['Married', 'Single', 'Divorced', 'Widowed'])\n",
    "\n",
    "fig_marital.update_layout(yaxis_title=None)\n",
    "fig_marital.update_yaxes(showticklabels=False)\n",
    "fig_marital.show()"
   ]
  },
  {
   "cell_type": "code",
   "execution_count": 103,
   "metadata": {
    "scrolled": true
   },
   "outputs": [
    {
     "data": {
      "text/plain": [
       "Age                   float64\n",
       "Gender                 object\n",
       "Income                float64\n",
       "Education              object\n",
       "Marital Status         object\n",
       "Number of Children      int64\n",
       "Home Ownership         object\n",
       "Credit Score           object\n",
       "Age_Normalized        float64\n",
       "Income_Normalized     float64\n",
       "dtype: object"
      ]
     },
     "execution_count": 103,
     "metadata": {},
     "output_type": "execute_result"
    }
   ],
   "source": [
    "df.dtypes"
   ]
  },
  {
   "cell_type": "markdown",
   "metadata": {
    "id": "AfM22KGzS6kx"
   },
   "source": [
    "# Etapa 3: Relize os passos que vimos no módulo 17, de Correlação, Balanceamento, atributos categóricos e divisão base treino e teste.\n",
    "\n",
    "**A) Vamos começar pela análise de correlação, plote da forma que achar melhor a análise de correlação, seja pela tabela ou pelo gráfico da matriz.**\n",
    "\n",
    "**B) Você encontrou variáveis que tem uma média ou alta correlação? Se sim, quais? Te parece fazer sentido essas variáveis terem alta correlação? Justifique.**\n",
    "\n",
    "sua justificativa aqui\n",
    "\n",
    "Exemplo de Justificativa (baseada na correlação típica de datasets financeiros):\n",
    "\n",
    "'Age' e 'Income' (Renda) tiverem correlação Média/Alta > 0.4:\n",
    "Variáveis: Income e Age\n",
    "Correlação: 0.69)\n",
    "\n",
    "* Justificativa: SIM, faz todo sentido. O aumento da idade (Age) está intrinsecamente ligado à progressão de carreira, o que naturalmente leva a um aumento na renda (Income). Essa correlação positiva é esperada em dados financeiros. A correlação de Pearson de aproximadamente 0.52 indica que, embora haja uma tendência forte, outros fatores (como escolaridade e tipo de emprego) também influenciam a renda, o que impede uma correlação perfeita (1.0)."
   ]
  },
  {
   "cell_type": "markdown",
   "metadata": {
    "id": "8DVxZaoHT5s1"
   },
   "source": [
    "**C) Temos muitos atributos categóricos nessa base, não? Vamos realizar a o tratamento desses atributos utilizando Label Encoder ou one hot. Após, exclua as colunas categóricas.**"
   ]
  },
  {
   "cell_type": "markdown",
   "metadata": {
    "id": "55mMET6EU2c7"
   },
   "source": [
    "**D) Vamos plotar novamente a correlação, agora observando com as variáveis categóricas. Identifique se temos novas variáveis com forte correlação.**"
   ]
  },
  {
   "cell_type": "code",
   "execution_count": 118,
   "metadata": {
    "id": "HuwjREwRTkSr"
   },
   "outputs": [
    {
     "data": {
      "image/png": "[encoded data removed]",
      "text/plain": [
       "<Figure size 800x600 with 2 Axes>"
      ]
     },
     "metadata": {},
     "output_type": "display_data"
    },
    {
     "name": "stdout",
     "output_type": "stream",
     "text": [
      "Gráfico Matriz de Correlação Completa salvo em: C:\\Users\\ferna\\Projeto_01-Credit_score\\img\\15_Heatmap_Correlacao_Inicial.png\n",
      "Matriz de Correlação:\n",
      "                          Age    Income  Number of Children\n",
      "Age                 1.000000  0.689993            0.128479\n",
      "Income              0.689993  1.000000            0.084547\n",
      "Number of Children  0.128479  0.084547            1.000000\n"
     ]
    },
    {
     "data": {
      "text/plain": [
       "<Figure size 640x480 with 0 Axes>"
      ]
     },
     "metadata": {},
     "output_type": "display_data"
    }
   ],
   "source": [
    "# CORRELAÇÃO DE PEARSON\n",
    "# ----------------------------------------------------------------------\n",
    "OUTPUT_DIR = r\"C:\\Users\\ferna\\Projeto_01-Credit_score\\img\"\n",
    "os.makedirs(OUTPUT_DIR, exist_ok=True)\n",
    "# Padronização: 'coolwarm' é ideal para correlação (positivo/vermelho, negativo/azul, zero/branco)\n",
    "\n",
    "# Definição das colunas numéricas\n",
    "numerical_cols = ['Age', 'Income', 'Number of Children'] \n",
    "\n",
    "# Garanta que todas as colunas sejam numéricas (necessário antes do corr())\n",
    "# O erro='coerce' é uma forma de tratar valores não numéricos transformando-os em NaN.\n",
    "for col in numerical_cols:\n",
    "    df[col] = pd.to_numeric(df[col], errors='coerce')\n",
    "\n",
    "# Calcular a Matriz de Correlação\n",
    "correlation_matrix = df[numerical_cols].corr()\n",
    "\n",
    "# Plotar o Heatmap\n",
    "plt.figure(figsize=(8, 6))\n",
    "sns.heatmap(\n",
    "    correlation_matrix,\n",
    "    annot=True,              # Mostrar os valores de correlação\n",
    "    cmap='coolwarm',         # Paleta de cores para correlação (padronizada)\n",
    "    fmt=\".2f\",               # Formato com duas casas decimais\n",
    "    linewidths=.5,           # Espaço entre as células\n",
    "    linecolor='white'        # Linha branca para maior clareza e profissionalismo\n",
    ")\n",
    "plt.title('Matriz de Correlação (Variáveis Numéricas Originais)', fontsize=14)\n",
    "plt.show()\n",
    "\n",
    "OUTPUT_DIR = r\"C:\\Users\\ferna\\Projeto_01-Credit_score\\img\"\n",
    "os.makedirs(OUTPUT_DIR, exist_ok=True)\n",
    "\n",
    "file_name = \"15_Heatmap_Correlacao_Inicial.png\"\n",
    "save_path = os.path.join(OUTPUT_DIR, file_name)\n",
    "\n",
    "plt.savefig(save_path, bbox_inches='tight', dpi=300) \n",
    "print(f\"Gráfico Matriz de Correlação Completa salvo em: {save_path}\")\n",
    "\n",
    "print(\"Matriz de Correlação:\\n\", correlation_matrix)"
   ]
  },
  {
   "cell_type": "code",
   "execution_count": 110,
   "metadata": {},
   "outputs": [
    {
     "name": "stdout",
     "output_type": "stream",
     "text": [
      "\n",
      "Verificação das 5 Primeiras Colunas do df_model (DEVE SER SÓ NÚMEROS):\n",
      "    Age    Income  Number of Children  Age_Normalized  Income_Normalized  \\\n",
      "0  25.0   50000.0                   0        0.000000           0.181818   \n",
      "1  30.0  100000.0                   2        0.178571           0.545455   \n",
      "2  35.0   75000.0                   1        0.357143           0.363636   \n",
      "3  40.0  125000.0                   0        0.535714           0.727273   \n",
      "4  45.0  100000.0                   3        0.714286           0.545455   \n",
      "\n",
      "   Education_Encoded  Gender_Male  Home Ownership_Rented  \\\n",
      "0                  2        False                   True   \n",
      "1                  3         True                  False   \n",
      "2                  4        False                  False   \n",
      "3                  0         True                  False   \n",
      "4                  2        False                  False   \n",
      "\n",
      "   Marital Status_Single  Credit Score_Encoded  \n",
      "0                   True                     1  \n",
      "1                  False                     1  \n",
      "2                  False                     1  \n",
      "3                   True                     1  \n",
      "4                  False                     1  \n",
      "\n",
      "Shape do DataFrame após Codificação: (164, 10)\n"
     ]
    }
   ],
   "source": [
    "# CODIFICAÇÃO \n",
    "# ----------------------------------------------------------------------\n",
    "\n",
    "# mapeamento\n",
    "education_mapping = {\n",
    "     'High School Diploma': 0, \n",
    "     'Associates Degree': 1, \n",
    "     'Bachelors Degree': 2, \n",
    "     'Masters Degree': 3, \n",
    "     'Doctorate': 4\n",
    "}\n",
    "df['Education_Encoded'] = df['Education'].map(education_mapping)\n",
    "\n",
    "\n",
    "# 1. Colunas Categóricas Nominais para One-Hot\n",
    "categorical_cols = ['Gender', 'Home Ownership', 'Marital Status']\n",
    "\n",
    "# One-Hot Encoding \n",
    "df_encoded = pd.get_dummies(df, columns=categorical_cols, drop_first=True)\n",
    "\n",
    "# 2. Definindo todas as colunas a serem excluídas (as colunas de texto originais)\n",
    "cols_to_drop = categorical_cols + ['Education'] + ['Credit Score'] + ['Income_Bins'] \n",
    "\n",
    "# 3. Criar df_model, removendo todas as strings\n",
    "df_model = df_encoded.drop(columns=cols_to_drop, errors='ignore')\n",
    "\n",
    "# 4. Codificar a Variável Target no df_model (que agora só tem números, exceto pelo alvo)\n",
    "le = LabelEncoder()\n",
    "df_model['Credit Score_Encoded'] = le.fit_transform(df['Credit Score']) # Usamos df['Credit Score'] original para codificar\n",
    "target_col = 'Credit Score_Encoded'\n",
    "\n",
    "# 5. Verificação Final do DataFrame\n",
    "print(\"\\nVerificação das 5 Primeiras Colunas do df_model (DEVE SER SÓ NÚMEROS):\")\n",
    "print(df_model.head())\n",
    "print(\"\\nShape do DataFrame após Codificação:\", df_model.shape)"
   ]
  },
  {
   "cell_type": "code",
   "execution_count": 117,
   "metadata": {
    "id": "15Gu3YtHUOY8"
   },
   "outputs": [
    {
     "data": {
      "image/png": "[encoded data removed]",
      "text/plain": [
       "<Figure size 1600x1400 with 2 Axes>"
      ]
     },
     "metadata": {},
     "output_type": "display_data"
    },
    {
     "name": "stdout",
     "output_type": "stream",
     "text": [
      "Gráfico Matriz de Correlação Completa salvo em: C:\\Users\\ferna\\Projeto_01-Credit_score\\img\\14_Heatmap_Correlacao_Completa.png\n",
      "\n",
      "Correlação das Features com a Variável Target (Credit Score_Encoded):\n",
      "Age                      0.223581\n",
      "Age_Normalized           0.223581\n",
      "Number of Children       0.136517\n",
      "Income_Normalized        0.083698\n",
      "Income                   0.083698\n",
      "Education_Encoded       -0.002767\n",
      "Marital Status_Single   -0.205756\n",
      "Gender_Male             -0.247729\n",
      "Home Ownership_Rented   -0.293384\n",
      "Name: Credit Score_Encoded, dtype: float64\n"
     ]
    },
    {
     "data": {
      "text/plain": [
       "<Figure size 640x480 with 0 Axes>"
      ]
     },
     "metadata": {},
     "output_type": "display_data"
    }
   ],
   "source": [
    "# CORRELAÇÃO COM VARIÁVEIS CATEGORICAS\n",
    "\n",
    "target_col = 'Credit Score_Encoded'\n",
    "\n",
    "# 1. Selecionar todas as colunas numéricas (incluindo as dummies e Education_Encoded)\n",
    "# NOTA: O 'errors=ignore' é para o caso de a coluna 'Credit Score' de texto ter sido removida no drop\n",
    "all_numerical_cols = [col for col in df_model.columns if pd.api.types.is_numeric_dtype(df_model[col]) and col != 'Credit Score']\n",
    "\n",
    "# 2. Calcular a Matriz de Correlação (Método de Pearson)\n",
    "correlation_matrix_full = df_model[all_numerical_cols].corr()\n",
    "\n",
    "# 3. Plotar o Heatmap\n",
    "plt.figure(figsize=(16, 14)) # Aumentar o tamanho para acomodar todas as variáveis\n",
    "sns.heatmap(\n",
    "    correlation_matrix_full,\n",
    "    annot=False,  # Não exibir números para evitar sobrecarga visual\n",
    "    cmap='coolwarm',\n",
    "    fmt=\".2f\",\n",
    "    linewidths=.5,\n",
    "    linecolor='white'\n",
    ")\n",
    "plt.title('Matriz de Correlação Completa (Numéricas e Categóricas Codificadas)', fontsize=16)\n",
    "plt.show()\n",
    "\n",
    "# SALVAMENTO\n",
    "OUTPUT_DIR = r\"C:\\Users\\ferna\\Projeto_01-Credit_score\\img\"\n",
    "os.makedirs(OUTPUT_DIR, exist_ok=True)\n",
    "\n",
    "file_name = \"14_Heatmap_Correlacao_Completa.png\"\n",
    "save_path = os.path.join(OUTPUT_DIR, file_name)\n",
    "\n",
    "plt.savefig(save_path, bbox_inches='tight', dpi=300) \n",
    "print(f\"Gráfico Matriz de Correlação Completa salvo em: {save_path}\")\n",
    "\n",
    "# 4. Visualizar a Correlação com a Variável Target (Mais Importante)\n",
    "print(\"\\nCorrelação das Features com a Variável Target (Credit Score_Encoded):\")\n",
    "\n",
    "# Filtrar apenas a coluna da variável alvo e ordenar os valores\n",
    "target_correlation = correlation_matrix_full[target_col].sort_values(ascending=False)\n",
    "\n",
    "# Excluir a correlação de 1.0 consigo mesma e mostrar as Top 15\n",
    "print(target_correlation[target_correlation.index != target_col].head(15))"
   ]
  },
  {
   "cell_type": "markdown",
   "metadata": {
    "id": "HNri8kboVK-9"
   },
   "source": [
    "**F) Faça a separação da base em treino e teste e verifique utilizando shape:**"
   ]
  },
  {
   "cell_type": "markdown",
   "metadata": {
    "id": "_4IWYiBGWkU8"
   },
   "source": [
    "**H) Vamos realizar o balancecamento dos dados da coluna de credit score.**\n",
    "Se lembre que realizazmos apenas para a base de treino."
   ]
  },
  {
   "cell_type": "code",
   "execution_count": 112,
   "metadata": {
    "id": "BtgEiewTVjwC"
   },
   "outputs": [
    {
     "name": "stdout",
     "output_type": "stream",
     "text": [
      "Shape de X_train (Treino Features): (114, 9)\n",
      "Shape de X_test (Teste Features): (50, 9)\n",
      "Shape de y_train (Treino Target): (114,)\n",
      "Shape de y_test (Teste Target): (50,)\n",
      "Shape de X_train (Treino Features): (114, 9)\n",
      "------------------------------------------------------------\n"
     ]
    }
   ],
   "source": [
    "\n",
    "# Definindo a coluna problemática e a target\n",
    "target_encoded_col = 'Credit Score_Encoded'\n",
    "\n",
    "\n",
    "\n",
    "# PASSO 1: SEPARAÇÃO Treino/Teste (Com Remoção de Income_Bins)\n",
    "\n",
    "# 1. Definir X (features) e y (target)\n",
    "# Removemos a target codificada E a coluna Income_Bins\n",
    "X = df_model.drop(columns=[target_encoded_col], errors='ignore') \n",
    "y = df_model[target_encoded_col]\n",
    "\n",
    "# 2. Separar a base (70% treino, 30% teste)\n",
    "X_train, X_test, y_train, y_test = train_test_split(\n",
    "    X, \n",
    "    y, \n",
    "    test_size=0.3, \n",
    "    random_state=42, \n",
    "    stratify=y\n",
    ")\n",
    "\n",
    "print(f\"Shape de X_train (Treino Features): {X_train.shape}\")\n",
    "print(f\"Shape de X_test (Teste Features): {X_test.shape}\")\n",
    "print(f\"Shape de y_train (Treino Target): {y_train.shape}\")\n",
    "print(f\"Shape de y_test (Teste Target): {y_test.shape}\")\n",
    "\n",
    "print(f\"Shape de X_train (Treino Features): {X_train.shape}\")\n",
    "print(\"-\" * 60)\n",
    "\n"
   ]
  },
  {
   "cell_type": "markdown",
   "metadata": {
    "id": "mjzJ6j6oV-y1"
   },
   "source": [
    "**G) É hora de verificar se nossa coluna de Score de crédito está balanceada, verifique através de um gráfico e traga sua opinião acerca do balanceamento.**\n",
    "\n",
    "Comentário: \n",
    "Score de Crédito está visivelmente desbalanceado na base de treino.\n",
    "\n",
    "Dominância da Classe: A classe \"Average\" é a classe majoritária, dominando a distribuição com uma proporção que se aproxima de 70%.\n",
    "\n",
    "Classes Minoritárias: As classes \"Low\" (aproximadamente 20%) e \"High\" (aproximadamente 10%) são as minorias.\n",
    "\n",
    "Conclusão e Implicação: Essa forte desproporção levará o modelo a ser altamente enviesado em prever a classe \"Average\" e a ter um desempenho muito fraco (tendendo a ignorar) as classes \"Low\" e \"High\".\n",
    "\n",
    "É imprescidível que o balanceamento da base de treino seja realizado (utilizando técnicas como SMOTE ou Over/Under-sampling) para garantir que o modelo aprenda a diferenciar e prever corretamente todas as categorias de risco."
   ]
  },
  {
   "cell_type": "code",
   "execution_count": 116,
   "metadata": {
    "id": "lDNhhnvTWKNw"
   },
   "outputs": [
    {
     "name": "stdout",
     "output_type": "stream",
     "text": [
      "Gráfico combinado salvo em: C:\\Users\\ferna\\Projeto_01-Credit_score\\img\\12_13_Balanceamento_Target_Combinado.png\n"
     ]
    },
    {
     "data": {
      "image/png": "[encoded data removed]",
      "text/plain": [
       "<Figure size 1400x600 with 2 Axes>"
      ]
     },
     "metadata": {},
     "output_type": "display_data"
    },
    {
     "name": "stdout",
     "output_type": "stream",
     "text": [
      "\n",
      "Proporção das Classes na Base de Treino (Antes do SMOTE):\n",
      " Credit Score_Encoded\n",
      "0    21.929825\n",
      "1    69.298246\n",
      "2     8.771930\n",
      "Name: proportion, dtype: float64\n",
      "\n",
      "Distribuição das Classes Após o Balanceamento (Contagem):\n",
      " Counter({1: 79, 2: 79, 0: 79})\n"
     ]
    }
   ],
   "source": [
    "# VERIFICAÇÃO E BALANCEAMENTO\n",
    "\n",
    "CREDIT_SCORE_COLORS_LIST = ['#d62728', '#ff7f0e', '#1f77b4'] \n",
    "LABELS = ['Low', 'Average', 'High']\n",
    "\n",
    "# Dados ANTES do SMOTE\n",
    "class_counts_before = y_train.value_counts(normalize=True).mul(100).sort_index()\n",
    "\n",
    "# Dados DEPOIS do SMOTE\n",
    "class_counts_after = y_train_balanced.value_counts().sort_index()\n",
    "\n",
    "\n",
    "# 2. Plotagem em Subplots (1 Linha, 2 Colunas)\n",
    "fig, axes = plt.subplots(1, 2, figsize=(14, 6)) # 1 linha, 2 colunas\n",
    "plt.subplots_adjust(wspace=0.3) # Ajusta o espaço entre os gráficos\n",
    "\n",
    "# --- GRÁFICO 1: ANTES DO SMOTE (PROPORÇÃO %) ---\n",
    "class_counts_before.plot(\n",
    "    kind='bar',\n",
    "    ax=axes[0],\n",
    "    color=CREDIT_SCORE_COLORS_LIST\n",
    ")\n",
    "axes[0].set_title('Balanceamento da Target: ANTES do SMOTE (Proporção)', fontsize=14)\n",
    "axes[0].set_xlabel('Credit Score (Codificado)')\n",
    "axes[0].set_ylabel('Proporção (%)')\n",
    "axes[0].tick_params(axis='x', rotation=0)\n",
    "axes[0].set_xticks(ticks=[0, 1, 2], labels=LABELS)\n",
    "\n",
    "\n",
    "# --- GRÁFICO 2: DEPOIS DO SMOTE (CONTAGEM) ---\n",
    "class_counts_after.plot(\n",
    "    kind='bar',\n",
    "    ax=axes[1],\n",
    "    color=CREDIT_SCORE_COLORS_LIST\n",
    ")\n",
    "axes[1].set_title('Balanceamento da Target: APÓS o SMOTE (Contagem)', fontsize=14)\n",
    "axes[1].set_xlabel('Credit Score (Codificado)')\n",
    "axes[1].set_ylabel('Contagem de Clientes')\n",
    "axes[1].tick_params(axis='x', rotation=0)\n",
    "axes[1].set_xticks(ticks=[0, 1, 2], labels=LABELS)\n",
    "\n",
    "# SALVANDO A IMAGEM\n",
    "save_path_combined_balance = os.path.join(OUTPUT_DIR, \"12_13_Balanceamento_Target_Combinado.png\")\n",
    "plt.savefig(save_path_combined_balance, bbox_inches='tight')\n",
    "print(f\"Gráfico combinado salvo em: {save_path_combined_balance}\")\n",
    "\n",
    "plt.show()\n",
    "\n",
    "# ----------------------------------------------------------------------\n",
    "# Saídas no Console (Mantidas para referência)\n",
    "# ----------------------------------------------------------------------\n",
    "print(\"\\nProporção das Classes na Base de Treino (Antes do SMOTE):\\n\", class_counts_before)\n",
    "print(\"\\nDistribuição das Classes Após o Balanceamento (Contagem):\\n\", Counter(y_train_balanced))"
   ]
  },
  {
   "cell_type": "code",
   "execution_count": 115,
   "metadata": {},
   "outputs": [
    {
     "name": "stdout",
     "output_type": "stream",
     "text": [
      "Diretório de saída garantido: C:\\Users\\ferna\\Projeto_01-Credit_score\\img\n",
      "\n",
      "Iniciando salvamento dos gráficos Plotly...\n",
      "Salvo como PNG: C:\\Users\\ferna\\Projeto_01-Credit_score\\img\\1_Univar_Home_Ownership_Proportion.png\n",
      "Salvo como HTML: C:\\Users\\ferna\\Projeto_01-Credit_score\\img\\1_Univar_Home_Ownership_Proportion.html\n",
      "Salvo como PNG: C:\\Users\\ferna\\Projeto_01-Credit_score\\img\\2_Univar_Credit_Score_Distribution.png\n",
      "Salvo como HTML: C:\\Users\\ferna\\Projeto_01-Credit_score\\img\\2_Univar_Credit_Score_Distribution.html\n",
      "Salvo como PNG: C:\\Users\\ferna\\Projeto_01-Credit_score\\img\\3_Univar_Age_Density.png\n",
      "Salvo como HTML: C:\\Users\\ferna\\Projeto_01-Credit_score\\img\\3_Univar_Age_Density.html\n",
      "Salvo como PNG: C:\\Users\\ferna\\Projeto_01-Credit_score\\img\\4_Univar_Income_Density.png\n",
      "Salvo como HTML: C:\\Users\\ferna\\Projeto_01-Credit_score\\img\\4_Univar_Income_Density.html\n",
      "Salvo como PNG: C:\\Users\\ferna\\Projeto_01-Credit_score\\img\\5_Bivar_Age_vs_MaritalStatus.png\n",
      "Salvo como HTML: C:\\Users\\ferna\\Projeto_01-Credit_score\\img\\5_Bivar_Age_vs_MaritalStatus.html\n",
      "Salvo como PNG: C:\\Users\\ferna\\Projeto_01-Credit_score\\img\\6_Bivar_Education_vs_Score.png\n",
      "Salvo como HTML: C:\\Users\\ferna\\Projeto_01-Credit_score\\img\\6_Bivar_Education_vs_Score.html\n",
      "Salvo como PNG: C:\\Users\\ferna\\Projeto_01-Credit_score\\img\\7_Bivar_Age_vs_Income_Normalized.png\n",
      "Salvo como HTML: C:\\Users\\ferna\\Projeto_01-Credit_score\\img\\7_Bivar_Age_vs_Income_Normalized.html\n",
      "Salvo como PNG: C:\\Users\\ferna\\Projeto_01-Credit_score\\img\\8_Bivar_IncomeBins_vs_Score.png\n",
      "Salvo como HTML: C:\\Users\\ferna\\Projeto_01-Credit_score\\img\\8_Bivar_IncomeBins_vs_Score.html\n",
      "Salvo como PNG: C:\\Users\\ferna\\Projeto_01-Credit_score\\img\\9_Bivar_HomeOwnership_vs_Score.png\n",
      "Salvo como HTML: C:\\Users\\ferna\\Projeto_01-Credit_score\\img\\9_Bivar_HomeOwnership_vs_Score.html\n",
      "Salvo como PNG: C:\\Users\\ferna\\Projeto_01-Credit_score\\img\\10_Add_Children_vs_Score.png\n",
      "Salvo como HTML: C:\\Users\\ferna\\Projeto_01-Credit_score\\img\\10_Add_Children_vs_Score.html\n",
      "Salvo como PNG: C:\\Users\\ferna\\Projeto_01-Credit_score\\img\\11_Add_Gender_vs_Score.png\n",
      "Salvo como HTML: C:\\Users\\ferna\\Projeto_01-Credit_score\\img\\11_Add_Gender_vs_Score.html\n",
      "Salvo como PNG: C:\\Users\\ferna\\Projeto_01-Credit_score\\img\\12_Add_MaritalStatus_vs_Score.png\n",
      "Salvo como HTML: C:\\Users\\ferna\\Projeto_01-Credit_score\\img\\12_Add_MaritalStatus_vs_Score.html\n",
      "\n",
      "Processo de salvamento de todas as imagens Plotly concluído.\n"
     ]
    }
   ],
   "source": [
    "# SALVAMENTOS EM MASSA\n",
    "\n",
    "OUTPUT_DIR = r\"C:\\Users\\ferna\\Projeto_01-Credit_score\\img\"\n",
    "# Cria o diretório se ele não existir\n",
    "os.makedirs(OUTPUT_DIR, exist_ok=True)\n",
    "print(f\"Diretório de saída garantido: {OUTPUT_DIR}\")\n",
    "\n",
    "# ----------------------------------------------------------------------\n",
    "# 2. MAPEAMENTO DE TODAS AS FIGURAS\n",
    "# ----------------------------------------------------------------------\n",
    "\n",
    "# NOTE: Certifique-se de que todas estas variáveis de figura (fig_home, fig_score, etc.)\n",
    "# foram criadas e carregadas no seu ambiente antes de rodar este bloco.\n",
    "figures_to_save = {\n",
    "    # Univariada\n",
    "    \"1_Univar_Home_Ownership_Proportion\": fig_home,\n",
    "    \"2_Univar_Credit_Score_Distribution\": fig_score,\n",
    "    \"3_Univar_Age_Density\": fig_age,\n",
    "    \"4_Univar_Income_Density\": fig_density,\n",
    "    \n",
    "    # Bivariada/Central\n",
    "    \"5_Bivar_Age_vs_MaritalStatus\": fig_age_bi, # CORRIGIDO: fig_age_marital -> fig_age_bi\n",
    "    \"6_Bivar_Education_vs_Score\": fig_education_score,\n",
    "    \"7_Bivar_Age_vs_Income_Normalized\": fig_normalized,\n",
    "    \"8_Bivar_IncomeBins_vs_Score\": fig_income_score,\n",
    "    \"9_Bivar_HomeOwnership_vs_Score\": fig_moradia,\n",
    "\n",
    "    # Adicional\n",
    "    \"10_Add_Children_vs_Score\": fig_filhos,\n",
    "    \"11_Add_Gender_vs_Score\": fig_genero,\n",
    "    \"12_Add_MaritalStatus_vs_Score\": fig_marital\n",
    "}\n",
    "\n",
    "# ----------------------------------------------------------------------\n",
    "# 3. ROTINA DE SALVAMENTO PARA GRÁFICOS PLOTLY (PNG e HTML)\n",
    "# ----------------------------------------------------------------------\n",
    "\n",
    "print(\"\\nIniciando salvamento dos gráficos Plotly...\")\n",
    "for name, fig in figures_to_save.items():\n",
    "    \n",
    "    # Salva como PNG (Requer a biblioteca 'kaleido' instalada)\n",
    "    try:\n",
    "        png_path = os.path.join(OUTPUT_DIR, f\"{name}.png\")\n",
    "        fig.write_image(png_path)\n",
    "        print(f\"Salvo como PNG: {png_path}\")\n",
    "    except Exception as e:\n",
    "        # Captura erros comuns (como Kaleido não instalado) e avisa\n",
    "        print(f\"[AVISO] Erro ao salvar {name} como PNG. Salvando como HTML: {e}\")\n",
    "        \n",
    "    # Salva como HTML (Formato interativo e mais robusto)\n",
    "    html_path = os.path.join(OUTPUT_DIR, f\"{name}.html\")\n",
    "    fig.write_html(html_path)\n",
    "    print(f\"Salvo como HTML: {html_path}\")\n",
    "\n",
    "print(\"\\nProcesso de salvamento de todas as imagens Plotly concluído.\")\n"
   ]
  },
  {
   "cell_type": "code",
   "execution_count": null,
   "metadata": {},
   "outputs": [],
   "source": []
  }
 ],
 "metadata": {
  "colab": {
   "provenance": []
  },
  "kernelspec": {
   "display_name": "Python [conda env:base] *",
   "language": "python",
   "name": "conda-base-py"
  },
  "language_info": {
   "codemirror_mode": {
    "name": "ipython",
    "version": 3
   },
   "file_extension": ".py",
   "mimetype": "text/x-python",
   "name": "python",
   "nbconvert_exporter": "python",
   "pygments_lexer": "ipython3",
   "version": "3.13.5"
  }
 },
 "nbformat": 4,
 "nbformat_minor": 4
}
